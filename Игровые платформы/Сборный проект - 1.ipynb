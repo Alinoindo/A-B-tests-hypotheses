{
 "cells": [
  {
   "cell_type": "markdown",
   "metadata": {},
   "source": [
    "# Сборный проект"
   ]
  },
  {
   "cell_type": "markdown",
   "metadata": {},
   "source": [
    "**Описание проекта**"
   ]
  },
  {
   "cell_type": "markdown",
   "metadata": {},
   "source": [
    "Вы работаете в интернет-магазине «Стримчик», который продаёт по всему миру компьютерные игры. Из открытых источников доступны исторические данные о продажах игр, оценки пользователей и экспертов, жанры и платформы (например, Xbox или PlayStation)."
   ]
  },
  {
   "cell_type": "markdown",
   "metadata": {},
   "source": [
    "**Описание данных**\n",
    "\n",
    "- *Name* — название игры\n",
    "- *Platform* — платформа\n",
    "- *Year_of_Release* — год выпуска\n",
    "- *Genre* — жанр игры\n",
    "- *NA_sales* — продажи в Северной Америке (миллионы проданных копий)\n",
    "- *EU_sales* — продажи в Европе (миллионы проданных копий)\n",
    "- *JP_sales* — продажи в Японии (миллионы проданных копий)\n",
    "- *Other_sales* — продажи в других странах (миллионы проданных копий)\n",
    "- *Critic_Score* — оценка критиков (максимум 100)\n",
    "- *User_Score* — оценка пользователей (максимум 10)\n",
    "- *Rating* — рейтинг от организации ESRB (англ. Entertainment Software Rating Board). Эта ассоциация определяет рейтинг компьютерных игр и присваивает им подходящую возрастную категорию."
   ]
  },
  {
   "cell_type": "markdown",
   "metadata": {},
   "source": [
    "**Цель проекта**\n",
    "\n",
    "Нужно выявить определяющие успешность игры закономерности и отработать принцип работы с данными."
   ]
  },
  {
   "cell_type": "markdown",
   "metadata": {},
   "source": [
    "**Импортируем библиотеки**"
   ]
  },
  {
   "cell_type": "code",
   "execution_count": 1,
   "metadata": {},
   "outputs": [],
   "source": [
    "import pandas as pd\n",
    "import matplotlib.pyplot as plt\n",
    "import numpy as np\n",
    "from scipy import stats as st\n",
    "from scipy.stats import binom\n",
    "import seaborn as sns"
   ]
  },
  {
   "cell_type": "markdown",
   "metadata": {},
   "source": [
    "**Шаг 1. Откроем файл с данными и изучим общую информацию**"
   ]
  },
  {
   "cell_type": "code",
   "execution_count": 2,
   "metadata": {
    "scrolled": true
   },
   "outputs": [
    {
     "data": {
      "text/html": [
       "<div>\n",
       "<style scoped>\n",
       "    .dataframe tbody tr th:only-of-type {\n",
       "        vertical-align: middle;\n",
       "    }\n",
       "\n",
       "    .dataframe tbody tr th {\n",
       "        vertical-align: top;\n",
       "    }\n",
       "\n",
       "    .dataframe thead th {\n",
       "        text-align: right;\n",
       "    }\n",
       "</style>\n",
       "<table border=\"1\" class=\"dataframe\">\n",
       "  <thead>\n",
       "    <tr style=\"text-align: right;\">\n",
       "      <th></th>\n",
       "      <th>Name</th>\n",
       "      <th>Platform</th>\n",
       "      <th>Year_of_Release</th>\n",
       "      <th>Genre</th>\n",
       "      <th>NA_sales</th>\n",
       "      <th>EU_sales</th>\n",
       "      <th>JP_sales</th>\n",
       "      <th>Other_sales</th>\n",
       "      <th>Critic_Score</th>\n",
       "      <th>User_Score</th>\n",
       "      <th>Rating</th>\n",
       "    </tr>\n",
       "  </thead>\n",
       "  <tbody>\n",
       "    <tr>\n",
       "      <th>0</th>\n",
       "      <td>Wii Sports</td>\n",
       "      <td>Wii</td>\n",
       "      <td>2006.0</td>\n",
       "      <td>Sports</td>\n",
       "      <td>41.36</td>\n",
       "      <td>28.96</td>\n",
       "      <td>3.77</td>\n",
       "      <td>8.45</td>\n",
       "      <td>76.0</td>\n",
       "      <td>8</td>\n",
       "      <td>E</td>\n",
       "    </tr>\n",
       "    <tr>\n",
       "      <th>1</th>\n",
       "      <td>Super Mario Bros.</td>\n",
       "      <td>NES</td>\n",
       "      <td>1985.0</td>\n",
       "      <td>Platform</td>\n",
       "      <td>29.08</td>\n",
       "      <td>3.58</td>\n",
       "      <td>6.81</td>\n",
       "      <td>0.77</td>\n",
       "      <td>NaN</td>\n",
       "      <td>NaN</td>\n",
       "      <td>NaN</td>\n",
       "    </tr>\n",
       "    <tr>\n",
       "      <th>2</th>\n",
       "      <td>Mario Kart Wii</td>\n",
       "      <td>Wii</td>\n",
       "      <td>2008.0</td>\n",
       "      <td>Racing</td>\n",
       "      <td>15.68</td>\n",
       "      <td>12.76</td>\n",
       "      <td>3.79</td>\n",
       "      <td>3.29</td>\n",
       "      <td>82.0</td>\n",
       "      <td>8.3</td>\n",
       "      <td>E</td>\n",
       "    </tr>\n",
       "    <tr>\n",
       "      <th>3</th>\n",
       "      <td>Wii Sports Resort</td>\n",
       "      <td>Wii</td>\n",
       "      <td>2009.0</td>\n",
       "      <td>Sports</td>\n",
       "      <td>15.61</td>\n",
       "      <td>10.93</td>\n",
       "      <td>3.28</td>\n",
       "      <td>2.95</td>\n",
       "      <td>80.0</td>\n",
       "      <td>8</td>\n",
       "      <td>E</td>\n",
       "    </tr>\n",
       "    <tr>\n",
       "      <th>4</th>\n",
       "      <td>Pokemon Red/Pokemon Blue</td>\n",
       "      <td>GB</td>\n",
       "      <td>1996.0</td>\n",
       "      <td>Role-Playing</td>\n",
       "      <td>11.27</td>\n",
       "      <td>8.89</td>\n",
       "      <td>10.22</td>\n",
       "      <td>1.00</td>\n",
       "      <td>NaN</td>\n",
       "      <td>NaN</td>\n",
       "      <td>NaN</td>\n",
       "    </tr>\n",
       "  </tbody>\n",
       "</table>\n",
       "</div>"
      ],
      "text/plain": [
       "                       Name Platform  Year_of_Release         Genre  NA_sales  \\\n",
       "0                Wii Sports      Wii           2006.0        Sports     41.36   \n",
       "1         Super Mario Bros.      NES           1985.0      Platform     29.08   \n",
       "2            Mario Kart Wii      Wii           2008.0        Racing     15.68   \n",
       "3         Wii Sports Resort      Wii           2009.0        Sports     15.61   \n",
       "4  Pokemon Red/Pokemon Blue       GB           1996.0  Role-Playing     11.27   \n",
       "\n",
       "   EU_sales  JP_sales  Other_sales  Critic_Score User_Score Rating  \n",
       "0     28.96      3.77         8.45          76.0          8      E  \n",
       "1      3.58      6.81         0.77           NaN        NaN    NaN  \n",
       "2     12.76      3.79         3.29          82.0        8.3      E  \n",
       "3     10.93      3.28         2.95          80.0          8      E  \n",
       "4      8.89     10.22         1.00           NaN        NaN    NaN  "
      ]
     },
     "execution_count": 2,
     "metadata": {},
     "output_type": "execute_result"
    }
   ],
   "source": [
    "df = pd.read_csv('/datasets/games.csv')\n",
    "df.head()"
   ]
  },
  {
   "cell_type": "code",
   "execution_count": 3,
   "metadata": {},
   "outputs": [
    {
     "data": {
      "text/plain": [
       "Name                  2\n",
       "Platform              0\n",
       "Year_of_Release     269\n",
       "Genre                 2\n",
       "NA_sales              0\n",
       "EU_sales              0\n",
       "JP_sales              0\n",
       "Other_sales           0\n",
       "Critic_Score       8578\n",
       "User_Score         6701\n",
       "Rating             6766\n",
       "dtype: int64"
      ]
     },
     "execution_count": 3,
     "metadata": {},
     "output_type": "execute_result"
    }
   ],
   "source": [
    "df.isna().sum()"
   ]
  },
  {
   "cell_type": "code",
   "execution_count": 4,
   "metadata": {},
   "outputs": [
    {
     "name": "stdout",
     "output_type": "stream",
     "text": [
      "<class 'pandas.core.frame.DataFrame'>\n",
      "RangeIndex: 16715 entries, 0 to 16714\n",
      "Data columns (total 11 columns):\n",
      " #   Column           Non-Null Count  Dtype  \n",
      "---  ------           --------------  -----  \n",
      " 0   Name             16713 non-null  object \n",
      " 1   Platform         16715 non-null  object \n",
      " 2   Year_of_Release  16446 non-null  float64\n",
      " 3   Genre            16713 non-null  object \n",
      " 4   NA_sales         16715 non-null  float64\n",
      " 5   EU_sales         16715 non-null  float64\n",
      " 6   JP_sales         16715 non-null  float64\n",
      " 7   Other_sales      16715 non-null  float64\n",
      " 8   Critic_Score     8137 non-null   float64\n",
      " 9   User_Score       10014 non-null  object \n",
      " 10  Rating           9949 non-null   object \n",
      "dtypes: float64(6), object(5)\n",
      "memory usage: 1.4+ MB\n"
     ]
    }
   ],
   "source": [
    "df.info()"
   ]
  },
  {
   "cell_type": "markdown",
   "metadata": {},
   "source": [
    "Вывод: \n",
    "- датафрейм содержит 16715 записей\n",
    "- названия столбцов некорректные, нужно привести к нижнему регистру\n",
    "- в таблице есть пропуски\n",
    "- у некоторых столбцов некорректный тип данных."
   ]
  },
  {
   "cell_type": "markdown",
   "metadata": {},
   "source": [
    "**Шаг 2. Подготовим данные**"
   ]
  },
  {
   "cell_type": "markdown",
   "metadata": {},
   "source": [
    "*Заменим названия стобцов (приведем к нижнему регистру)*"
   ]
  },
  {
   "cell_type": "code",
   "execution_count": 5,
   "metadata": {},
   "outputs": [
    {
     "name": "stdout",
     "output_type": "stream",
     "text": [
      "<class 'pandas.core.frame.DataFrame'>\n",
      "RangeIndex: 16715 entries, 0 to 16714\n",
      "Data columns (total 11 columns):\n",
      " #   Column           Non-Null Count  Dtype  \n",
      "---  ------           --------------  -----  \n",
      " 0   name             16713 non-null  object \n",
      " 1   platform         16715 non-null  object \n",
      " 2   year_of_release  16446 non-null  float64\n",
      " 3   genre            16713 non-null  object \n",
      " 4   na_sales         16715 non-null  float64\n",
      " 5   eu_sales         16715 non-null  float64\n",
      " 6   jp_sales         16715 non-null  float64\n",
      " 7   other_sales      16715 non-null  float64\n",
      " 8   critic_score     8137 non-null   float64\n",
      " 9   user_score       10014 non-null  object \n",
      " 10  rating           9949 non-null   object \n",
      "dtypes: float64(6), object(5)\n",
      "memory usage: 1.4+ MB\n"
     ]
    }
   ],
   "source": [
    "df.columns = df.columns.str.lower()\n",
    "df.info()"
   ]
  },
  {
   "cell_type": "markdown",
   "metadata": {},
   "source": [
    "*Проведем поиск дубликатов*"
   ]
  },
  {
   "cell_type": "code",
   "execution_count": 6,
   "metadata": {},
   "outputs": [
    {
     "data": {
      "text/plain": [
       "0"
      ]
     },
     "execution_count": 6,
     "metadata": {},
     "output_type": "execute_result"
    }
   ],
   "source": [
    "df.duplicated().sum()"
   ]
  },
  {
   "cell_type": "code",
   "execution_count": 7,
   "metadata": {},
   "outputs": [
    {
     "data": {
      "text/plain": [
       "name               1\n",
       "platform           2\n",
       "year_of_release    2\n",
       "genre              1\n",
       "na_sales           2\n",
       "eu_sales           2\n",
       "jp_sales           2\n",
       "other_sales        2\n",
       "critic_score       1\n",
       "user_score         1\n",
       "rating             1\n",
       "dtype: int64"
      ]
     },
     "execution_count": 7,
     "metadata": {},
     "output_type": "execute_result"
    }
   ],
   "source": [
    "df[df.duplicated(['name', 'platform', 'year_of_release'])].count()"
   ]
  },
  {
   "cell_type": "code",
   "execution_count": 8,
   "metadata": {},
   "outputs": [
    {
     "data": {
      "text/plain": [
       "name               0\n",
       "platform           0\n",
       "year_of_release    0\n",
       "genre              0\n",
       "na_sales           0\n",
       "eu_sales           0\n",
       "jp_sales           0\n",
       "other_sales        0\n",
       "critic_score       0\n",
       "user_score         0\n",
       "rating             0\n",
       "dtype: int64"
      ]
     },
     "metadata": {},
     "output_type": "display_data"
    }
   ],
   "source": [
    "df = df.drop_duplicates(['name', 'platform', 'year_of_release'])\n",
    "display(df[df.duplicated(['name', 'platform', 'year_of_release'])].count())"
   ]
  },
  {
   "cell_type": "markdown",
   "metadata": {},
   "source": [
    "*Обработаем пропуски*"
   ]
  },
  {
   "cell_type": "code",
   "execution_count": 9,
   "metadata": {},
   "outputs": [
    {
     "data": {
      "text/plain": [
       "name                  1\n",
       "platform              0\n",
       "year_of_release     269\n",
       "genre                 1\n",
       "na_sales              0\n",
       "eu_sales              0\n",
       "jp_sales              0\n",
       "other_sales           0\n",
       "critic_score       8577\n",
       "user_score         6700\n",
       "rating             6765\n",
       "dtype: int64"
      ]
     },
     "execution_count": 9,
     "metadata": {},
     "output_type": "execute_result"
    }
   ],
   "source": [
    "df.isna().sum()"
   ]
  },
  {
   "cell_type": "code",
   "execution_count": 10,
   "metadata": {},
   "outputs": [
    {
     "data": {
      "text/plain": [
       "0"
      ]
     },
     "execution_count": 10,
     "metadata": {},
     "output_type": "execute_result"
    }
   ],
   "source": [
    "df = df.dropna(subset = ['name'])\n",
    "df['name'].isna().sum()"
   ]
  },
  {
   "cell_type": "markdown",
   "metadata": {},
   "source": [
    "*В данном столбце мы удалили строки с пропусками, так как их очень мало, на анализ они не повлияют.*"
   ]
  },
  {
   "cell_type": "code",
   "execution_count": 11,
   "metadata": {},
   "outputs": [
    {
     "data": {
      "text/plain": [
       "0"
      ]
     },
     "execution_count": 11,
     "metadata": {},
     "output_type": "execute_result"
    }
   ],
   "source": [
    "df = df.dropna(subset=['year_of_release'])\n",
    "df['year_of_release'].isna().sum()"
   ]
  },
  {
   "cell_type": "markdown",
   "metadata": {},
   "source": [
    "*Так же мы поступили со столбцом `year_of_release`.*"
   ]
  },
  {
   "cell_type": "code",
   "execution_count": 12,
   "metadata": {},
   "outputs": [
    {
     "data": {
      "text/plain": [
       "0"
      ]
     },
     "execution_count": 12,
     "metadata": {},
     "output_type": "execute_result"
    }
   ],
   "source": [
    "df = df.dropna(subset=['genre'])\n",
    "df['genre'].isna().sum()"
   ]
  },
  {
   "cell_type": "markdown",
   "metadata": {},
   "source": [
    "*И так же сделали с `genre`.*"
   ]
  },
  {
   "cell_type": "code",
   "execution_count": 13,
   "metadata": {},
   "outputs": [
    {
     "data": {
      "text/plain": [
       "0"
      ]
     },
     "execution_count": 13,
     "metadata": {},
     "output_type": "execute_result"
    }
   ],
   "source": [
    "df['critic_score'] = df['critic_score'].fillna(-1)\n",
    "df['critic_score'].isna().sum()"
   ]
  },
  {
   "cell_type": "markdown",
   "metadata": {},
   "source": [
    "*В данном столбце мы заменили пропуски на -1, так как методы `mean()` и `median()` могут привести к неверным данным.*"
   ]
  },
  {
   "cell_type": "code",
   "execution_count": 14,
   "metadata": {},
   "outputs": [
    {
     "data": {
      "text/plain": [
       "-1     6605\n",
       "tbd    2376\n",
       "7.8     322\n",
       "8       285\n",
       "8.2     276\n",
       "       ... \n",
       "0.9       2\n",
       "1         2\n",
       "1.1       2\n",
       "9.7       1\n",
       "0         1\n",
       "Name: user_score, Length: 97, dtype: int64"
      ]
     },
     "execution_count": 14,
     "metadata": {},
     "output_type": "execute_result"
    }
   ],
   "source": [
    "df['user_score'] = df['user_score'].fillna(-1)\n",
    "df['user_score'].value_counts()"
   ]
  },
  {
   "cell_type": "markdown",
   "metadata": {},
   "source": [
    "*Данный столбец имеет значение \"tbd\". Мы провели поиск этой аббревиатуры и выяснили, что это может значить \"будет определено позже\", то есть оценку еще не поставили. Так же присвоим значение -1, чтобы не допустить некорретных данных.*"
   ]
  },
  {
   "cell_type": "code",
   "execution_count": 15,
   "metadata": {},
   "outputs": [
    {
     "data": {
      "text/plain": [
       "-1     8981\n",
       "7.8     322\n",
       "8       285\n",
       "8.2     276\n",
       "8.3     252\n",
       "       ... \n",
       "0.2       2\n",
       "0.5       2\n",
       "0.7       2\n",
       "0         1\n",
       "9.7       1\n",
       "Name: user_score, Length: 96, dtype: int64"
      ]
     },
     "execution_count": 15,
     "metadata": {},
     "output_type": "execute_result"
    }
   ],
   "source": [
    "df.loc[df['user_score'] == 'tbd', 'user_score'] = -1\n",
    "df['user_score'].value_counts()"
   ]
  },
  {
   "cell_type": "code",
   "execution_count": 16,
   "metadata": {},
   "outputs": [
    {
     "data": {
      "text/plain": [
       "array(['E', nan, 'M', 'T', 'E10+', 'K-A', 'AO', 'EC', 'RP'], dtype=object)"
      ]
     },
     "execution_count": 16,
     "metadata": {},
     "output_type": "execute_result"
    }
   ],
   "source": [
    "df['rating'].unique()"
   ]
  },
  {
   "cell_type": "code",
   "execution_count": 17,
   "metadata": {},
   "outputs": [
    {
     "data": {
      "text/plain": [
       "array(['E', 'unknown', 'M', 'T', 'E10+', 'K-A', 'AO', 'EC', 'RP'],\n",
       "      dtype=object)"
      ]
     },
     "execution_count": 17,
     "metadata": {},
     "output_type": "execute_result"
    }
   ],
   "source": [
    "df['rating'] = df['rating'].fillna('unknown')\n",
    "df['rating'].unique()"
   ]
  },
  {
   "cell_type": "code",
   "execution_count": 18,
   "metadata": {},
   "outputs": [
    {
     "data": {
      "text/plain": [
       "name               0\n",
       "platform           0\n",
       "year_of_release    0\n",
       "genre              0\n",
       "na_sales           0\n",
       "eu_sales           0\n",
       "jp_sales           0\n",
       "other_sales        0\n",
       "critic_score       0\n",
       "user_score         0\n",
       "rating             0\n",
       "dtype: int64"
      ]
     },
     "execution_count": 18,
     "metadata": {},
     "output_type": "execute_result"
    }
   ],
   "source": [
    "df.isna().sum()"
   ]
  },
  {
   "cell_type": "markdown",
   "metadata": {},
   "source": [
    "*Пропуски обработаны.*"
   ]
  },
  {
   "cell_type": "markdown",
   "metadata": {},
   "source": [
    "*Преобразуем данные в нужные типы*"
   ]
  },
  {
   "cell_type": "code",
   "execution_count": 19,
   "metadata": {},
   "outputs": [
    {
     "name": "stdout",
     "output_type": "stream",
     "text": [
      "<class 'pandas.core.frame.DataFrame'>\n",
      "Int64Index: 16443 entries, 0 to 16714\n",
      "Data columns (total 11 columns):\n",
      " #   Column           Non-Null Count  Dtype  \n",
      "---  ------           --------------  -----  \n",
      " 0   name             16443 non-null  object \n",
      " 1   platform         16443 non-null  object \n",
      " 2   year_of_release  16443 non-null  Int64  \n",
      " 3   genre            16443 non-null  object \n",
      " 4   na_sales         16443 non-null  float64\n",
      " 5   eu_sales         16443 non-null  float64\n",
      " 6   jp_sales         16443 non-null  float64\n",
      " 7   other_sales      16443 non-null  float64\n",
      " 8   critic_score     16443 non-null  int64  \n",
      " 9   user_score       16443 non-null  float64\n",
      " 10  rating           16443 non-null  object \n",
      "dtypes: Int64(1), float64(5), int64(1), object(4)\n",
      "memory usage: 1.5+ MB\n"
     ]
    }
   ],
   "source": [
    "df['year_of_release'] = df['year_of_release'].astype('Int64')\n",
    "df['critic_score'] = df['critic_score'].astype('int')\n",
    "df['user_score'] = df['user_score'].astype('float')\n",
    "df.info()"
   ]
  },
  {
   "cell_type": "markdown",
   "metadata": {},
   "source": [
    "*В столбце `year_of_release` изменили тип данных на `int`, так как год выпуска - это целое число, которое не может иметь десятичных дробей. В столбце `user_score` содержатся числовые значения, с которыми в дальнейшем будут проводиться расчеты или сравнения, поэтому поменяли тип данных на float. У остальных столбцов корректный тип данных.*"
   ]
  },
  {
   "cell_type": "markdown",
   "metadata": {},
   "source": [
    "*Посчитаем суммарные продажи во всех регионах*"
   ]
  },
  {
   "cell_type": "code",
   "execution_count": 20,
   "metadata": {},
   "outputs": [
    {
     "data": {
      "text/html": [
       "<div>\n",
       "<style scoped>\n",
       "    .dataframe tbody tr th:only-of-type {\n",
       "        vertical-align: middle;\n",
       "    }\n",
       "\n",
       "    .dataframe tbody tr th {\n",
       "        vertical-align: top;\n",
       "    }\n",
       "\n",
       "    .dataframe thead th {\n",
       "        text-align: right;\n",
       "    }\n",
       "</style>\n",
       "<table border=\"1\" class=\"dataframe\">\n",
       "  <thead>\n",
       "    <tr style=\"text-align: right;\">\n",
       "      <th></th>\n",
       "      <th>name</th>\n",
       "      <th>platform</th>\n",
       "      <th>year_of_release</th>\n",
       "      <th>genre</th>\n",
       "      <th>na_sales</th>\n",
       "      <th>eu_sales</th>\n",
       "      <th>jp_sales</th>\n",
       "      <th>other_sales</th>\n",
       "      <th>critic_score</th>\n",
       "      <th>user_score</th>\n",
       "      <th>rating</th>\n",
       "      <th>total_sales</th>\n",
       "    </tr>\n",
       "  </thead>\n",
       "  <tbody>\n",
       "    <tr>\n",
       "      <th>0</th>\n",
       "      <td>Wii Sports</td>\n",
       "      <td>Wii</td>\n",
       "      <td>2006</td>\n",
       "      <td>Sports</td>\n",
       "      <td>41.36</td>\n",
       "      <td>28.96</td>\n",
       "      <td>3.77</td>\n",
       "      <td>8.45</td>\n",
       "      <td>76</td>\n",
       "      <td>8.0</td>\n",
       "      <td>E</td>\n",
       "      <td>82.54</td>\n",
       "    </tr>\n",
       "    <tr>\n",
       "      <th>1</th>\n",
       "      <td>Super Mario Bros.</td>\n",
       "      <td>NES</td>\n",
       "      <td>1985</td>\n",
       "      <td>Platform</td>\n",
       "      <td>29.08</td>\n",
       "      <td>3.58</td>\n",
       "      <td>6.81</td>\n",
       "      <td>0.77</td>\n",
       "      <td>-1</td>\n",
       "      <td>-1.0</td>\n",
       "      <td>unknown</td>\n",
       "      <td>40.24</td>\n",
       "    </tr>\n",
       "    <tr>\n",
       "      <th>2</th>\n",
       "      <td>Mario Kart Wii</td>\n",
       "      <td>Wii</td>\n",
       "      <td>2008</td>\n",
       "      <td>Racing</td>\n",
       "      <td>15.68</td>\n",
       "      <td>12.76</td>\n",
       "      <td>3.79</td>\n",
       "      <td>3.29</td>\n",
       "      <td>82</td>\n",
       "      <td>8.3</td>\n",
       "      <td>E</td>\n",
       "      <td>35.52</td>\n",
       "    </tr>\n",
       "    <tr>\n",
       "      <th>3</th>\n",
       "      <td>Wii Sports Resort</td>\n",
       "      <td>Wii</td>\n",
       "      <td>2009</td>\n",
       "      <td>Sports</td>\n",
       "      <td>15.61</td>\n",
       "      <td>10.93</td>\n",
       "      <td>3.28</td>\n",
       "      <td>2.95</td>\n",
       "      <td>80</td>\n",
       "      <td>8.0</td>\n",
       "      <td>E</td>\n",
       "      <td>32.77</td>\n",
       "    </tr>\n",
       "    <tr>\n",
       "      <th>4</th>\n",
       "      <td>Pokemon Red/Pokemon Blue</td>\n",
       "      <td>GB</td>\n",
       "      <td>1996</td>\n",
       "      <td>Role-Playing</td>\n",
       "      <td>11.27</td>\n",
       "      <td>8.89</td>\n",
       "      <td>10.22</td>\n",
       "      <td>1.00</td>\n",
       "      <td>-1</td>\n",
       "      <td>-1.0</td>\n",
       "      <td>unknown</td>\n",
       "      <td>31.38</td>\n",
       "    </tr>\n",
       "  </tbody>\n",
       "</table>\n",
       "</div>"
      ],
      "text/plain": [
       "                       name platform  year_of_release         genre  na_sales  \\\n",
       "0                Wii Sports      Wii             2006        Sports     41.36   \n",
       "1         Super Mario Bros.      NES             1985      Platform     29.08   \n",
       "2            Mario Kart Wii      Wii             2008        Racing     15.68   \n",
       "3         Wii Sports Resort      Wii             2009        Sports     15.61   \n",
       "4  Pokemon Red/Pokemon Blue       GB             1996  Role-Playing     11.27   \n",
       "\n",
       "   eu_sales  jp_sales  other_sales  critic_score  user_score   rating  \\\n",
       "0     28.96      3.77         8.45            76         8.0        E   \n",
       "1      3.58      6.81         0.77            -1        -1.0  unknown   \n",
       "2     12.76      3.79         3.29            82         8.3        E   \n",
       "3     10.93      3.28         2.95            80         8.0        E   \n",
       "4      8.89     10.22         1.00            -1        -1.0  unknown   \n",
       "\n",
       "   total_sales  \n",
       "0        82.54  \n",
       "1        40.24  \n",
       "2        35.52  \n",
       "3        32.77  \n",
       "4        31.38  "
      ]
     },
     "execution_count": 20,
     "metadata": {},
     "output_type": "execute_result"
    }
   ],
   "source": [
    "df['total_sales'] = df[['na_sales', 'eu_sales', 'jp_sales', 'other_sales']].sum(axis=1)\n",
    "df.head()"
   ]
  },
  {
   "cell_type": "markdown",
   "metadata": {},
   "source": [
    "Вывод: \n",
    "- дубликатов в таблице нет\n",
    "- привели названия столбцов к нижнему регистру\n",
    "- обработали пропуски\n",
    "- изменили тип данных\n",
    "- посчитали суммарные продажи во всех регионах\n",
    "- разобрали значение tbd (\"будет определено позже\", то есть оценку еще не поставили).\n",
    "\n",
    "Пропусками могли послужить человеческий фактор и сбои в программе."
   ]
  },
  {
   "cell_type": "code",
   "execution_count": 21,
   "metadata": {},
   "outputs": [
    {
     "name": "stdout",
     "output_type": "stream",
     "text": [
      "<class 'pandas.core.frame.DataFrame'>\n",
      "Int64Index: 16443 entries, 0 to 16714\n",
      "Data columns (total 12 columns):\n",
      " #   Column           Non-Null Count  Dtype  \n",
      "---  ------           --------------  -----  \n",
      " 0   name             16443 non-null  object \n",
      " 1   platform         16443 non-null  object \n",
      " 2   year_of_release  16443 non-null  Int64  \n",
      " 3   genre            16443 non-null  object \n",
      " 4   na_sales         16443 non-null  float64\n",
      " 5   eu_sales         16443 non-null  float64\n",
      " 6   jp_sales         16443 non-null  float64\n",
      " 7   other_sales      16443 non-null  float64\n",
      " 8   critic_score     16443 non-null  int64  \n",
      " 9   user_score       16443 non-null  float64\n",
      " 10  rating           16443 non-null  object \n",
      " 11  total_sales      16443 non-null  float64\n",
      "dtypes: Int64(1), float64(6), int64(1), object(4)\n",
      "memory usage: 1.6+ MB\n",
      "None\n",
      "-------------------------\n",
      "name [' Beyblade Burst' ' Fire Emblem Fates' \" Frozen: Olaf's Quest\" ...\n",
      " 'uDraw Studio' 'uDraw Studio: Instant Artist'\n",
      " '¡Shin Chan Flipa en colores!']\n",
      "name  : кол-во 0 0 , процент 0 0.0 %\n",
      "name : кол-во NaN 0 , процент NaN 0.0 %\n",
      "-------------------------\n",
      "platform ['2600' '3DO' '3DS' 'DC' 'DS' 'GB' 'GBA' 'GC' 'GEN' 'GG' 'N64' 'NES' 'NG'\n",
      " 'PC' 'PCFX' 'PS' 'PS2' 'PS3' 'PS4' 'PSP' 'PSV' 'SAT' 'SCD' 'SNES' 'TG16'\n",
      " 'WS' 'Wii' 'WiiU' 'X360' 'XB' 'XOne']\n",
      "platform  : кол-во 0 0 , процент 0 0.0 %\n",
      "platform : кол-во NaN 0 , процент NaN 0.0 %\n",
      "-------------------------\n",
      "year_of_release <IntegerArray>\n",
      "[1980, 1981, 1982, 1983, 1984, 1985, 1986, 1987, 1988, 1989, 1990, 1991, 1992,\n",
      " 1993, 1994, 1995, 1996, 1997, 1998, 1999, 2000, 2001, 2002, 2003, 2004, 2005,\n",
      " 2006, 2007, 2008, 2009, 2010, 2011, 2012, 2013, 2014, 2015, 2016]\n",
      "Length: 37, dtype: Int64\n",
      "year_of_release  : кол-во 0 0 , процент 0 0.0 %\n",
      "year_of_release : кол-во NaN 0 , процент NaN 0.0 %\n",
      "-------------------------\n",
      "genre ['Action' 'Adventure' 'Fighting' 'Misc' 'Platform' 'Puzzle' 'Racing'\n",
      " 'Role-Playing' 'Shooter' 'Simulation' 'Sports' 'Strategy']\n",
      "genre  : кол-во 0 0 , процент 0 0.0 %\n",
      "genre : кол-во NaN 0 , процент NaN 0.0 %\n",
      "-------------------------\n",
      "critic_score [-1 13 17 19 20 21 23 24 25 26 27 28 29 30 31 32 33 34 35 36 37 38 39 40\n",
      " 41 42 43 44 45 46 47 48 49 50 51 52 53 54 55 56 57 58 59 60 61 62 63 64\n",
      " 65 66 67 68 69 70 71 72 73 74 75 76 77 78 79 80 81 82 83 84 85 86 87 88\n",
      " 89 90 91 92 93 94 95 96 97 98]\n",
      "critic_score  : кол-во 0 0 , процент 0 0.0 %\n",
      "critic_score : кол-во NaN 0 , процент NaN 0.0 %\n",
      "-------------------------\n",
      "user_score [-1.   0.   0.2  0.3  0.5  0.6  0.7  0.9  1.   1.1  1.2  1.3  1.4  1.5\n",
      "  1.6  1.7  1.8  1.9  2.   2.1  2.2  2.3  2.4  2.5  2.6  2.7  2.8  2.9\n",
      "  3.   3.1  3.2  3.3  3.4  3.5  3.6  3.7  3.8  3.9  4.   4.1  4.2  4.3\n",
      "  4.4  4.5  4.6  4.7  4.8  4.9  5.   5.1  5.2  5.3  5.4  5.5  5.6  5.7\n",
      "  5.8  5.9  6.   6.1  6.2  6.3  6.4  6.5  6.6  6.7  6.8  6.9  7.   7.1\n",
      "  7.2  7.3  7.4  7.5  7.6  7.7  7.8  7.9  8.   8.1  8.2  8.3  8.4  8.5\n",
      "  8.6  8.7  8.8  8.9  9.   9.1  9.2  9.3  9.4  9.5  9.6  9.7]\n",
      "user_score  : кол-во 0 1 , процент 0 0.01 %\n",
      "user_score : кол-во NaN 0 , процент NaN 0.0 %\n",
      "-------------------------\n",
      "rating ['AO' 'E' 'E10+' 'EC' 'K-A' 'M' 'RP' 'T' 'unknown']\n",
      "rating  : кол-во 0 0 , процент 0 0.0 %\n",
      "rating : кол-во NaN 0 , процент NaN 0.0 %\n"
     ]
    }
   ],
   "source": [
    "# Комментарий ревьюера\n",
    "# Посмотрим, что у нас осталось\n",
    "temp = df.copy() \n",
    "list_c = ['name', 'platform', 'year_of_release', 'genre', 'critic_score', 'user_score', 'rating']\n",
    "print(temp.info())\n",
    "for col_l in list_c:\n",
    "  print('-'* 25)\n",
    "  print(col_l, temp[col_l].sort_values().unique())\n",
    "  print(col_l,' : кол-во 0', temp[temp[col_l] == 0][col_l].count(),\n",
    "        ', процент 0', round(temp[temp[col_l] == 0][col_l].count()/len(temp)*100, 2),'%')\n",
    "  print(col_l,': кол-во NaN',temp[col_l].isna().sum(),\n",
    "        ', процент NaN', round(temp[col_l].isna().mean()*100,2),'%') "
   ]
  },
  {
   "cell_type": "markdown",
   "metadata": {},
   "source": [
    "**Шаг 3. Проведем исследовательский анализ данных**"
   ]
  },
  {
   "cell_type": "markdown",
   "metadata": {},
   "source": [
    "**Посмотрим, сколько игр выпускалось в разные годы**"
   ]
  },
  {
   "cell_type": "code",
   "execution_count": 22,
   "metadata": {},
   "outputs": [
    {
     "data": {
      "text/plain": [
       "count    16443.000000\n",
       "mean      2006.485921\n",
       "std          5.875546\n",
       "min       1980.000000\n",
       "25%       2003.000000\n",
       "50%       2007.000000\n",
       "75%       2010.000000\n",
       "max       2016.000000\n",
       "Name: year_of_release, dtype: float64"
      ]
     },
     "execution_count": 22,
     "metadata": {},
     "output_type": "execute_result"
    }
   ],
   "source": [
    "df['year_of_release'].describe()"
   ]
  },
  {
   "cell_type": "code",
   "execution_count": 23,
   "metadata": {},
   "outputs": [
    {
     "data": {
      "image/png": "[encoded data removed]",
      "text/plain": [
       "<Figure size 720x360 with 1 Axes>"
      ]
     },
     "metadata": {
      "needs_background": "light"
     },
     "output_type": "display_data"
    }
   ],
   "source": [
    "(\n",
    "    df.pivot_table(index='year_of_release', values='name', aggfunc='count')\n",
    "    .plot(kind='bar', grid=True, figsize=(10, 5))\n",
    ")\n",
    "plt.title('Выпуск игр в разные годы')\n",
    "plt.xlabel('Год')\n",
    "plt.ylabel('Количество игр')\n",
    "plt.show()"
   ]
  },
  {
   "cell_type": "markdown",
   "metadata": {},
   "source": [
    "Вывод: по графику мы видим, что пик выпуска игр приходится на 2008-2009 годы. С 1992 года количество выпущенных игр только росло, за исключением пары лет. В то время качество игр становилось все лучше, а с приходом новым технологий графика, реализация идей и сюжетов только прогрессировала. Но после 2009 года довольно резко сократилось число выпуска."
   ]
  },
  {
   "cell_type": "markdown",
   "metadata": {},
   "source": [
    "**Посмотрим, как менялись продажи по платформам**"
   ]
  },
  {
   "cell_type": "code",
   "execution_count": 24,
   "metadata": {},
   "outputs": [
    {
     "data": {
      "image/png": "[encoded data removed]",
      "text/plain": [
       "<Figure size 720x360 with 1 Axes>"
      ]
     },
     "metadata": {
      "needs_background": "light"
     },
     "output_type": "display_data"
    }
   ],
   "source": [
    "(\n",
    "    df.pivot_table(index='platform', values='total_sales', aggfunc='sum')\n",
    "    .sort_values(by='total_sales', ascending=False)\n",
    "    .plot(kind='bar', grid=True, figsize=(10, 5))\n",
    ")\n",
    "plt.title('Как менялись продажи по платформам')\n",
    "plt.xlabel('Платформа')\n",
    "plt.ylabel('Количество продаж')\n",
    "plt.xticks(rotation=45)\n",
    "plt.show()"
   ]
  },
  {
   "cell_type": "markdown",
   "metadata": {},
   "source": [
    "Вывод: больше всего интернет-магазин продал игры на платформе PS2, за ней следуют X360, PS3, Wii, DS и PS4. Данные платформы довольно популярны, благодаря чему и пользовались спросом на игры."
   ]
  },
  {
   "cell_type": "code",
   "execution_count": 25,
   "metadata": {},
   "outputs": [
    {
     "data": {
      "text/plain": [
       "['PS2', 'X360', 'PS3', 'Wii', 'DS', 'PS']"
      ]
     },
     "execution_count": 25,
     "metadata": {},
     "output_type": "execute_result"
    }
   ],
   "source": [
    "sales_by_platform = df.pivot_table(index='platform', values='total_sales', aggfunc='sum').sort_values(by='total_sales', ascending=False).reset_index().head(6)['platform'].tolist()\n",
    "sales_by_platform"
   ]
  },
  {
   "cell_type": "code",
   "execution_count": 26,
   "metadata": {},
   "outputs": [
    {
     "data": {
      "image/png": "[encoded data removed]",
      "text/plain": [
       "<Figure size 792x504 with 1 Axes>"
      ]
     },
     "metadata": {
      "needs_background": "light"
     },
     "output_type": "display_data"
    }
   ],
   "source": [
    "filtered_df = df.query('platform in @sales_by_platform')\n",
    "sales_distribution = filtered_df.pivot_table(index='year_of_release', columns='platform', values='total_sales', aggfunc='sum')\n",
    "\n",
    "plt.figure(figsize=(11, 7))\n",
    "sns.lineplot(data=sales_distribution)\n",
    "plt.title('Платформы с максимальными продажами по годам')\n",
    "plt.xlabel('Год')\n",
    "plt.ylabel('Суммарные продажи')\n",
    "plt.legend(title='Платформа')\n",
    "plt.grid()\n",
    "plt.show()"
   ]
  },
  {
   "cell_type": "markdown",
   "metadata": {},
   "source": [
    "Вывод: судя по графику, каждая платформа имеет резкий рост продаж и резкий спад. Жизненный цикл платформ в среднем занимает 10 лет с начала появления на рынке продаж до ее исчезновения."
   ]
  },
  {
   "cell_type": "code",
   "execution_count": 27,
   "metadata": {},
   "outputs": [
    {
     "data": {
      "text/plain": [
       "7.0"
      ]
     },
     "execution_count": 27,
     "metadata": {},
     "output_type": "execute_result"
    }
   ],
   "source": [
    "# Комментарий ревьюера\n",
    "temp = df.copy() \n",
    "time_life = temp.pivot_table(index='platform', values='year_of_release', aggfunc=['min', 'max']).reset_index()\n",
    "time_life['life'] = time_life['max'] - time_life['min'] + 1 # в срок жизни платформы, должны входить границы диапазона, \n",
    "                                                            # поэтому +1\n",
    "time_life['life'].median()"
   ]
  },
  {
   "cell_type": "markdown",
   "metadata": {},
   "source": [
    "**Возьмем данные за 2013 год для последующего исследования. Данные за предыдущие года учитывать не будем.**"
   ]
  },
  {
   "cell_type": "markdown",
   "metadata": {},
   "source": [
    "**Какие платформы лидируют по продажам, растут или падают?**"
   ]
  },
  {
   "cell_type": "code",
   "execution_count": 28,
   "metadata": {},
   "outputs": [
    {
     "data": {
      "image/png": "[encoded data removed]",
      "text/plain": [
       "<Figure size 864x432 with 1 Axes>"
      ]
     },
     "metadata": {
      "needs_background": "light"
     },
     "output_type": "display_data"
    }
   ],
   "source": [
    "filtered_df = df[(df['year_of_release'] >= 2013)] # отфильтруем данные за актуальный период 2013-2016 год\n",
    "sales_by_platform = filtered_df.groupby(['year_of_release', 'platform'])['total_sales'].sum().reset_index()\n",
    "\n",
    "plt.figure(figsize=(12, 6))\n",
    "colors = {\n",
    "    '3DS': 'blue', \n",
    "    'DS': 'orange',   \n",
    "    'PC': 'green',\n",
    "    'PS3': 'red',\n",
    "    'PS4': 'purple',\n",
    "    'PSP': 'brown',\n",
    "    'PSV': 'pink',\n",
    "    'Wii': 'black',\n",
    "    'WiiU': 'yellow',\n",
    "    'X360': 'lightskyblue',\n",
    "    'XOne': 'gray'\n",
    "}\n",
    "\n",
    "for platform in sales_by_platform['platform'].unique():\n",
    "    platform_data = sales_by_platform[sales_by_platform['platform'] == platform]\n",
    "    plt.plot(platform_data['year_of_release'], platform_data['total_sales'], marker='o', label=platform, color=colors.get(platform, 'gray'))\n",
    "    \n",
    "plt.title('Продажи по платформам (2013-2016)')\n",
    "plt.xlabel('Год')\n",
    "plt.ylabel('Суммарные продажи')\n",
    "plt.xticks(sales_by_platform['year_of_release'].unique())\n",
    "plt.legend(title='Платформа')\n",
    "plt.grid()\n",
    "plt.show()"
   ]
  },
  {
   "cell_type": "markdown",
   "metadata": {},
   "source": [
    "Вывод: судя по графику лидируют платформы PS4 и XOne, но продажи резко снизились в 2015 году. На протяжении трех лет у всех остальных платформ наблюдается падение продаж."
   ]
  },
  {
   "cell_type": "markdown",
   "metadata": {},
   "source": [
    "**Построим график «ящик с усами» по глобальным продажам игр в разбивке по платформам**"
   ]
  },
  {
   "cell_type": "code",
   "execution_count": 29,
   "metadata": {},
   "outputs": [
    {
     "data": {
      "text/html": [
       "<div>\n",
       "<style scoped>\n",
       "    .dataframe tbody tr th:only-of-type {\n",
       "        vertical-align: middle;\n",
       "    }\n",
       "\n",
       "    .dataframe tbody tr th {\n",
       "        vertical-align: top;\n",
       "    }\n",
       "\n",
       "    .dataframe thead th {\n",
       "        text-align: right;\n",
       "    }\n",
       "</style>\n",
       "<table border=\"1\" class=\"dataframe\">\n",
       "  <thead>\n",
       "    <tr style=\"text-align: right;\">\n",
       "      <th></th>\n",
       "      <th>year_of_release</th>\n",
       "      <th>na_sales</th>\n",
       "      <th>eu_sales</th>\n",
       "      <th>jp_sales</th>\n",
       "      <th>other_sales</th>\n",
       "      <th>critic_score</th>\n",
       "      <th>user_score</th>\n",
       "      <th>total_sales</th>\n",
       "    </tr>\n",
       "  </thead>\n",
       "  <tbody>\n",
       "    <tr>\n",
       "      <th>count</th>\n",
       "      <td>2233.000000</td>\n",
       "      <td>2233.000000</td>\n",
       "      <td>2233.000000</td>\n",
       "      <td>2233.000000</td>\n",
       "      <td>2233.000000</td>\n",
       "      <td>2233.000000</td>\n",
       "      <td>2233.000000</td>\n",
       "      <td>2233.000000</td>\n",
       "    </tr>\n",
       "    <tr>\n",
       "      <th>mean</th>\n",
       "      <td>2014.477385</td>\n",
       "      <td>0.196019</td>\n",
       "      <td>0.175652</td>\n",
       "      <td>0.063045</td>\n",
       "      <td>0.053726</td>\n",
       "      <td>31.407524</td>\n",
       "      <td>3.048724</td>\n",
       "      <td>0.488442</td>\n",
       "    </tr>\n",
       "    <tr>\n",
       "      <th>std</th>\n",
       "      <td>1.089439</td>\n",
       "      <td>0.547730</td>\n",
       "      <td>0.512451</td>\n",
       "      <td>0.233997</td>\n",
       "      <td>0.165693</td>\n",
       "      <td>37.282494</td>\n",
       "      <td>3.963069</td>\n",
       "      <td>1.235226</td>\n",
       "    </tr>\n",
       "    <tr>\n",
       "      <th>min</th>\n",
       "      <td>2013.000000</td>\n",
       "      <td>0.000000</td>\n",
       "      <td>0.000000</td>\n",
       "      <td>0.000000</td>\n",
       "      <td>0.000000</td>\n",
       "      <td>-1.000000</td>\n",
       "      <td>-1.000000</td>\n",
       "      <td>0.010000</td>\n",
       "    </tr>\n",
       "    <tr>\n",
       "      <th>25%</th>\n",
       "      <td>2014.000000</td>\n",
       "      <td>0.000000</td>\n",
       "      <td>0.000000</td>\n",
       "      <td>0.000000</td>\n",
       "      <td>0.000000</td>\n",
       "      <td>-1.000000</td>\n",
       "      <td>-1.000000</td>\n",
       "      <td>0.030000</td>\n",
       "    </tr>\n",
       "    <tr>\n",
       "      <th>50%</th>\n",
       "      <td>2014.000000</td>\n",
       "      <td>0.020000</td>\n",
       "      <td>0.030000</td>\n",
       "      <td>0.010000</td>\n",
       "      <td>0.010000</td>\n",
       "      <td>-1.000000</td>\n",
       "      <td>3.500000</td>\n",
       "      <td>0.110000</td>\n",
       "    </tr>\n",
       "    <tr>\n",
       "      <th>75%</th>\n",
       "      <td>2015.000000</td>\n",
       "      <td>0.150000</td>\n",
       "      <td>0.130000</td>\n",
       "      <td>0.050000</td>\n",
       "      <td>0.040000</td>\n",
       "      <td>72.000000</td>\n",
       "      <td>7.100000</td>\n",
       "      <td>0.400000</td>\n",
       "    </tr>\n",
       "    <tr>\n",
       "      <th>max</th>\n",
       "      <td>2016.000000</td>\n",
       "      <td>9.660000</td>\n",
       "      <td>9.090000</td>\n",
       "      <td>4.350000</td>\n",
       "      <td>3.960000</td>\n",
       "      <td>97.000000</td>\n",
       "      <td>9.300000</td>\n",
       "      <td>21.050000</td>\n",
       "    </tr>\n",
       "  </tbody>\n",
       "</table>\n",
       "</div>"
      ],
      "text/plain": [
       "       year_of_release     na_sales     eu_sales     jp_sales  other_sales  \\\n",
       "count      2233.000000  2233.000000  2233.000000  2233.000000  2233.000000   \n",
       "mean       2014.477385     0.196019     0.175652     0.063045     0.053726   \n",
       "std           1.089439     0.547730     0.512451     0.233997     0.165693   \n",
       "min        2013.000000     0.000000     0.000000     0.000000     0.000000   \n",
       "25%        2014.000000     0.000000     0.000000     0.000000     0.000000   \n",
       "50%        2014.000000     0.020000     0.030000     0.010000     0.010000   \n",
       "75%        2015.000000     0.150000     0.130000     0.050000     0.040000   \n",
       "max        2016.000000     9.660000     9.090000     4.350000     3.960000   \n",
       "\n",
       "       critic_score   user_score  total_sales  \n",
       "count   2233.000000  2233.000000  2233.000000  \n",
       "mean      31.407524     3.048724     0.488442  \n",
       "std       37.282494     3.963069     1.235226  \n",
       "min       -1.000000    -1.000000     0.010000  \n",
       "25%       -1.000000    -1.000000     0.030000  \n",
       "50%       -1.000000     3.500000     0.110000  \n",
       "75%       72.000000     7.100000     0.400000  \n",
       "max       97.000000     9.300000    21.050000  "
      ]
     },
     "execution_count": 29,
     "metadata": {},
     "output_type": "execute_result"
    }
   ],
   "source": [
    "filtered_df.describe()"
   ]
  },
  {
   "cell_type": "code",
   "execution_count": 30,
   "metadata": {},
   "outputs": [
    {
     "data": {
      "image/png": "[encoded data removed]",
      "text/plain": [
       "<Figure size 864x576 with 1 Axes>"
      ]
     },
     "metadata": {
      "needs_background": "light"
     },
     "output_type": "display_data"
    }
   ],
   "source": [
    "filtered_df.boxplot(by='platform', column=['total_sales'], figsize=(12, 8))\n",
    "plt.ylim(0,2)\n",
    "plt.title('Глобальные продажи игр')\n",
    "plt.xlabel('Платформа')\n",
    "plt.ylabel('Суммарные продажи')\n",
    "plt.show()"
   ]
  },
  {
   "cell_type": "markdown",
   "metadata": {},
   "source": [
    "Вывод: платформа X360 больше всех выделяется, потому что медиана и третий квартиль выше остальных платформ. Максимальная точка выше всех имеется у PS4. Недалеко находится XOne и Wii. Как мы видим, выбросы есть у всех платформ, кроме DS."
   ]
  },
  {
   "cell_type": "markdown",
   "metadata": {},
   "source": [
    "**Посмотрим, как влияют на продажи внутри одной популярной платформы отзывы пользователей и критиков. Построим диаграмму рассеяния и посчитаем корреляцию между отзывами и продажами.**"
   ]
  },
  {
   "cell_type": "code",
   "execution_count": 32,
   "metadata": {},
   "outputs": [
    {
     "data": {
      "image/png": "[encoded data removed]",
      "text/plain": [
       "<Figure size 720x432 with 1 Axes>"
      ]
     },
     "metadata": {
      "needs_background": "light"
     },
     "output_type": "display_data"
    },
    {
     "data": {
      "image/png": "[encoded data removed]",
      "text/plain": [
       "<Figure size 720x432 with 1 Axes>"
      ]
     },
     "metadata": {
      "needs_background": "light"
     },
     "output_type": "display_data"
    }
   ],
   "source": [
    "filtered_ps4 = filtered_df[filtered_df.platform == \"PS4\"] # Выберем PS4\n",
    "user_score_filtered = filtered_ps4[filtered_ps4.user_score != -1]\n",
    "\n",
    "user_score_filtered.plot(kind='scatter', x='user_score', y='total_sales', figsize=(10, 6))\n",
    "plt.title('Оценки пользователей и продажи на PS4')\n",
    "plt.xlabel('Оценка пользователей')\n",
    "plt.ylabel('Продажи')\n",
    "plt.grid()\n",
    "plt.show()\n",
    "                                   \n",
    "critic_score_filtered = filtered_ps4[filtered_ps4.critic_score != -1]\n",
    "\n",
    "critic_score_filtered.plot(kind='scatter', x='critic_score', y='total_sales', figsize=(10, 6))\n",
    "plt.title('Оценки критиков и продажи на PS4')\n",
    "plt.xlabel('Оценка критиков')\n",
    "plt.ylabel('Продажи')\n",
    "plt.grid()\n",
    "plt.show()"
   ]
  },
  {
   "cell_type": "code",
   "execution_count": 33,
   "metadata": {},
   "outputs": [
    {
     "data": {
      "text/html": [
       "<div>\n",
       "<style scoped>\n",
       "    .dataframe tbody tr th:only-of-type {\n",
       "        vertical-align: middle;\n",
       "    }\n",
       "\n",
       "    .dataframe tbody tr th {\n",
       "        vertical-align: top;\n",
       "    }\n",
       "\n",
       "    .dataframe thead th {\n",
       "        text-align: right;\n",
       "    }\n",
       "</style>\n",
       "<table border=\"1\" class=\"dataframe\">\n",
       "  <thead>\n",
       "    <tr style=\"text-align: right;\">\n",
       "      <th></th>\n",
       "      <th>total_sales</th>\n",
       "      <th>user_score</th>\n",
       "    </tr>\n",
       "  </thead>\n",
       "  <tbody>\n",
       "    <tr>\n",
       "      <th>total_sales</th>\n",
       "      <td>1.00000</td>\n",
       "      <td>-0.02834</td>\n",
       "    </tr>\n",
       "    <tr>\n",
       "      <th>user_score</th>\n",
       "      <td>-0.02834</td>\n",
       "      <td>1.00000</td>\n",
       "    </tr>\n",
       "  </tbody>\n",
       "</table>\n",
       "</div>"
      ],
      "text/plain": [
       "             total_sales  user_score\n",
       "total_sales      1.00000    -0.02834\n",
       "user_score      -0.02834     1.00000"
      ]
     },
     "execution_count": 33,
     "metadata": {},
     "output_type": "execute_result"
    }
   ],
   "source": [
    "user_corr = user_score_filtered[['total_sales', 'user_score']].corr(method='spearman')\n",
    "user_corr"
   ]
  },
  {
   "cell_type": "code",
   "execution_count": 34,
   "metadata": {},
   "outputs": [
    {
     "data": {
      "text/html": [
       "<div>\n",
       "<style scoped>\n",
       "    .dataframe tbody tr th:only-of-type {\n",
       "        vertical-align: middle;\n",
       "    }\n",
       "\n",
       "    .dataframe tbody tr th {\n",
       "        vertical-align: top;\n",
       "    }\n",
       "\n",
       "    .dataframe thead th {\n",
       "        text-align: right;\n",
       "    }\n",
       "</style>\n",
       "<table border=\"1\" class=\"dataframe\">\n",
       "  <thead>\n",
       "    <tr style=\"text-align: right;\">\n",
       "      <th></th>\n",
       "      <th>total_sales</th>\n",
       "      <th>critic_score</th>\n",
       "    </tr>\n",
       "  </thead>\n",
       "  <tbody>\n",
       "    <tr>\n",
       "      <th>total_sales</th>\n",
       "      <td>1.000000</td>\n",
       "      <td>0.508238</td>\n",
       "    </tr>\n",
       "    <tr>\n",
       "      <th>critic_score</th>\n",
       "      <td>0.508238</td>\n",
       "      <td>1.000000</td>\n",
       "    </tr>\n",
       "  </tbody>\n",
       "</table>\n",
       "</div>"
      ],
      "text/plain": [
       "              total_sales  critic_score\n",
       "total_sales      1.000000      0.508238\n",
       "critic_score     0.508238      1.000000"
      ]
     },
     "execution_count": 34,
     "metadata": {},
     "output_type": "execute_result"
    }
   ],
   "source": [
    "critic_corr = critic_score_filtered[['total_sales', 'critic_score']].corr(method='spearman')\n",
    "critic_corr"
   ]
  },
  {
   "cell_type": "markdown",
   "metadata": {},
   "source": [
    "Вывод: между оценками пользователей/критиков и продажами на платформе PS4 нет сильной зависимости. Но мы можем сказать, что оценка критиков имеет гораздо больший вес, чем оценка пользователей. "
   ]
  },
  {
   "cell_type": "markdown",
   "metadata": {},
   "source": [
    "**Соотнесем выводы с продажами игр на других платформах.**"
   ]
  },
  {
   "cell_type": "markdown",
   "metadata": {},
   "source": [
    "*Построим диаграммы рассеяния для других платформ с оценкой пользователей и продажами*"
   ]
  },
  {
   "cell_type": "code",
   "execution_count": 35,
   "metadata": {
    "scrolled": false
   },
   "outputs": [
    {
     "name": "stdout",
     "output_type": "stream",
     "text": [
      "Корреляция между оценками пользователей и продажами по платформе XOne  = -0.06892505328279414\n"
     ]
    },
    {
     "data": {
      "image/png": "[encoded data removed]",
      "text/plain": [
       "<Figure size 720x360 with 1 Axes>"
      ]
     },
     "metadata": {
      "needs_background": "light"
     },
     "output_type": "display_data"
    },
    {
     "name": "stdout",
     "output_type": "stream",
     "text": [
      "Корреляция между оценками пользователей и продажами по платформе PC  = -0.0938418695247674\n"
     ]
    },
    {
     "data": {
      "image/png": "[encoded data removed]",
      "text/plain": [
       "<Figure size 720x360 with 1 Axes>"
      ]
     },
     "metadata": {
      "needs_background": "light"
     },
     "output_type": "display_data"
    },
    {
     "name": "stdout",
     "output_type": "stream",
     "text": [
      "Корреляция между оценками пользователей и продажами по платформе WiiU  = 0.4193304819266187\n"
     ]
    },
    {
     "data": {
      "image/png": "[encoded data removed]",
      "text/plain": [
       "<Figure size 720x360 with 1 Axes>"
      ]
     },
     "metadata": {
      "needs_background": "light"
     },
     "output_type": "display_data"
    },
    {
     "name": "stdout",
     "output_type": "stream",
     "text": [
      "Корреляция между оценками пользователей и продажами по платформе 3DS  = 0.24150411773563016\n"
     ]
    },
    {
     "data": {
      "image/png": "[encoded data removed]",
      "text/plain": [
       "<Figure size 720x360 with 1 Axes>"
      ]
     },
     "metadata": {
      "needs_background": "light"
     },
     "output_type": "display_data"
    },
    {
     "name": "stdout",
     "output_type": "stream",
     "text": [
      "Корреляция между оценками пользователей и продажами по платформе PSV  = 0.0009424723319108626\n"
     ]
    },
    {
     "data": {
      "image/png": "[encoded data removed]",
      "text/plain": [
       "<Figure size 720x360 with 1 Axes>"
      ]
     },
     "metadata": {
      "needs_background": "light"
     },
     "output_type": "display_data"
    }
   ],
   "source": [
    "other_platforms = ['XOne','PC','WiiU','3DS', 'PSV']\n",
    "\n",
    "for b in other_platforms:\n",
    "    (\n",
    "    filtered_df.query('platform == @b and user_score > -1')\n",
    "        .plot(x='user_score', \n",
    "          y='total_sales', \n",
    "          kind='scatter', \n",
    "          figsize=(10, 5))\n",
    "    )\n",
    "    plt.xlabel('Оценка пользователей')\n",
    "    plt.ylabel('Продажи')\n",
    "    plt.legend([b])\n",
    "    print(f'Корреляция между оценками пользователей и продажами по платформе {b}  =', filtered_df.query('platform == @b and user_score > -1')['user_score'].corr(filtered_df.query('platform == @b and user_score > -1')['total_sales']))\n",
    "    plt.show()"
   ]
  },
  {
   "cell_type": "markdown",
   "metadata": {},
   "source": [
    "*Построим диаграммы рассеяния с оценкой критиков и продажами*"
   ]
  },
  {
   "cell_type": "code",
   "execution_count": 36,
   "metadata": {},
   "outputs": [
    {
     "name": "stdout",
     "output_type": "stream",
     "text": [
      "Корреляция между оценками критиков и продажами по платформе XOne  = 0.4169983280084017\n"
     ]
    },
    {
     "data": {
      "image/png": "[encoded data removed]",
      "text/plain": [
       "<Figure size 720x360 with 1 Axes>"
      ]
     },
     "metadata": {
      "needs_background": "light"
     },
     "output_type": "display_data"
    },
    {
     "name": "stdout",
     "output_type": "stream",
     "text": [
      "Корреляция между оценками критиков и продажами по платформе PC  = 0.19603028294369382\n"
     ]
    },
    {
     "data": {
      "image/png": "[encoded data removed]",
      "text/plain": [
       "<Figure size 720x360 with 1 Axes>"
      ]
     },
     "metadata": {
      "needs_background": "light"
     },
     "output_type": "display_data"
    },
    {
     "name": "stdout",
     "output_type": "stream",
     "text": [
      "Корреляция между оценками критиков и продажами по платформе WiiU  = 0.3764149065423912\n"
     ]
    },
    {
     "data": {
      "image/png": "[encoded data removed]",
      "text/plain": [
       "<Figure size 720x360 with 1 Axes>"
      ]
     },
     "metadata": {
      "needs_background": "light"
     },
     "output_type": "display_data"
    },
    {
     "name": "stdout",
     "output_type": "stream",
     "text": [
      "Корреляция между оценками критиков и продажами по платформе 3DS  = 0.3570566142288103\n"
     ]
    },
    {
     "data": {
      "image/png": "[encoded data removed]",
      "text/plain": [
       "<Figure size 720x360 with 1 Axes>"
      ]
     },
     "metadata": {
      "needs_background": "light"
     },
     "output_type": "display_data"
    },
    {
     "name": "stdout",
     "output_type": "stream",
     "text": [
      "Корреляция между оценками критиков и продажами по платформе PSV  = 0.2547423503068656\n"
     ]
    },
    {
     "data": {
      "image/png": "[encoded data removed]",
      "text/plain": [
       "<Figure size 720x360 with 1 Axes>"
      ]
     },
     "metadata": {
      "needs_background": "light"
     },
     "output_type": "display_data"
    }
   ],
   "source": [
    "for b in other_platforms:\n",
    "    (\n",
    "    filtered_df.query('platform == @b and critic_score > -1')\n",
    "        .plot(x='critic_score', \n",
    "          y='total_sales', \n",
    "          kind='scatter', \n",
    "          figsize=(10, 5))\n",
    "    )\n",
    "    plt.xlabel('Оценка пользователей')\n",
    "    plt.ylabel('Продажи')\n",
    "    plt.legend([b])\n",
    "    print(f'Корреляция между оценками критиков и продажами по платформе {b}  =', filtered_df.query('platform == @b and critic_score > -1')['critic_score'].corr(filtered_df.query('platform == @b and critic_score > -1')['total_sales']))\n",
    "    plt.show()"
   ]
  },
  {
   "cell_type": "markdown",
   "metadata": {},
   "source": [
    "*Проведем корреляцию для тех же платформ*"
   ]
  },
  {
   "cell_type": "code",
   "execution_count": 37,
   "metadata": {},
   "outputs": [
    {
     "name": "stdout",
     "output_type": "stream",
     "text": [
      "991\n",
      "1192\n",
      "976\n"
     ]
    }
   ],
   "source": [
    "# Комментарий ревьюера 4\n",
    "print(len(filtered_df.query(\"critic_score > -1\")))\n",
    "print(len(filtered_df.query(\"user_score > -1\")))\n",
    "print(len(filtered_df.query(\"critic_score > -1 & user_score > -1\")))"
   ]
  },
  {
   "cell_type": "markdown",
   "metadata": {},
   "source": [
    "Вывод: слабая связь между оценками и продажами наблюдается у всех исследуемых платформ, но среди них можно выделить WiiU и PSV, корреляция между оценками пользователей и продаж которых гораздо выше других. То же касается и корреляции между оценками критиков и продажами у тех же платформ."
   ]
  },
  {
   "cell_type": "markdown",
   "metadata": {},
   "source": [
    "**Посмотрим на общее распределение игр по жанрам. Что можно сказать о самых прибыльных жанрах? Выделяются ли жанры с высокими и низкими продажами?**"
   ]
  },
  {
   "cell_type": "code",
   "execution_count": 38,
   "metadata": {
    "scrolled": false
   },
   "outputs": [
    {
     "data": {
      "image/png": "[encoded data removed]",
      "text/plain": [
       "<Figure size 720x360 with 1 Axes>"
      ]
     },
     "metadata": {
      "needs_background": "light"
     },
     "output_type": "display_data"
    }
   ],
   "source": [
    "(\n",
    "    filtered_df.pivot_table(index='genre', values='total_sales', aggfunc='sum')\n",
    "    .sort_values(by='total_sales', ascending=False)\n",
    "    .plot(kind='bar', grid=True, figsize=(10, 5))\n",
    ")\n",
    "plt.title('Прибыльные жанры')\n",
    "plt.xlabel('Жанры')\n",
    "plt.ylabel('Продажи')\n",
    "plt.xticks(rotation=45)\n",
    "plt.show()"
   ]
  },
  {
   "cell_type": "code",
   "execution_count": 39,
   "metadata": {
    "scrolled": false
   },
   "outputs": [
    {
     "data": {
      "image/png": "[encoded data removed]",
      "text/plain": [
       "<Figure size 864x576 with 1 Axes>"
      ]
     },
     "metadata": {
      "needs_background": "light"
     },
     "output_type": "display_data"
    }
   ],
   "source": [
    "filtered_df.boxplot(by='genre', column=['total_sales'], figsize=(12, 8))\n",
    "plt.ylim(0,2)\n",
    "plt.title('Продаваемость жанров')\n",
    "plt.xlabel('Жанр')\n",
    "plt.ylabel('Продажи')\n",
    "plt.show()"
   ]
  },
  {
   "cell_type": "markdown",
   "metadata": {},
   "source": [
    "Вывод: в период с 2013 по 2016 год жанр Action является самым продаваемым жанром, но Shooter является самым прибыльным жанром. Action - широкоиспользуемый жанр во многих играх, а Shooter - самый популярный. Жанр Puzzle выделяется среди других жанров своей низкой продаваемостью, а Adventure - своей непопулярностью. Возможно, это связано с тем, что вряд ли геймеру захочется переиграть игры этих жанров, как это может быть, например, с Shooter."
   ]
  },
  {
   "cell_type": "markdown",
   "metadata": {},
   "source": [
    "Вывод по 3 шагу: \n",
    "- пик выпуска игр приходится на 2008-2009 годы. С 1992 года наблюдается рост количества выпущенных игр\n",
    "- больше всего продала игр платформа PS2\n",
    "- жизненный цикл платформ в среднем занимает 10 лет\n",
    "- с 2013 года лидируют платформы PS4 и XOne, но продажи резко снизились в 2015 году\n",
    "- продажи слабо зависят от оценок, но оценка критиков имеет гораздо больший вес, чем оценка пользователей\n",
    "- в период с 2013 по 2016 год жанр Action является самым продаваемым жанром, но Shooter является самым прибыльным жанром."
   ]
  },
  {
   "cell_type": "markdown",
   "metadata": {},
   "source": [
    "**Шаг 4. Составим портрет пользователя каждого региона**"
   ]
  },
  {
   "cell_type": "markdown",
   "metadata": {},
   "source": [
    "**Определим для пользователя каждого региона (NA, EU, JP):**\n",
    "- Самые популярные платформы (топ-5)."
   ]
  },
  {
   "cell_type": "code",
   "execution_count": 40,
   "metadata": {},
   "outputs": [
    {
     "data": {
      "image/png": "[encoded data removed]",
      "text/plain": [
       "<Figure size 1080x360 with 3 Axes>"
      ]
     },
     "metadata": {
      "needs_background": "light"
     },
     "output_type": "display_data"
    }
   ],
   "source": [
    "na = filtered_df.groupby('platform')['na_sales'].agg(na='sum').nlargest(5, 'na').reset_index()\n",
    "eu = filtered_df.groupby('platform')['eu_sales'].agg(eu='sum').nlargest(5, 'eu').reset_index()\n",
    "jp = filtered_df.groupby('platform')['jp_sales'].agg(jp='sum').nlargest(5, 'jp').reset_index()\n",
    "\n",
    "fig, ax = plt.subplots(1, 3, figsize=(15, 5))\n",
    "fig.suptitle('Продажи по платформам')\n",
    "\n",
    "sns.barplot(y='na', x='platform', data=na, ax=ax[0])\n",
    "ax[0].set_title('Северная Америка')\n",
    "ax[0].set_ylabel('Продажи')\n",
    "ax[0].set_xlabel('Платформа')\n",
    "\n",
    "sns.barplot(y='eu', x='platform', data=eu, ax=ax[1])\n",
    "ax[1].set_title('Европа')\n",
    "ax[1].set_ylabel('Продажи')\n",
    "ax[1].set_xlabel('Платформа')\n",
    "\n",
    "sns.barplot(y='jp', x='platform', data=jp, ax=ax[2])\n",
    "ax[2].set_title('Япония')\n",
    "ax[2].set_ylabel('Продажи')\n",
    "ax[2].set_xlabel('Платформа')\n",
    "plt.show()"
   ]
  },
  {
   "cell_type": "markdown",
   "metadata": {},
   "source": [
    "Вывод: в Северной Америке и Европе PS4 занимает первое место, а в Японии - это 3DS. А в Северной Америке и Европе 3DS занимает последнее место. В Японии на последнем месте стоит WiiU."
   ]
  },
  {
   "cell_type": "markdown",
   "metadata": {},
   "source": [
    "- Самые популярные жанры (топ-5). "
   ]
  },
  {
   "cell_type": "code",
   "execution_count": 41,
   "metadata": {},
   "outputs": [
    {
     "data": {
      "image/png": "[encoded data removed]",
      "text/plain": [
       "<Figure size 1080x360 with 3 Axes>"
      ]
     },
     "metadata": {
      "needs_background": "light"
     },
     "output_type": "display_data"
    }
   ],
   "source": [
    "na = filtered_df.groupby('genre')['na_sales'].agg(na='sum').nlargest(5, 'na').reset_index()\n",
    "eu = filtered_df.groupby('genre')['eu_sales'].agg(eu='sum').nlargest(5, 'eu').reset_index()\n",
    "jp = filtered_df.groupby('genre')['jp_sales'].agg(jp='sum').nlargest(5, 'jp').reset_index()\n",
    "\n",
    "fig, ax = plt.subplots(1, 3, figsize=(15, 5))\n",
    "fig.suptitle('Продажи по жанрам')\n",
    "\n",
    "sns.barplot(y='na', x='genre', data=na, ax=ax[0])\n",
    "ax[0].set_title('Северная Америка')\n",
    "ax[0].set_ylabel('Продажи')\n",
    "ax[0].set_xlabel('Жанр')\n",
    "\n",
    "sns.barplot(y='eu', x='genre', data=eu, ax=ax[1])\n",
    "ax[1].set_title('Европа')\n",
    "ax[1].set_ylabel('Продажи')\n",
    "ax[1].set_xlabel('Жанр')\n",
    "\n",
    "sns.barplot(y='jp', x='genre', data=jp, ax=ax[2])\n",
    "ax[2].set_title('Япония')\n",
    "ax[2].set_ylabel('Продажи')\n",
    "ax[2].set_xlabel('Жанр')\n",
    "plt.show()"
   ]
  },
  {
   "cell_type": "markdown",
   "metadata": {},
   "source": [
    "Вывод: жанр Action занял первое место по продажам в Северной Америке и Европе, а в Японии это Role-Playing. Последние места занимают Misc в Северной Америке, Racing - в Европе, и Shooter - в Японии."
   ]
  },
  {
   "cell_type": "markdown",
   "metadata": {},
   "source": [
    "- Влияет ли рейтинг ESRB на продажи в отдельном регионе?"
   ]
  },
  {
   "cell_type": "code",
   "execution_count": 42,
   "metadata": {},
   "outputs": [
    {
     "data": {
      "image/png": "[encoded data removed]",
      "text/plain": [
       "<Figure size 1080x360 with 3 Axes>"
      ]
     },
     "metadata": {
      "needs_background": "light"
     },
     "output_type": "display_data"
    }
   ],
   "source": [
    "na = filtered_df.groupby('rating')['na_sales'].agg(na='sum').nlargest(5, 'na').reset_index()\n",
    "eu = filtered_df.groupby('rating')['eu_sales'].agg(eu='sum').nlargest(5, 'eu').reset_index()\n",
    "jp = filtered_df.groupby('rating')['jp_sales'].agg(jp='sum').nlargest(5, 'jp').reset_index()\n",
    "\n",
    "fig, ax = plt.subplots(1, 3, figsize=(15, 5))\n",
    "fig.suptitle('Рейтинг продаж')\n",
    "\n",
    "sns.barplot(y='na', x='rating', data=na, ax=ax[0])\n",
    "ax[0].set_title('Северная Америка')\n",
    "ax[0].set_ylabel('Продажи')\n",
    "ax[0].set_xlabel('Рейтинг')\n",
    "\n",
    "sns.barplot(y='eu', x='rating', data=eu, ax=ax[1])\n",
    "ax[1].set_title('Европа')\n",
    "ax[1].set_ylabel('Продажи')\n",
    "ax[1].set_xlabel('Рейтинг')\n",
    "\n",
    "sns.barplot(y='jp', x='rating', data=jp, ax=ax[2])\n",
    "ax[2].set_title('Япония')\n",
    "ax[2].set_ylabel('Продажи')\n",
    "ax[2].set_xlabel('Рейтинг')\n",
    "plt.show()"
   ]
  },
  {
   "cell_type": "markdown",
   "metadata": {},
   "source": [
    "Расшифровка рейтинга возрастной категории:\n",
    "- EC - Для детей младшего возраста.\n",
    "- E - Подходит для всех возрастных категорий.\n",
    "- E10+ - Подходит для лиц старше 10 лет. \n",
    "- T - Подходит для лиц старше 13 лет.\n",
    "- M - Подходит для лиц старше 17 лет.\n",
    "- AO - Подходит для взрослых старше 18 лет. \n",
    "- RP - Категория ещё не присвоена."
   ]
  },
  {
   "cell_type": "markdown",
   "metadata": {},
   "source": [
    "Вывод: в Северной Америке и Европе первое место занял рейтинг M (для лиц старше 17 лет), в Японии - T (для лиц старше 13 лет), так как категория, занимающая первое месте, еще не определена. В это же время категория T стоит на последнем месте в Северной Америке и Европе. В Японии на последнем месте стоит рейтинг E10+ (для лиц старше 10 лет)."
   ]
  },
  {
   "cell_type": "markdown",
   "metadata": {},
   "source": [
    "Вывод по 4 шагу: портрет пользователя в Северной Америке и Европе очень похож. Пользователи данных стран предпочитают играть на платформе PS4, игры жанра Action и возрастную категорию старше 17 лет. В Японии портрет пользователя совершенно отличается - предпочтение отдается игровой платформе 3DS, играм жанра Role-Playing не определенной возрастной категории."
   ]
  },
  {
   "cell_type": "markdown",
   "metadata": {},
   "source": [
    "**Шаг 5. Проверим гипотезы**"
   ]
  },
  {
   "cell_type": "markdown",
   "metadata": {},
   "source": [
    "- H0: Средние пользовательские рейтинги платформ Xbox One и PC одинаковые\n",
    "- H1: Средние пользовательские рейтинги платформ Xbox One и PC разные"
   ]
  },
  {
   "cell_type": "code",
   "execution_count": 43,
   "metadata": {},
   "outputs": [
    {
     "name": "stdout",
     "output_type": "stream",
     "text": [
      "p-значение: 0.14759594013430463\n",
      "Не получилось отвергнуть нулевую гипотезу\n"
     ]
    }
   ],
   "source": [
    "xbox_rating = filtered_df.query('platform == \"XOne\" and user_score > 0')\n",
    "pc_rating = filtered_df.query('platform == \"PC\" and user_score > 0')\n",
    "\n",
    "results = st.ttest_ind(xbox_rating['user_score'], pc_rating['user_score'], equal_var=False, alternative='two-sided')\n",
    "print('p-значение:', results.pvalue)\n",
    "\n",
    "alpha = 0.05\n",
    "if results.pvalue < alpha:\n",
    "    print('Отвергаем нулевую гипотезу')\n",
    "else:\n",
    "    print('Не получилось отвергнуть нулевую гипотезу')"
   ]
  },
  {
   "cell_type": "code",
   "execution_count": 44,
   "metadata": {},
   "outputs": [
    {
     "data": {
      "text/plain": [
       "count    182.000000\n",
       "mean       6.521429\n",
       "std        1.380941\n",
       "min        1.600000\n",
       "25%        5.800000\n",
       "50%        6.800000\n",
       "75%        7.500000\n",
       "max        9.200000\n",
       "Name: user_score, dtype: float64"
      ]
     },
     "execution_count": 44,
     "metadata": {},
     "output_type": "execute_result"
    }
   ],
   "source": [
    "xbox_rating['user_score'].describe()"
   ]
  },
  {
   "cell_type": "code",
   "execution_count": 45,
   "metadata": {},
   "outputs": [
    {
     "data": {
      "text/plain": [
       "count    155.000000\n",
       "mean       6.269677\n",
       "std        1.742381\n",
       "min        1.400000\n",
       "25%        5.300000\n",
       "50%        6.800000\n",
       "75%        7.600000\n",
       "max        9.300000\n",
       "Name: user_score, dtype: float64"
      ]
     },
     "execution_count": 45,
     "metadata": {},
     "output_type": "execute_result"
    }
   ],
   "source": [
    "pc_rating['user_score'].describe()"
   ]
  },
  {
   "cell_type": "markdown",
   "metadata": {},
   "source": [
    "Вывод: не отвергаем нулевую гипотезу, значит может имеем право полагать, что средние пользовательские рейтинги платформ Xbox One и PC одинаковые при пороговом значении 0,05."
   ]
  },
  {
   "cell_type": "code",
   "execution_count": 46,
   "metadata": {},
   "outputs": [
    {
     "data": {
      "text/html": [
       "<div>\n",
       "<style scoped>\n",
       "    .dataframe tbody tr th:only-of-type {\n",
       "        vertical-align: middle;\n",
       "    }\n",
       "\n",
       "    .dataframe tbody tr th {\n",
       "        vertical-align: top;\n",
       "    }\n",
       "\n",
       "    .dataframe thead th {\n",
       "        text-align: right;\n",
       "    }\n",
       "</style>\n",
       "<table border=\"1\" class=\"dataframe\">\n",
       "  <thead>\n",
       "    <tr style=\"text-align: right;\">\n",
       "      <th></th>\n",
       "      <th>platform</th>\n",
       "      <th>user_score</th>\n",
       "    </tr>\n",
       "  </thead>\n",
       "  <tbody>\n",
       "    <tr>\n",
       "      <th>6</th>\n",
       "      <td>PSV</td>\n",
       "      <td>7.527273</td>\n",
       "    </tr>\n",
       "    <tr>\n",
       "      <th>8</th>\n",
       "      <td>WiiU</td>\n",
       "      <td>7.017500</td>\n",
       "    </tr>\n",
       "    <tr>\n",
       "      <th>0</th>\n",
       "      <td>3DS</td>\n",
       "      <td>6.976250</td>\n",
       "    </tr>\n",
       "    <tr>\n",
       "      <th>4</th>\n",
       "      <td>PS4</td>\n",
       "      <td>6.748249</td>\n",
       "    </tr>\n",
       "    <tr>\n",
       "      <th>10</th>\n",
       "      <td>XOne</td>\n",
       "      <td>6.521429</td>\n",
       "    </tr>\n",
       "    <tr>\n",
       "      <th>3</th>\n",
       "      <td>PS3</td>\n",
       "      <td>6.348387</td>\n",
       "    </tr>\n",
       "    <tr>\n",
       "      <th>2</th>\n",
       "      <td>PC</td>\n",
       "      <td>6.269677</td>\n",
       "    </tr>\n",
       "    <tr>\n",
       "      <th>9</th>\n",
       "      <td>X360</td>\n",
       "      <td>5.993007</td>\n",
       "    </tr>\n",
       "    <tr>\n",
       "      <th>5</th>\n",
       "      <td>PSP</td>\n",
       "      <td>5.850000</td>\n",
       "    </tr>\n",
       "    <tr>\n",
       "      <th>7</th>\n",
       "      <td>Wii</td>\n",
       "      <td>5.257143</td>\n",
       "    </tr>\n",
       "    <tr>\n",
       "      <th>1</th>\n",
       "      <td>DS</td>\n",
       "      <td>4.800000</td>\n",
       "    </tr>\n",
       "  </tbody>\n",
       "</table>\n",
       "</div>"
      ],
      "text/plain": [
       "   platform  user_score\n",
       "6       PSV    7.527273\n",
       "8      WiiU    7.017500\n",
       "0       3DS    6.976250\n",
       "4       PS4    6.748249\n",
       "10     XOne    6.521429\n",
       "3       PS3    6.348387\n",
       "2        PC    6.269677\n",
       "9      X360    5.993007\n",
       "5       PSP    5.850000\n",
       "7       Wii    5.257143\n",
       "1        DS    4.800000"
      ]
     },
     "metadata": {},
     "output_type": "display_data"
    }
   ],
   "source": [
    "filtered_scores = filtered_df[filtered_df['user_score'] > 0]\n",
    "mean_score_by_platform = filtered_scores.groupby('platform')['user_score'].mean().reset_index()\n",
    "mean_score_by_platform = mean_score_by_platform.sort_values(by='user_score', ascending=False)\n",
    "display(mean_score_by_platform)"
   ]
  },
  {
   "cell_type": "markdown",
   "metadata": {},
   "source": [
    "Проверим еще одну гипотезу:\n",
    "- H0: Средние пользовательские рейтинги жанров Action (англ. «действие», экшен-игры) и Sports (англ. «спортивные соревнования») одинаковые.\n",
    "- H1: Средние пользовательские рейтинги жанров Action (англ. «действие», экшен-игры) и Sports (англ. «спортивные соревнования») разные."
   ]
  },
  {
   "cell_type": "code",
   "execution_count": 47,
   "metadata": {},
   "outputs": [
    {
     "name": "stdout",
     "output_type": "stream",
     "text": [
      "p-значение: 1.4460039700704315e-20\n",
      "Отвергаем нулевую гипотезу\n"
     ]
    }
   ],
   "source": [
    "action_rating = filtered_df.query('genre == \"Action\" and user_score > 0')\n",
    "sports_rating = filtered_df.query('genre == \"Sports\" and user_score > 0')\n",
    "\n",
    "results = st.ttest_ind(action_rating['user_score'], sports_rating['user_score'], equal_var=False, alternative='two-sided')\n",
    "print('p-значение:', results.pvalue)\n",
    "\n",
    "alpha = 0.05\n",
    "if results.pvalue < alpha:\n",
    "    print('Отвергаем нулевую гипотезу')\n",
    "else:\n",
    "    print('Не получилось отвергнуть нулевую гипотезу')"
   ]
  },
  {
   "cell_type": "code",
   "execution_count": 48,
   "metadata": {},
   "outputs": [
    {
     "data": {
      "text/plain": [
       "count    389.000000\n",
       "mean       6.837532\n",
       "std        1.330173\n",
       "min        2.000000\n",
       "25%        6.300000\n",
       "50%        7.100000\n",
       "75%        7.800000\n",
       "max        9.100000\n",
       "Name: user_score, dtype: float64"
      ]
     },
     "execution_count": 48,
     "metadata": {},
     "output_type": "execute_result"
    }
   ],
   "source": [
    "action_rating['user_score'].describe()"
   ]
  },
  {
   "cell_type": "code",
   "execution_count": 49,
   "metadata": {},
   "outputs": [
    {
     "data": {
      "text/plain": [
       "count    160.000000\n",
       "mean       5.238125\n",
       "std        1.783427\n",
       "min        0.200000\n",
       "25%        4.100000\n",
       "50%        5.500000\n",
       "75%        6.500000\n",
       "max        8.800000\n",
       "Name: user_score, dtype: float64"
      ]
     },
     "execution_count": 49,
     "metadata": {},
     "output_type": "execute_result"
    }
   ],
   "source": [
    "sports_rating['user_score'].describe()"
   ]
  },
  {
   "cell_type": "markdown",
   "metadata": {},
   "source": [
    "Вывод: отвергаем нулевую гипотезу, соответственно, мы можем сказать, что средние пользовательские рейтинги жанров Action и Sports разные при пороговом значении 0,05."
   ]
  },
  {
   "cell_type": "code",
   "execution_count": 50,
   "metadata": {},
   "outputs": [
    {
     "data": {
      "text/html": [
       "<div>\n",
       "<style scoped>\n",
       "    .dataframe tbody tr th:only-of-type {\n",
       "        vertical-align: middle;\n",
       "    }\n",
       "\n",
       "    .dataframe tbody tr th {\n",
       "        vertical-align: top;\n",
       "    }\n",
       "\n",
       "    .dataframe thead th {\n",
       "        text-align: right;\n",
       "    }\n",
       "</style>\n",
       "<table border=\"1\" class=\"dataframe\">\n",
       "  <thead>\n",
       "    <tr style=\"text-align: right;\">\n",
       "      <th></th>\n",
       "      <th>genre</th>\n",
       "      <th>user_score</th>\n",
       "    </tr>\n",
       "  </thead>\n",
       "  <tbody>\n",
       "    <tr>\n",
       "      <th>5</th>\n",
       "      <td>Puzzle</td>\n",
       "      <td>7.471429</td>\n",
       "    </tr>\n",
       "    <tr>\n",
       "      <th>1</th>\n",
       "      <td>Adventure</td>\n",
       "      <td>7.461667</td>\n",
       "    </tr>\n",
       "    <tr>\n",
       "      <th>7</th>\n",
       "      <td>Role-Playing</td>\n",
       "      <td>7.376471</td>\n",
       "    </tr>\n",
       "    <tr>\n",
       "      <th>2</th>\n",
       "      <td>Fighting</td>\n",
       "      <td>7.037500</td>\n",
       "    </tr>\n",
       "    <tr>\n",
       "      <th>3</th>\n",
       "      <td>Misc</td>\n",
       "      <td>6.975000</td>\n",
       "    </tr>\n",
       "    <tr>\n",
       "      <th>0</th>\n",
       "      <td>Action</td>\n",
       "      <td>6.837532</td>\n",
       "    </tr>\n",
       "    <tr>\n",
       "      <th>4</th>\n",
       "      <td>Platform</td>\n",
       "      <td>6.713793</td>\n",
       "    </tr>\n",
       "    <tr>\n",
       "      <th>8</th>\n",
       "      <td>Shooter</td>\n",
       "      <td>6.342308</td>\n",
       "    </tr>\n",
       "    <tr>\n",
       "      <th>11</th>\n",
       "      <td>Strategy</td>\n",
       "      <td>6.183333</td>\n",
       "    </tr>\n",
       "    <tr>\n",
       "      <th>6</th>\n",
       "      <td>Racing</td>\n",
       "      <td>6.080000</td>\n",
       "    </tr>\n",
       "    <tr>\n",
       "      <th>9</th>\n",
       "      <td>Simulation</td>\n",
       "      <td>6.054839</td>\n",
       "    </tr>\n",
       "    <tr>\n",
       "      <th>10</th>\n",
       "      <td>Sports</td>\n",
       "      <td>5.238125</td>\n",
       "    </tr>\n",
       "  </tbody>\n",
       "</table>\n",
       "</div>"
      ],
      "text/plain": [
       "           genre  user_score\n",
       "5         Puzzle    7.471429\n",
       "1      Adventure    7.461667\n",
       "7   Role-Playing    7.376471\n",
       "2       Fighting    7.037500\n",
       "3           Misc    6.975000\n",
       "0         Action    6.837532\n",
       "4       Platform    6.713793\n",
       "8        Shooter    6.342308\n",
       "11      Strategy    6.183333\n",
       "6         Racing    6.080000\n",
       "9     Simulation    6.054839\n",
       "10        Sports    5.238125"
      ]
     },
     "metadata": {},
     "output_type": "display_data"
    }
   ],
   "source": [
    "filtered_scores = filtered_df[filtered_df['user_score'] > 0]\n",
    "mean_score_by_genre = filtered_scores.groupby('genre')['user_score'].mean().reset_index()\n",
    "mean_score_by_genre = mean_score_by_genre.sort_values(by='user_score', ascending=False)\n",
    "display(mean_score_by_genre)"
   ]
  },
  {
   "cell_type": "markdown",
   "metadata": {},
   "source": [
    "Пояснения: \n",
    "- Как вы сформулировали нулевую и альтернативную гипотезы: если значений в выборке много (30 и больше), то распределение Стьюдента настолько близко к нормальному, что можно было бы просто взять нормальное распределение без степеней свободы.\n",
    "- Какой критерий применили для проверки гипотез и почему: мы применяли статистический тест на равенство среднего генеральной совокупности с использованием t-теста (распределение Стьюдента)."
   ]
  },
  {
   "cell_type": "markdown",
   "metadata": {},
   "source": [
    "**Шаг 6. Общий вывод**"
   ]
  },
  {
   "cell_type": "markdown",
   "metadata": {},
   "source": [
    "В ходе анализа данных интернет-магазина \"Стримчик\" были выполнены следующие шаги:\n",
    "\n",
    "1. Изучена общая информация\n",
    "- датафрейм содержит 16715 записей\n",
    "- названия столбцов некорректные, нужно привести к нижнему регистру\n",
    "- в таблице есть пропуски\n",
    "- у некоторых столбцов некорректный тип данных.\n",
    "\n",
    "2. Подготовка данных\n",
    "- дубликатов в таблице нет\n",
    "- привели названия столбцов к нижнему регистру\n",
    "- обработали пропуски\n",
    "- изменили тип данных\n",
    "- посчитали суммарные продажи во всех регионах\n",
    "- разобрали значение tbd (\"будет определено позже\", то есть оценку еще не поставили).\n",
    "\n",
    "    Пропусками могли послужить человеческий фактор и сбои в программе.\n",
    "    \n",
    "3. Провели исследовательский анализ данных\n",
    "- пик выпуска игр приходится на 2008-2009 годы. С 1992 года наблюдается рост количества выпущенных игр\n",
    "- больше всего продала игр платформа PS2\n",
    "- жизненный цикл платформ в среднем занимает 10 лет\n",
    "- с 2013 года лидируют платформы PS4 и XOne, но продажи резко снизились в 2015 году\n",
    "- продажи слабо зависят от оценок, но оценка критиков имеет гораздо больший вес, чем оценка пользователей\n",
    "- в период с 2013 по 2016 год жанр Action является самым продаваемым жанром, но Shooter является самым прибыльным жанром.\n",
    "\n",
    "4. Составили портрет пользователя каждого региона\n",
    "    Портрет пользователя в Северной Америке и Европе очень похож. Пользователи данных стран предпочитают играть на платформе PS4, игры жанра Action и возрастную категорию старше 17 лет. В Японии портрет пользователя совершенно отличается - предпочтение отдается игровой платформе 3DS, играм жанра Role-Playing не определенной возрастной категории.\n",
    "    \n",
    "    \n",
    "5. Не отвергаем нулевую гипотезу, значит может имеем право полагать, что средние пользовательские рейтинги платформ Xbox One и PC одинаковые при пороговом значении 0,05.  отвергаем нулевую гипотезу, соответственно, мы можем сказать, что средние пользовательские рейтинги жанров Action и Sports разные при пороговом значении 0,05.\n",
    "\n",
    "В 2017 году интернет-магазин \"Стимчик\" может спланировать рекламную кампанию в отношении игр возрастной категории M (для Северной Америки и Европы), T (для Японии), E (для Европы) и жанра Action и Shooter, отличительные черты которых являются активный геймплей и сражения, так как они в последнее время набирают все большую популярность. Также можно выделить деньги на рекламную кампанию на платформы PS4 (для геймеров в Северной Америке и Европе) и 3DS (в Японии). Реклама жанра Action отлично подойдет для всех регионов, а Shooter - для Северной Америки и Европы. Если хватит рекламного бюджета, можно еще пропрекламировать Role-Playing для пользователей Японии. Вдобавок, не всегда стоит обращать внимание на отзывы пользователей, так как они не влияют на продаваемость и популярность игры, но можно прислушаться к критикам, они дают более информативные оценки."
   ]
  }
 ],
 "metadata": {
  "ExecuteTimeLog": [
   {
    "duration": 1399,
    "start_time": "2024-09-18T06:38:14.017Z"
   },
   {
    "duration": 206,
    "start_time": "2024-09-18T06:39:26.508Z"
   },
   {
    "duration": 74,
    "start_time": "2024-09-18T06:39:36.431Z"
   },
   {
    "duration": 72,
    "start_time": "2024-09-18T06:39:43.264Z"
   },
   {
    "duration": 5,
    "start_time": "2024-09-18T06:48:54.365Z"
   },
   {
    "duration": 21,
    "start_time": "2024-09-18T06:49:05.113Z"
   },
   {
    "duration": 22,
    "start_time": "2024-09-18T06:50:07.723Z"
   },
   {
    "duration": 15,
    "start_time": "2024-09-18T06:50:23.857Z"
   },
   {
    "duration": 67,
    "start_time": "2024-09-18T06:50:56.528Z"
   },
   {
    "duration": 67,
    "start_time": "2024-09-18T06:51:02.393Z"
   },
   {
    "duration": 15,
    "start_time": "2024-09-18T06:51:11.511Z"
   },
   {
    "duration": 15,
    "start_time": "2024-09-18T06:55:12.296Z"
   },
   {
    "duration": 10,
    "start_time": "2024-09-18T07:01:43.828Z"
   },
   {
    "duration": 21,
    "start_time": "2024-09-18T07:02:00.788Z"
   },
   {
    "duration": 14,
    "start_time": "2024-09-18T07:02:19.659Z"
   },
   {
    "duration": 11,
    "start_time": "2024-09-18T07:06:34.352Z"
   },
   {
    "duration": 1143,
    "start_time": "2024-09-18T07:07:46.483Z"
   },
   {
    "duration": 72,
    "start_time": "2024-09-18T07:07:47.628Z"
   },
   {
    "duration": 9,
    "start_time": "2024-09-18T07:07:47.701Z"
   },
   {
    "duration": 15,
    "start_time": "2024-09-18T07:07:47.712Z"
   },
   {
    "duration": 14,
    "start_time": "2024-09-18T07:07:47.729Z"
   },
   {
    "duration": 26,
    "start_time": "2024-09-18T07:07:47.744Z"
   },
   {
    "duration": 6,
    "start_time": "2024-09-18T07:09:34.308Z"
   },
   {
    "duration": 22,
    "start_time": "2024-09-18T07:11:08.651Z"
   },
   {
    "duration": 13,
    "start_time": "2024-09-18T07:11:14.855Z"
   },
   {
    "duration": 7,
    "start_time": "2024-09-18T07:11:22.834Z"
   },
   {
    "duration": 8,
    "start_time": "2024-09-18T07:11:33.133Z"
   },
   {
    "duration": 7,
    "start_time": "2024-09-18T07:11:45.501Z"
   },
   {
    "duration": 34,
    "start_time": "2024-09-18T07:17:57.211Z"
   },
   {
    "duration": 10,
    "start_time": "2024-09-18T07:26:13.134Z"
   },
   {
    "duration": 10,
    "start_time": "2024-09-18T07:30:54.768Z"
   },
   {
    "duration": 6,
    "start_time": "2024-09-18T07:34:24.323Z"
   },
   {
    "duration": 11,
    "start_time": "2024-09-18T07:34:42.484Z"
   },
   {
    "duration": 11,
    "start_time": "2024-09-18T07:35:21.823Z"
   },
   {
    "duration": 1155,
    "start_time": "2024-09-18T07:35:52.907Z"
   },
   {
    "duration": 78,
    "start_time": "2024-09-18T07:35:54.064Z"
   },
   {
    "duration": 10,
    "start_time": "2024-09-18T07:35:54.144Z"
   },
   {
    "duration": 25,
    "start_time": "2024-09-18T07:35:54.156Z"
   },
   {
    "duration": 14,
    "start_time": "2024-09-18T07:35:54.183Z"
   },
   {
    "duration": 37,
    "start_time": "2024-09-18T07:35:54.199Z"
   },
   {
    "duration": 12,
    "start_time": "2024-09-18T07:35:54.238Z"
   },
   {
    "duration": 7,
    "start_time": "2024-09-18T07:35:54.251Z"
   },
   {
    "duration": 10,
    "start_time": "2024-09-18T07:35:54.260Z"
   },
   {
    "duration": 6,
    "start_time": "2024-09-18T07:35:54.272Z"
   },
   {
    "duration": 5,
    "start_time": "2024-09-18T07:36:09.735Z"
   },
   {
    "duration": 7,
    "start_time": "2024-09-18T07:37:56.307Z"
   },
   {
    "duration": 6,
    "start_time": "2024-09-18T07:38:02.120Z"
   },
   {
    "duration": 5,
    "start_time": "2024-09-18T07:41:23.888Z"
   },
   {
    "duration": 5,
    "start_time": "2024-09-18T07:41:26.075Z"
   },
   {
    "duration": 5,
    "start_time": "2024-09-18T07:41:39.887Z"
   },
   {
    "duration": 5,
    "start_time": "2024-09-18T07:41:40.440Z"
   },
   {
    "duration": 1212,
    "start_time": "2024-09-18T07:41:52.197Z"
   },
   {
    "duration": 74,
    "start_time": "2024-09-18T07:41:53.411Z"
   },
   {
    "duration": 10,
    "start_time": "2024-09-18T07:41:53.487Z"
   },
   {
    "duration": 18,
    "start_time": "2024-09-18T07:41:53.499Z"
   },
   {
    "duration": 15,
    "start_time": "2024-09-18T07:41:53.518Z"
   },
   {
    "duration": 26,
    "start_time": "2024-09-18T07:41:53.535Z"
   },
   {
    "duration": 10,
    "start_time": "2024-09-18T07:41:53.563Z"
   },
   {
    "duration": 6,
    "start_time": "2024-09-18T07:41:53.575Z"
   },
   {
    "duration": 12,
    "start_time": "2024-09-18T07:41:53.583Z"
   },
   {
    "duration": 6,
    "start_time": "2024-09-18T07:41:53.620Z"
   },
   {
    "duration": 18,
    "start_time": "2024-09-18T07:41:53.627Z"
   },
   {
    "duration": 20,
    "start_time": "2024-09-18T07:41:53.647Z"
   },
   {
    "duration": 7,
    "start_time": "2024-09-18T07:42:37.245Z"
   },
   {
    "duration": 16,
    "start_time": "2024-09-18T07:44:10.111Z"
   },
   {
    "duration": 16,
    "start_time": "2024-09-18T07:47:15.217Z"
   },
   {
    "duration": 7,
    "start_time": "2024-09-18T07:49:52.982Z"
   },
   {
    "duration": 1194,
    "start_time": "2024-09-18T07:49:59.609Z"
   },
   {
    "duration": 72,
    "start_time": "2024-09-18T07:50:00.804Z"
   },
   {
    "duration": 10,
    "start_time": "2024-09-18T07:50:00.878Z"
   },
   {
    "duration": 32,
    "start_time": "2024-09-18T07:50:00.890Z"
   },
   {
    "duration": 21,
    "start_time": "2024-09-18T07:50:00.924Z"
   },
   {
    "duration": 29,
    "start_time": "2024-09-18T07:50:00.947Z"
   },
   {
    "duration": 76,
    "start_time": "2024-09-18T07:50:00.977Z"
   },
   {
    "duration": 11,
    "start_time": "2024-09-18T07:50:01.055Z"
   },
   {
    "duration": 46,
    "start_time": "2024-09-18T07:50:01.067Z"
   },
   {
    "duration": 25,
    "start_time": "2024-09-18T07:50:01.116Z"
   },
   {
    "duration": 32,
    "start_time": "2024-09-18T07:50:01.143Z"
   },
   {
    "duration": 64,
    "start_time": "2024-09-18T07:50:01.177Z"
   },
   {
    "duration": 7,
    "start_time": "2024-09-18T07:50:57.777Z"
   },
   {
    "duration": 1204,
    "start_time": "2024-09-18T07:51:05.597Z"
   },
   {
    "duration": 72,
    "start_time": "2024-09-18T07:51:06.803Z"
   },
   {
    "duration": 9,
    "start_time": "2024-09-18T07:51:06.877Z"
   },
   {
    "duration": 27,
    "start_time": "2024-09-18T07:51:06.888Z"
   },
   {
    "duration": 35,
    "start_time": "2024-09-18T07:51:06.916Z"
   },
   {
    "duration": 46,
    "start_time": "2024-09-18T07:51:06.952Z"
   },
   {
    "duration": 20,
    "start_time": "2024-09-18T07:51:06.999Z"
   },
   {
    "duration": 31,
    "start_time": "2024-09-18T07:51:07.021Z"
   },
   {
    "duration": 25,
    "start_time": "2024-09-18T07:51:07.054Z"
   },
   {
    "duration": 10,
    "start_time": "2024-09-18T07:51:07.081Z"
   },
   {
    "duration": 26,
    "start_time": "2024-09-18T07:51:07.093Z"
   },
   {
    "duration": 24,
    "start_time": "2024-09-18T07:51:07.121Z"
   },
   {
    "duration": 5,
    "start_time": "2024-09-18T07:51:23.052Z"
   },
   {
    "duration": 4,
    "start_time": "2024-09-18T07:53:30.261Z"
   },
   {
    "duration": 8,
    "start_time": "2024-09-18T07:53:50.652Z"
   },
   {
    "duration": 7,
    "start_time": "2024-09-18T07:54:02.791Z"
   },
   {
    "duration": 7,
    "start_time": "2024-09-18T07:54:11.591Z"
   },
   {
    "duration": 1127,
    "start_time": "2024-09-18T07:56:21.567Z"
   },
   {
    "duration": 73,
    "start_time": "2024-09-18T07:56:22.696Z"
   },
   {
    "duration": 10,
    "start_time": "2024-09-18T07:56:22.771Z"
   },
   {
    "duration": 55,
    "start_time": "2024-09-18T07:56:22.783Z"
   },
   {
    "duration": 16,
    "start_time": "2024-09-18T07:56:22.839Z"
   },
   {
    "duration": 15,
    "start_time": "2024-09-18T07:56:22.857Z"
   },
   {
    "duration": 29,
    "start_time": "2024-09-18T07:56:22.874Z"
   },
   {
    "duration": 20,
    "start_time": "2024-09-18T07:56:22.906Z"
   },
   {
    "duration": 9,
    "start_time": "2024-09-18T07:56:22.927Z"
   },
   {
    "duration": 38,
    "start_time": "2024-09-18T07:56:22.938Z"
   },
   {
    "duration": 15,
    "start_time": "2024-09-18T07:56:22.977Z"
   },
   {
    "duration": 30,
    "start_time": "2024-09-18T07:56:22.994Z"
   },
   {
    "duration": 10,
    "start_time": "2024-09-18T07:56:41.600Z"
   },
   {
    "duration": 11,
    "start_time": "2024-09-18T07:58:24.857Z"
   },
   {
    "duration": 6,
    "start_time": "2024-09-18T08:03:31.677Z"
   },
   {
    "duration": 10,
    "start_time": "2024-09-18T08:03:42.497Z"
   },
   {
    "duration": 7,
    "start_time": "2024-09-18T08:03:53.081Z"
   },
   {
    "duration": 7,
    "start_time": "2024-09-18T08:04:10.029Z"
   },
   {
    "duration": 11,
    "start_time": "2024-09-18T08:07:50.306Z"
   },
   {
    "duration": 13,
    "start_time": "2024-09-18T08:07:56.306Z"
   },
   {
    "duration": 9,
    "start_time": "2024-09-18T08:09:52.136Z"
   },
   {
    "duration": 1159,
    "start_time": "2024-09-18T08:10:02.235Z"
   },
   {
    "duration": 72,
    "start_time": "2024-09-18T08:10:03.396Z"
   },
   {
    "duration": 10,
    "start_time": "2024-09-18T08:10:03.469Z"
   },
   {
    "duration": 48,
    "start_time": "2024-09-18T08:10:03.481Z"
   },
   {
    "duration": 43,
    "start_time": "2024-09-18T08:10:03.530Z"
   },
   {
    "duration": 34,
    "start_time": "2024-09-18T08:10:03.575Z"
   },
   {
    "duration": 13,
    "start_time": "2024-09-18T08:10:03.611Z"
   },
   {
    "duration": 22,
    "start_time": "2024-09-18T08:10:03.626Z"
   },
   {
    "duration": 51,
    "start_time": "2024-09-18T08:10:03.650Z"
   },
   {
    "duration": 31,
    "start_time": "2024-09-18T08:10:03.704Z"
   },
   {
    "duration": 24,
    "start_time": "2024-09-18T08:10:03.737Z"
   },
   {
    "duration": 36,
    "start_time": "2024-09-18T08:10:03.763Z"
   },
   {
    "duration": 22,
    "start_time": "2024-09-18T08:10:03.801Z"
   },
   {
    "duration": 5,
    "start_time": "2024-09-18T08:15:34.966Z"
   },
   {
    "duration": 6,
    "start_time": "2024-09-18T08:16:14.776Z"
   },
   {
    "duration": 10,
    "start_time": "2024-09-18T08:16:36.586Z"
   },
   {
    "duration": 1143,
    "start_time": "2024-09-18T08:17:32.360Z"
   },
   {
    "duration": 74,
    "start_time": "2024-09-18T08:17:33.505Z"
   },
   {
    "duration": 11,
    "start_time": "2024-09-18T08:17:33.581Z"
   },
   {
    "duration": 36,
    "start_time": "2024-09-18T08:17:33.594Z"
   },
   {
    "duration": 31,
    "start_time": "2024-09-18T08:17:33.632Z"
   },
   {
    "duration": 31,
    "start_time": "2024-09-18T08:17:33.665Z"
   },
   {
    "duration": 47,
    "start_time": "2024-09-18T08:17:33.698Z"
   },
   {
    "duration": 43,
    "start_time": "2024-09-18T08:17:33.746Z"
   },
   {
    "duration": 34,
    "start_time": "2024-09-18T08:17:33.791Z"
   },
   {
    "duration": 83,
    "start_time": "2024-09-18T08:17:33.828Z"
   },
   {
    "duration": 40,
    "start_time": "2024-09-18T08:17:33.912Z"
   },
   {
    "duration": 97,
    "start_time": "2024-09-18T08:17:33.954Z"
   },
   {
    "duration": 33,
    "start_time": "2024-09-18T08:17:34.052Z"
   },
   {
    "duration": 13,
    "start_time": "2024-09-18T08:17:34.087Z"
   },
   {
    "duration": 24,
    "start_time": "2024-09-18T08:17:34.102Z"
   },
   {
    "duration": 39,
    "start_time": "2024-09-18T08:17:34.127Z"
   },
   {
    "duration": 17,
    "start_time": "2024-09-18T08:20:23.425Z"
   },
   {
    "duration": 28,
    "start_time": "2024-09-18T08:58:41.203Z"
   },
   {
    "duration": 18,
    "start_time": "2024-09-18T08:59:42.841Z"
   },
   {
    "duration": 18,
    "start_time": "2024-09-18T09:09:28.981Z"
   },
   {
    "duration": 1180,
    "start_time": "2024-09-18T09:09:41.927Z"
   },
   {
    "duration": 73,
    "start_time": "2024-09-18T09:09:43.109Z"
   },
   {
    "duration": 9,
    "start_time": "2024-09-18T09:09:43.184Z"
   },
   {
    "duration": 23,
    "start_time": "2024-09-18T09:09:43.196Z"
   },
   {
    "duration": 17,
    "start_time": "2024-09-18T09:09:43.221Z"
   },
   {
    "duration": 15,
    "start_time": "2024-09-18T09:09:43.240Z"
   },
   {
    "duration": 11,
    "start_time": "2024-09-18T09:09:43.256Z"
   },
   {
    "duration": 14,
    "start_time": "2024-09-18T09:09:43.269Z"
   },
   {
    "duration": 36,
    "start_time": "2024-09-18T09:09:43.285Z"
   },
   {
    "duration": 18,
    "start_time": "2024-09-18T09:09:43.324Z"
   },
   {
    "duration": 9,
    "start_time": "2024-09-18T09:09:43.344Z"
   },
   {
    "duration": 35,
    "start_time": "2024-09-18T09:09:43.355Z"
   },
   {
    "duration": 5,
    "start_time": "2024-09-18T09:09:43.391Z"
   },
   {
    "duration": 7,
    "start_time": "2024-09-18T09:09:43.398Z"
   },
   {
    "duration": 108,
    "start_time": "2024-09-18T09:09:43.406Z"
   },
   {
    "duration": 25,
    "start_time": "2024-09-18T09:09:43.516Z"
   },
   {
    "duration": 17,
    "start_time": "2024-09-18T09:09:43.543Z"
   },
   {
    "duration": 10,
    "start_time": "2024-09-18T09:17:44.897Z"
   },
   {
    "duration": 11,
    "start_time": "2024-09-18T09:20:38.586Z"
   },
   {
    "duration": 1172,
    "start_time": "2024-09-18T09:20:45.635Z"
   },
   {
    "duration": 74,
    "start_time": "2024-09-18T09:20:46.809Z"
   },
   {
    "duration": 10,
    "start_time": "2024-09-18T09:20:46.884Z"
   },
   {
    "duration": 38,
    "start_time": "2024-09-18T09:20:46.896Z"
   },
   {
    "duration": 25,
    "start_time": "2024-09-18T09:20:46.936Z"
   },
   {
    "duration": 15,
    "start_time": "2024-09-18T09:20:46.963Z"
   },
   {
    "duration": 15,
    "start_time": "2024-09-18T09:20:46.980Z"
   },
   {
    "duration": 26,
    "start_time": "2024-09-18T09:20:46.997Z"
   },
   {
    "duration": 10,
    "start_time": "2024-09-18T09:20:47.026Z"
   },
   {
    "duration": 17,
    "start_time": "2024-09-18T09:20:47.039Z"
   },
   {
    "duration": 11,
    "start_time": "2024-09-18T09:20:47.058Z"
   },
   {
    "duration": 13,
    "start_time": "2024-09-18T09:20:47.071Z"
   },
   {
    "duration": 4,
    "start_time": "2024-09-18T09:20:47.086Z"
   },
   {
    "duration": 7,
    "start_time": "2024-09-18T09:20:47.121Z"
   },
   {
    "duration": 99,
    "start_time": "2024-09-18T09:20:47.129Z"
   },
   {
    "duration": 69,
    "start_time": "2024-09-18T09:20:47.229Z"
   },
   {
    "duration": 19,
    "start_time": "2024-09-18T09:20:47.300Z"
   },
   {
    "duration": 8,
    "start_time": "2024-09-18T09:20:47.320Z"
   },
   {
    "duration": 15,
    "start_time": "2024-09-18T09:21:42.685Z"
   },
   {
    "duration": 1222,
    "start_time": "2024-09-18T09:21:47.894Z"
   },
   {
    "duration": 72,
    "start_time": "2024-09-18T09:21:49.118Z"
   },
   {
    "duration": 28,
    "start_time": "2024-09-18T09:21:49.192Z"
   },
   {
    "duration": 92,
    "start_time": "2024-09-18T09:21:49.223Z"
   },
   {
    "duration": 32,
    "start_time": "2024-09-18T09:21:49.317Z"
   },
   {
    "duration": 23,
    "start_time": "2024-09-18T09:21:49.351Z"
   },
   {
    "duration": 16,
    "start_time": "2024-09-18T09:21:49.376Z"
   },
   {
    "duration": 18,
    "start_time": "2024-09-18T09:21:49.394Z"
   },
   {
    "duration": 30,
    "start_time": "2024-09-18T09:21:49.413Z"
   },
   {
    "duration": 16,
    "start_time": "2024-09-18T09:21:49.446Z"
   },
   {
    "duration": 89,
    "start_time": "2024-09-18T09:21:49.464Z"
   },
   {
    "duration": 26,
    "start_time": "2024-09-18T09:21:49.554Z"
   },
   {
    "duration": 11,
    "start_time": "2024-09-18T09:21:49.582Z"
   },
   {
    "duration": 22,
    "start_time": "2024-09-18T09:21:49.595Z"
   },
   {
    "duration": 28,
    "start_time": "2024-09-18T09:21:49.619Z"
   },
   {
    "duration": 22,
    "start_time": "2024-09-18T09:21:49.649Z"
   },
   {
    "duration": 19,
    "start_time": "2024-09-18T09:21:49.674Z"
   },
   {
    "duration": 12,
    "start_time": "2024-09-18T09:21:49.695Z"
   },
   {
    "duration": 10,
    "start_time": "2024-09-18T09:24:00.889Z"
   },
   {
    "duration": 1144,
    "start_time": "2024-09-18T09:24:06.151Z"
   },
   {
    "duration": 71,
    "start_time": "2024-09-18T09:24:07.297Z"
   },
   {
    "duration": 12,
    "start_time": "2024-09-18T09:24:07.370Z"
   },
   {
    "duration": 20,
    "start_time": "2024-09-18T09:24:07.384Z"
   },
   {
    "duration": 27,
    "start_time": "2024-09-18T09:24:07.405Z"
   },
   {
    "duration": 15,
    "start_time": "2024-09-18T09:24:07.433Z"
   },
   {
    "duration": 107,
    "start_time": "2024-09-18T09:24:07.449Z"
   },
   {
    "duration": 8,
    "start_time": "2024-09-18T09:24:07.557Z"
   },
   {
    "duration": 14,
    "start_time": "2024-09-18T09:24:07.567Z"
   },
   {
    "duration": 24,
    "start_time": "2024-09-18T09:24:07.583Z"
   },
   {
    "duration": 20,
    "start_time": "2024-09-18T09:24:07.608Z"
   },
   {
    "duration": 44,
    "start_time": "2024-09-18T09:24:07.630Z"
   },
   {
    "duration": 6,
    "start_time": "2024-09-18T09:24:07.675Z"
   },
   {
    "duration": 13,
    "start_time": "2024-09-18T09:24:07.683Z"
   },
   {
    "duration": 24,
    "start_time": "2024-09-18T09:24:07.697Z"
   },
   {
    "duration": 19,
    "start_time": "2024-09-18T09:24:07.723Z"
   },
   {
    "duration": 21,
    "start_time": "2024-09-18T09:24:07.743Z"
   },
   {
    "duration": 11,
    "start_time": "2024-09-18T09:24:07.765Z"
   },
   {
    "duration": 15,
    "start_time": "2024-09-18T09:26:35.624Z"
   },
   {
    "duration": 6,
    "start_time": "2024-09-18T09:27:05.034Z"
   },
   {
    "duration": 9,
    "start_time": "2024-09-18T09:27:12.023Z"
   },
   {
    "duration": 5,
    "start_time": "2024-09-18T09:27:29.619Z"
   },
   {
    "duration": 10,
    "start_time": "2024-09-18T09:27:30.043Z"
   },
   {
    "duration": 6,
    "start_time": "2024-09-18T09:28:32.205Z"
   },
   {
    "duration": 1200,
    "start_time": "2024-09-18T09:28:39.984Z"
   },
   {
    "duration": 73,
    "start_time": "2024-09-18T09:28:41.186Z"
   },
   {
    "duration": 11,
    "start_time": "2024-09-18T09:28:41.260Z"
   },
   {
    "duration": 27,
    "start_time": "2024-09-18T09:28:41.272Z"
   },
   {
    "duration": 31,
    "start_time": "2024-09-18T09:28:41.300Z"
   },
   {
    "duration": 14,
    "start_time": "2024-09-18T09:28:41.333Z"
   },
   {
    "duration": 18,
    "start_time": "2024-09-18T09:28:41.349Z"
   },
   {
    "duration": 9,
    "start_time": "2024-09-18T09:28:41.369Z"
   },
   {
    "duration": 10,
    "start_time": "2024-09-18T09:28:41.380Z"
   },
   {
    "duration": 29,
    "start_time": "2024-09-18T09:28:41.392Z"
   },
   {
    "duration": 5,
    "start_time": "2024-09-18T09:28:41.423Z"
   },
   {
    "duration": 13,
    "start_time": "2024-09-18T09:28:41.429Z"
   },
   {
    "duration": 15,
    "start_time": "2024-09-18T09:28:41.444Z"
   },
   {
    "duration": 6,
    "start_time": "2024-09-18T09:28:41.461Z"
   },
   {
    "duration": 7,
    "start_time": "2024-09-18T09:28:41.468Z"
   },
   {
    "duration": 73,
    "start_time": "2024-09-18T09:28:41.476Z"
   },
   {
    "duration": 21,
    "start_time": "2024-09-18T09:28:41.551Z"
   },
   {
    "duration": 18,
    "start_time": "2024-09-18T09:28:41.574Z"
   },
   {
    "duration": 8,
    "start_time": "2024-09-18T09:28:41.593Z"
   },
   {
    "duration": 23,
    "start_time": "2024-09-18T09:28:41.603Z"
   },
   {
    "duration": 4,
    "start_time": "2024-09-18T09:28:41.628Z"
   },
   {
    "duration": 8,
    "start_time": "2024-09-18T09:28:41.633Z"
   },
   {
    "duration": 1205,
    "start_time": "2024-09-18T09:29:50.801Z"
   },
   {
    "duration": 72,
    "start_time": "2024-09-18T09:29:52.008Z"
   },
   {
    "duration": 10,
    "start_time": "2024-09-18T09:29:52.082Z"
   },
   {
    "duration": 48,
    "start_time": "2024-09-18T09:29:52.094Z"
   },
   {
    "duration": 37,
    "start_time": "2024-09-18T09:29:52.144Z"
   },
   {
    "duration": 51,
    "start_time": "2024-09-18T09:29:52.183Z"
   },
   {
    "duration": 26,
    "start_time": "2024-09-18T09:29:52.235Z"
   },
   {
    "duration": 28,
    "start_time": "2024-09-18T09:29:52.262Z"
   },
   {
    "duration": 96,
    "start_time": "2024-09-18T09:29:52.292Z"
   },
   {
    "duration": 43,
    "start_time": "2024-09-18T09:29:52.391Z"
   },
   {
    "duration": 25,
    "start_time": "2024-09-18T09:29:52.435Z"
   },
   {
    "duration": 47,
    "start_time": "2024-09-18T09:29:52.462Z"
   },
   {
    "duration": 48,
    "start_time": "2024-09-18T09:29:52.511Z"
   },
   {
    "duration": 14,
    "start_time": "2024-09-18T09:29:52.561Z"
   },
   {
    "duration": 35,
    "start_time": "2024-09-18T09:29:52.577Z"
   },
   {
    "duration": 44,
    "start_time": "2024-09-18T09:29:52.614Z"
   },
   {
    "duration": 35,
    "start_time": "2024-09-18T09:29:52.660Z"
   },
   {
    "duration": 41,
    "start_time": "2024-09-18T09:29:52.697Z"
   },
   {
    "duration": 61,
    "start_time": "2024-09-18T09:29:52.740Z"
   },
   {
    "duration": 30,
    "start_time": "2024-09-18T09:29:52.803Z"
   },
   {
    "duration": 11,
    "start_time": "2024-09-18T09:29:52.835Z"
   },
   {
    "duration": 19,
    "start_time": "2024-09-18T09:29:52.847Z"
   },
   {
    "duration": 16,
    "start_time": "2024-09-18T09:30:48.374Z"
   },
   {
    "duration": 1130,
    "start_time": "2024-09-18T09:31:02.365Z"
   },
   {
    "duration": 81,
    "start_time": "2024-09-18T09:31:03.497Z"
   },
   {
    "duration": 11,
    "start_time": "2024-09-18T09:31:03.580Z"
   },
   {
    "duration": 44,
    "start_time": "2024-09-18T09:31:03.593Z"
   },
   {
    "duration": 43,
    "start_time": "2024-09-18T09:31:03.639Z"
   },
   {
    "duration": 24,
    "start_time": "2024-09-18T09:31:03.684Z"
   },
   {
    "duration": 21,
    "start_time": "2024-09-18T09:31:03.709Z"
   },
   {
    "duration": 7,
    "start_time": "2024-09-18T09:31:03.732Z"
   },
   {
    "duration": 22,
    "start_time": "2024-09-18T09:31:03.741Z"
   },
   {
    "duration": 28,
    "start_time": "2024-09-18T09:31:03.767Z"
   },
   {
    "duration": 56,
    "start_time": "2024-09-18T09:31:03.796Z"
   },
   {
    "duration": 43,
    "start_time": "2024-09-18T09:31:03.853Z"
   },
   {
    "duration": 44,
    "start_time": "2024-09-18T09:31:03.898Z"
   },
   {
    "duration": 50,
    "start_time": "2024-09-18T09:31:03.944Z"
   },
   {
    "duration": 130,
    "start_time": "2024-09-18T09:31:03.996Z"
   },
   {
    "duration": 29,
    "start_time": "2024-09-18T09:31:04.128Z"
   },
   {
    "duration": 49,
    "start_time": "2024-09-18T09:31:04.159Z"
   },
   {
    "duration": 53,
    "start_time": "2024-09-18T09:31:04.210Z"
   },
   {
    "duration": 19,
    "start_time": "2024-09-18T09:31:04.264Z"
   },
   {
    "duration": 80,
    "start_time": "2024-09-18T09:31:04.285Z"
   },
   {
    "duration": 103,
    "start_time": "2024-09-18T09:31:04.367Z"
   },
   {
    "duration": 29,
    "start_time": "2024-09-18T09:31:04.472Z"
   },
   {
    "duration": 13,
    "start_time": "2024-09-18T09:32:25.828Z"
   },
   {
    "duration": 1214,
    "start_time": "2024-09-18T09:32:37.775Z"
   },
   {
    "duration": 72,
    "start_time": "2024-09-18T09:32:38.991Z"
   },
   {
    "duration": 11,
    "start_time": "2024-09-18T09:32:39.064Z"
   },
   {
    "duration": 19,
    "start_time": "2024-09-18T09:32:39.077Z"
   },
   {
    "duration": 40,
    "start_time": "2024-09-18T09:32:39.098Z"
   },
   {
    "duration": 121,
    "start_time": "2024-09-18T09:32:39.140Z"
   },
   {
    "duration": 0,
    "start_time": "2024-09-18T09:32:39.263Z"
   },
   {
    "duration": 0,
    "start_time": "2024-09-18T09:32:39.264Z"
   },
   {
    "duration": 0,
    "start_time": "2024-09-18T09:32:39.265Z"
   },
   {
    "duration": 0,
    "start_time": "2024-09-18T09:32:39.266Z"
   },
   {
    "duration": 0,
    "start_time": "2024-09-18T09:32:39.267Z"
   },
   {
    "duration": 0,
    "start_time": "2024-09-18T09:32:39.268Z"
   },
   {
    "duration": 0,
    "start_time": "2024-09-18T09:32:39.269Z"
   },
   {
    "duration": 0,
    "start_time": "2024-09-18T09:32:39.271Z"
   },
   {
    "duration": 0,
    "start_time": "2024-09-18T09:32:39.271Z"
   },
   {
    "duration": 0,
    "start_time": "2024-09-18T09:32:39.273Z"
   },
   {
    "duration": 0,
    "start_time": "2024-09-18T09:32:39.273Z"
   },
   {
    "duration": 1,
    "start_time": "2024-09-18T09:32:39.274Z"
   },
   {
    "duration": 0,
    "start_time": "2024-09-18T09:32:39.275Z"
   },
   {
    "duration": 0,
    "start_time": "2024-09-18T09:32:39.276Z"
   },
   {
    "duration": 1,
    "start_time": "2024-09-18T09:32:39.277Z"
   },
   {
    "duration": 0,
    "start_time": "2024-09-18T09:32:39.279Z"
   },
   {
    "duration": 0,
    "start_time": "2024-09-18T09:32:39.279Z"
   },
   {
    "duration": 11,
    "start_time": "2024-09-18T09:34:22.504Z"
   },
   {
    "duration": 1130,
    "start_time": "2024-09-18T09:34:35.875Z"
   },
   {
    "duration": 73,
    "start_time": "2024-09-18T09:34:37.007Z"
   },
   {
    "duration": 10,
    "start_time": "2024-09-18T09:34:37.082Z"
   },
   {
    "duration": 43,
    "start_time": "2024-09-18T09:34:37.094Z"
   },
   {
    "duration": 39,
    "start_time": "2024-09-18T09:34:37.139Z"
   },
   {
    "duration": 54,
    "start_time": "2024-09-18T09:34:37.180Z"
   },
   {
    "duration": 54,
    "start_time": "2024-09-18T09:34:37.236Z"
   },
   {
    "duration": 54,
    "start_time": "2024-09-18T09:34:37.292Z"
   },
   {
    "duration": 36,
    "start_time": "2024-09-18T09:34:37.348Z"
   },
   {
    "duration": 9,
    "start_time": "2024-09-18T09:34:37.387Z"
   },
   {
    "duration": 9,
    "start_time": "2024-09-18T09:34:37.397Z"
   },
   {
    "duration": 5,
    "start_time": "2024-09-18T09:34:37.408Z"
   },
   {
    "duration": 11,
    "start_time": "2024-09-18T09:34:37.414Z"
   },
   {
    "duration": 25,
    "start_time": "2024-09-18T09:34:37.426Z"
   },
   {
    "duration": 5,
    "start_time": "2024-09-18T09:34:37.452Z"
   },
   {
    "duration": 38,
    "start_time": "2024-09-18T09:34:37.459Z"
   },
   {
    "duration": 14,
    "start_time": "2024-09-18T09:34:37.500Z"
   },
   {
    "duration": 88,
    "start_time": "2024-09-18T09:34:37.516Z"
   },
   {
    "duration": 18,
    "start_time": "2024-09-18T09:34:37.606Z"
   },
   {
    "duration": 18,
    "start_time": "2024-09-18T09:34:37.626Z"
   },
   {
    "duration": 25,
    "start_time": "2024-09-18T09:34:37.646Z"
   },
   {
    "duration": 25,
    "start_time": "2024-09-18T09:34:37.673Z"
   },
   {
    "duration": 16,
    "start_time": "2024-09-18T09:34:37.700Z"
   },
   {
    "duration": 17,
    "start_time": "2024-09-18T09:35:15.243Z"
   },
   {
    "duration": 1301,
    "start_time": "2024-09-18T09:35:21.777Z"
   },
   {
    "duration": 74,
    "start_time": "2024-09-18T09:35:23.080Z"
   },
   {
    "duration": 9,
    "start_time": "2024-09-18T09:35:23.156Z"
   },
   {
    "duration": 22,
    "start_time": "2024-09-18T09:35:23.167Z"
   },
   {
    "duration": 16,
    "start_time": "2024-09-18T09:35:23.191Z"
   },
   {
    "duration": 25,
    "start_time": "2024-09-18T09:35:23.208Z"
   },
   {
    "duration": 11,
    "start_time": "2024-09-18T09:35:23.234Z"
   },
   {
    "duration": 32,
    "start_time": "2024-09-18T09:35:23.247Z"
   },
   {
    "duration": 10,
    "start_time": "2024-09-18T09:35:23.280Z"
   },
   {
    "duration": 13,
    "start_time": "2024-09-18T09:35:23.293Z"
   },
   {
    "duration": 19,
    "start_time": "2024-09-18T09:35:23.308Z"
   },
   {
    "duration": 13,
    "start_time": "2024-09-18T09:35:23.329Z"
   },
   {
    "duration": 13,
    "start_time": "2024-09-18T09:35:23.343Z"
   },
   {
    "duration": 13,
    "start_time": "2024-09-18T09:35:23.358Z"
   },
   {
    "duration": 23,
    "start_time": "2024-09-18T09:35:23.372Z"
   },
   {
    "duration": 5,
    "start_time": "2024-09-18T09:35:23.397Z"
   },
   {
    "duration": 7,
    "start_time": "2024-09-18T09:35:23.420Z"
   },
   {
    "duration": 15,
    "start_time": "2024-09-18T09:35:23.428Z"
   },
   {
    "duration": 18,
    "start_time": "2024-09-18T09:35:23.444Z"
   },
   {
    "duration": 17,
    "start_time": "2024-09-18T09:35:23.463Z"
   },
   {
    "duration": 42,
    "start_time": "2024-09-18T09:35:23.482Z"
   },
   {
    "duration": 16,
    "start_time": "2024-09-18T09:35:23.526Z"
   },
   {
    "duration": 47,
    "start_time": "2024-09-18T09:35:23.544Z"
   },
   {
    "duration": 21,
    "start_time": "2024-09-18T09:35:23.593Z"
   },
   {
    "duration": 1129,
    "start_time": "2024-09-18T09:36:19.978Z"
   },
   {
    "duration": 76,
    "start_time": "2024-09-18T09:36:21.109Z"
   },
   {
    "duration": 10,
    "start_time": "2024-09-18T09:36:21.187Z"
   },
   {
    "duration": 66,
    "start_time": "2024-09-18T09:36:21.199Z"
   },
   {
    "duration": 66,
    "start_time": "2024-09-18T09:36:21.267Z"
   },
   {
    "duration": 15,
    "start_time": "2024-09-18T09:36:21.335Z"
   },
   {
    "duration": 21,
    "start_time": "2024-09-18T09:36:21.352Z"
   },
   {
    "duration": 51,
    "start_time": "2024-09-18T09:36:21.374Z"
   },
   {
    "duration": 11,
    "start_time": "2024-09-18T09:36:21.427Z"
   },
   {
    "duration": 23,
    "start_time": "2024-09-18T09:36:21.440Z"
   },
   {
    "duration": 18,
    "start_time": "2024-09-18T09:36:21.464Z"
   },
   {
    "duration": 15,
    "start_time": "2024-09-18T09:36:21.484Z"
   },
   {
    "duration": 26,
    "start_time": "2024-09-18T09:36:21.501Z"
   },
   {
    "duration": 91,
    "start_time": "2024-09-18T09:36:21.529Z"
   },
   {
    "duration": 10,
    "start_time": "2024-09-18T09:36:21.622Z"
   },
   {
    "duration": 12,
    "start_time": "2024-09-18T09:36:21.633Z"
   },
   {
    "duration": 5,
    "start_time": "2024-09-18T09:36:21.646Z"
   },
   {
    "duration": 7,
    "start_time": "2024-09-18T09:36:21.652Z"
   },
   {
    "duration": 30,
    "start_time": "2024-09-18T09:36:21.660Z"
   },
   {
    "duration": 29,
    "start_time": "2024-09-18T09:36:21.691Z"
   },
   {
    "duration": 33,
    "start_time": "2024-09-18T09:36:21.722Z"
   },
   {
    "duration": 17,
    "start_time": "2024-09-18T09:36:21.757Z"
   },
   {
    "duration": 28,
    "start_time": "2024-09-18T09:36:21.775Z"
   },
   {
    "duration": 11,
    "start_time": "2024-09-18T09:36:21.804Z"
   },
   {
    "duration": 16,
    "start_time": "2024-09-18T09:36:21.816Z"
   },
   {
    "duration": 18,
    "start_time": "2024-09-18T09:38:01.613Z"
   },
   {
    "duration": 1140,
    "start_time": "2024-09-18T09:38:22.961Z"
   },
   {
    "duration": 72,
    "start_time": "2024-09-18T09:38:24.103Z"
   },
   {
    "duration": 14,
    "start_time": "2024-09-18T09:38:24.178Z"
   },
   {
    "duration": 37,
    "start_time": "2024-09-18T09:38:24.195Z"
   },
   {
    "duration": 18,
    "start_time": "2024-09-18T09:38:24.234Z"
   },
   {
    "duration": 22,
    "start_time": "2024-09-18T09:38:24.253Z"
   },
   {
    "duration": 37,
    "start_time": "2024-09-18T09:38:24.276Z"
   },
   {
    "duration": 20,
    "start_time": "2024-09-18T09:38:24.315Z"
   },
   {
    "duration": 85,
    "start_time": "2024-09-18T09:38:24.337Z"
   },
   {
    "duration": 17,
    "start_time": "2024-09-18T09:38:24.425Z"
   },
   {
    "duration": 7,
    "start_time": "2024-09-18T09:38:24.445Z"
   },
   {
    "duration": 10,
    "start_time": "2024-09-18T09:38:24.454Z"
   },
   {
    "duration": 39,
    "start_time": "2024-09-18T09:38:24.466Z"
   },
   {
    "duration": 15,
    "start_time": "2024-09-18T09:38:24.507Z"
   },
   {
    "duration": 23,
    "start_time": "2024-09-18T09:38:24.524Z"
   },
   {
    "duration": 40,
    "start_time": "2024-09-18T09:38:24.549Z"
   },
   {
    "duration": 5,
    "start_time": "2024-09-18T09:38:24.590Z"
   },
   {
    "duration": 25,
    "start_time": "2024-09-18T09:38:24.597Z"
   },
   {
    "duration": 24,
    "start_time": "2024-09-18T09:38:24.623Z"
   },
   {
    "duration": 27,
    "start_time": "2024-09-18T09:38:24.649Z"
   },
   {
    "duration": 27,
    "start_time": "2024-09-18T09:38:24.678Z"
   },
   {
    "duration": 38,
    "start_time": "2024-09-18T09:38:24.706Z"
   },
   {
    "duration": 33,
    "start_time": "2024-09-18T09:43:47.834Z"
   },
   {
    "duration": 25,
    "start_time": "2024-09-18T09:44:21.014Z"
   },
   {
    "duration": 17,
    "start_time": "2024-09-18T09:44:43.624Z"
   },
   {
    "duration": 18,
    "start_time": "2024-09-18T09:44:58.716Z"
   },
   {
    "duration": 1343,
    "start_time": "2024-09-18T09:45:12.060Z"
   },
   {
    "duration": 20,
    "start_time": "2024-09-18T09:45:35.110Z"
   },
   {
    "duration": 1170,
    "start_time": "2024-09-18T09:45:40.723Z"
   },
   {
    "duration": 72,
    "start_time": "2024-09-18T09:45:41.895Z"
   },
   {
    "duration": 11,
    "start_time": "2024-09-18T09:45:41.969Z"
   },
   {
    "duration": 18,
    "start_time": "2024-09-18T09:45:41.982Z"
   },
   {
    "duration": 15,
    "start_time": "2024-09-18T09:45:42.020Z"
   },
   {
    "duration": 20,
    "start_time": "2024-09-18T09:45:42.037Z"
   },
   {
    "duration": 20,
    "start_time": "2024-09-18T09:45:42.058Z"
   },
   {
    "duration": 41,
    "start_time": "2024-09-18T09:45:42.080Z"
   },
   {
    "duration": 10,
    "start_time": "2024-09-18T09:45:42.123Z"
   },
   {
    "duration": 16,
    "start_time": "2024-09-18T09:45:42.135Z"
   },
   {
    "duration": 10,
    "start_time": "2024-09-18T09:45:42.152Z"
   },
   {
    "duration": 8,
    "start_time": "2024-09-18T09:45:42.163Z"
   },
   {
    "duration": 22,
    "start_time": "2024-09-18T09:45:42.172Z"
   },
   {
    "duration": 25,
    "start_time": "2024-09-18T09:45:42.196Z"
   },
   {
    "duration": 10,
    "start_time": "2024-09-18T09:45:42.222Z"
   },
   {
    "duration": 55,
    "start_time": "2024-09-18T09:45:42.233Z"
   },
   {
    "duration": 4,
    "start_time": "2024-09-18T09:45:42.291Z"
   },
   {
    "duration": 11,
    "start_time": "2024-09-18T09:45:42.297Z"
   },
   {
    "duration": 13,
    "start_time": "2024-09-18T09:45:42.310Z"
   },
   {
    "duration": 26,
    "start_time": "2024-09-18T09:45:42.324Z"
   },
   {
    "duration": 21,
    "start_time": "2024-09-18T09:45:42.352Z"
   },
   {
    "duration": 39,
    "start_time": "2024-09-18T09:45:42.375Z"
   },
   {
    "duration": 1180,
    "start_time": "2024-09-18T09:45:57.019Z"
   },
   {
    "duration": 73,
    "start_time": "2024-09-18T09:45:58.201Z"
   },
   {
    "duration": 10,
    "start_time": "2024-09-18T09:45:58.276Z"
   },
   {
    "duration": 31,
    "start_time": "2024-09-18T09:45:58.287Z"
   },
   {
    "duration": 37,
    "start_time": "2024-09-18T09:45:58.320Z"
   },
   {
    "duration": 23,
    "start_time": "2024-09-18T09:45:58.358Z"
   },
   {
    "duration": 18,
    "start_time": "2024-09-18T09:45:58.382Z"
   },
   {
    "duration": 16,
    "start_time": "2024-09-18T09:45:58.402Z"
   },
   {
    "duration": 10,
    "start_time": "2024-09-18T09:45:58.419Z"
   },
   {
    "duration": 32,
    "start_time": "2024-09-18T09:45:58.432Z"
   },
   {
    "duration": 34,
    "start_time": "2024-09-18T09:45:58.465Z"
   },
   {
    "duration": 42,
    "start_time": "2024-09-18T09:45:58.500Z"
   },
   {
    "duration": 20,
    "start_time": "2024-09-18T09:45:58.543Z"
   },
   {
    "duration": 21,
    "start_time": "2024-09-18T09:45:58.564Z"
   },
   {
    "duration": 15,
    "start_time": "2024-09-18T09:45:58.586Z"
   },
   {
    "duration": 13,
    "start_time": "2024-09-18T09:45:58.603Z"
   },
   {
    "duration": 35,
    "start_time": "2024-09-18T09:45:58.618Z"
   },
   {
    "duration": 8,
    "start_time": "2024-09-18T09:45:58.655Z"
   },
   {
    "duration": 13,
    "start_time": "2024-09-18T09:45:58.664Z"
   },
   {
    "duration": 27,
    "start_time": "2024-09-18T09:45:58.678Z"
   },
   {
    "duration": 20,
    "start_time": "2024-09-18T09:45:58.707Z"
   },
   {
    "duration": 18,
    "start_time": "2024-09-18T09:45:58.729Z"
   },
   {
    "duration": 1191,
    "start_time": "2024-09-18T09:47:08.105Z"
   },
   {
    "duration": 73,
    "start_time": "2024-09-18T09:47:09.298Z"
   },
   {
    "duration": 11,
    "start_time": "2024-09-18T09:47:09.372Z"
   },
   {
    "duration": 28,
    "start_time": "2024-09-18T09:47:09.385Z"
   },
   {
    "duration": 19,
    "start_time": "2024-09-18T09:47:09.414Z"
   },
   {
    "duration": 49,
    "start_time": "2024-09-18T09:47:09.434Z"
   },
   {
    "duration": 18,
    "start_time": "2024-09-18T09:47:09.484Z"
   },
   {
    "duration": 14,
    "start_time": "2024-09-18T09:47:09.504Z"
   },
   {
    "duration": 21,
    "start_time": "2024-09-18T09:47:09.520Z"
   },
   {
    "duration": 61,
    "start_time": "2024-09-18T09:47:09.543Z"
   },
   {
    "duration": 23,
    "start_time": "2024-09-18T09:47:09.606Z"
   },
   {
    "duration": 37,
    "start_time": "2024-09-18T09:47:09.630Z"
   },
   {
    "duration": 11,
    "start_time": "2024-09-18T09:47:09.669Z"
   },
   {
    "duration": 6,
    "start_time": "2024-09-18T09:47:09.682Z"
   },
   {
    "duration": 22,
    "start_time": "2024-09-18T09:47:09.690Z"
   },
   {
    "duration": 27,
    "start_time": "2024-09-18T09:47:09.714Z"
   },
   {
    "duration": 50,
    "start_time": "2024-09-18T09:47:09.742Z"
   },
   {
    "duration": 10,
    "start_time": "2024-09-18T09:47:09.794Z"
   },
   {
    "duration": 11,
    "start_time": "2024-09-18T09:47:09.806Z"
   },
   {
    "duration": 22,
    "start_time": "2024-09-18T09:47:09.820Z"
   },
   {
    "duration": 16,
    "start_time": "2024-09-18T09:47:09.844Z"
   },
   {
    "duration": 31,
    "start_time": "2024-09-18T09:47:09.862Z"
   },
   {
    "duration": 1191,
    "start_time": "2024-09-18T09:48:11.793Z"
   },
   {
    "duration": 71,
    "start_time": "2024-09-18T09:48:12.986Z"
   },
   {
    "duration": 10,
    "start_time": "2024-09-18T09:48:13.058Z"
   },
   {
    "duration": 17,
    "start_time": "2024-09-18T09:48:13.070Z"
   },
   {
    "duration": 19,
    "start_time": "2024-09-18T09:48:13.089Z"
   },
   {
    "duration": 23,
    "start_time": "2024-09-18T09:48:13.110Z"
   },
   {
    "duration": 148,
    "start_time": "2024-09-18T09:48:13.135Z"
   },
   {
    "duration": 0,
    "start_time": "2024-09-18T09:48:13.284Z"
   },
   {
    "duration": 0,
    "start_time": "2024-09-18T09:48:13.286Z"
   },
   {
    "duration": 0,
    "start_time": "2024-09-18T09:48:13.287Z"
   },
   {
    "duration": 0,
    "start_time": "2024-09-18T09:48:13.288Z"
   },
   {
    "duration": 0,
    "start_time": "2024-09-18T09:48:13.289Z"
   },
   {
    "duration": 0,
    "start_time": "2024-09-18T09:48:13.290Z"
   },
   {
    "duration": 0,
    "start_time": "2024-09-18T09:48:13.291Z"
   },
   {
    "duration": 0,
    "start_time": "2024-09-18T09:48:13.292Z"
   },
   {
    "duration": 0,
    "start_time": "2024-09-18T09:48:13.293Z"
   },
   {
    "duration": 0,
    "start_time": "2024-09-18T09:48:13.294Z"
   },
   {
    "duration": 0,
    "start_time": "2024-09-18T09:48:13.295Z"
   },
   {
    "duration": 0,
    "start_time": "2024-09-18T09:48:13.296Z"
   },
   {
    "duration": 0,
    "start_time": "2024-09-18T09:48:13.297Z"
   },
   {
    "duration": 0,
    "start_time": "2024-09-18T09:48:13.298Z"
   },
   {
    "duration": 1118,
    "start_time": "2024-09-18T09:49:20.474Z"
   },
   {
    "duration": 74,
    "start_time": "2024-09-18T09:49:21.594Z"
   },
   {
    "duration": 11,
    "start_time": "2024-09-18T09:49:21.670Z"
   },
   {
    "duration": 20,
    "start_time": "2024-09-18T09:49:21.683Z"
   },
   {
    "duration": 37,
    "start_time": "2024-09-18T09:49:21.705Z"
   },
   {
    "duration": 16,
    "start_time": "2024-09-18T09:49:21.744Z"
   },
   {
    "duration": 10,
    "start_time": "2024-09-18T09:49:21.762Z"
   },
   {
    "duration": 35,
    "start_time": "2024-09-18T09:49:21.774Z"
   },
   {
    "duration": 30,
    "start_time": "2024-09-18T09:49:21.811Z"
   },
   {
    "duration": 19,
    "start_time": "2024-09-18T09:49:21.843Z"
   },
   {
    "duration": 16,
    "start_time": "2024-09-18T09:49:21.864Z"
   },
   {
    "duration": 8,
    "start_time": "2024-09-18T09:49:21.881Z"
   },
   {
    "duration": 9,
    "start_time": "2024-09-18T09:49:21.891Z"
   },
   {
    "duration": 14,
    "start_time": "2024-09-18T09:49:21.902Z"
   },
   {
    "duration": 4,
    "start_time": "2024-09-18T09:49:21.918Z"
   },
   {
    "duration": 11,
    "start_time": "2024-09-18T09:49:21.924Z"
   },
   {
    "duration": 22,
    "start_time": "2024-09-18T09:49:21.936Z"
   },
   {
    "duration": 22,
    "start_time": "2024-09-18T09:49:21.959Z"
   },
   {
    "duration": 51,
    "start_time": "2024-09-18T09:49:21.983Z"
   },
   {
    "duration": 18,
    "start_time": "2024-09-18T09:49:22.036Z"
   },
   {
    "duration": 28,
    "start_time": "2024-09-18T09:54:02.133Z"
   },
   {
    "duration": 134,
    "start_time": "2024-09-18T09:55:05.117Z"
   },
   {
    "duration": 25,
    "start_time": "2024-09-18T09:55:15.765Z"
   },
   {
    "duration": 17,
    "start_time": "2024-09-18T09:55:34.712Z"
   },
   {
    "duration": 5,
    "start_time": "2024-09-18T09:59:07.680Z"
   },
   {
    "duration": 1260,
    "start_time": "2024-09-18T09:59:16.815Z"
   },
   {
    "duration": 71,
    "start_time": "2024-09-18T09:59:18.077Z"
   },
   {
    "duration": 10,
    "start_time": "2024-09-18T09:59:18.149Z"
   },
   {
    "duration": 29,
    "start_time": "2024-09-18T09:59:18.161Z"
   },
   {
    "duration": 15,
    "start_time": "2024-09-18T09:59:18.192Z"
   },
   {
    "duration": 23,
    "start_time": "2024-09-18T09:59:18.209Z"
   },
   {
    "duration": 11,
    "start_time": "2024-09-18T09:59:18.234Z"
   },
   {
    "duration": 29,
    "start_time": "2024-09-18T09:59:18.247Z"
   },
   {
    "duration": 9,
    "start_time": "2024-09-18T09:59:18.278Z"
   },
   {
    "duration": 11,
    "start_time": "2024-09-18T09:59:18.290Z"
   },
   {
    "duration": 20,
    "start_time": "2024-09-18T09:59:18.303Z"
   },
   {
    "duration": 12,
    "start_time": "2024-09-18T09:59:18.325Z"
   },
   {
    "duration": 12,
    "start_time": "2024-09-18T09:59:18.339Z"
   },
   {
    "duration": 13,
    "start_time": "2024-09-18T09:59:18.353Z"
   },
   {
    "duration": 15,
    "start_time": "2024-09-18T09:59:18.367Z"
   },
   {
    "duration": 10,
    "start_time": "2024-09-18T09:59:18.384Z"
   },
   {
    "duration": 43,
    "start_time": "2024-09-18T09:59:18.396Z"
   },
   {
    "duration": 16,
    "start_time": "2024-09-18T09:59:18.441Z"
   },
   {
    "duration": 86,
    "start_time": "2024-09-18T09:59:18.459Z"
   },
   {
    "duration": 6,
    "start_time": "2024-09-18T09:59:18.546Z"
   },
   {
    "duration": 28,
    "start_time": "2024-09-18T09:59:18.554Z"
   },
   {
    "duration": 1132,
    "start_time": "2024-09-18T10:09:51.775Z"
   },
   {
    "duration": 83,
    "start_time": "2024-09-18T10:09:52.909Z"
   },
   {
    "duration": 10,
    "start_time": "2024-09-18T10:09:52.993Z"
   },
   {
    "duration": 34,
    "start_time": "2024-09-18T10:09:53.005Z"
   },
   {
    "duration": 13,
    "start_time": "2024-09-18T10:09:53.041Z"
   },
   {
    "duration": 27,
    "start_time": "2024-09-18T10:09:53.055Z"
   },
   {
    "duration": 9,
    "start_time": "2024-09-18T10:09:53.084Z"
   },
   {
    "duration": 11,
    "start_time": "2024-09-18T10:09:53.094Z"
   },
   {
    "duration": 29,
    "start_time": "2024-09-18T10:09:53.106Z"
   },
   {
    "duration": 22,
    "start_time": "2024-09-18T10:09:53.138Z"
   },
   {
    "duration": 13,
    "start_time": "2024-09-18T10:09:53.161Z"
   },
   {
    "duration": 21,
    "start_time": "2024-09-18T10:09:53.175Z"
   },
   {
    "duration": 37,
    "start_time": "2024-09-18T10:09:53.197Z"
   },
   {
    "duration": 18,
    "start_time": "2024-09-18T10:09:53.236Z"
   },
   {
    "duration": 12,
    "start_time": "2024-09-18T10:09:53.255Z"
   },
   {
    "duration": 16,
    "start_time": "2024-09-18T10:09:53.268Z"
   },
   {
    "duration": 18,
    "start_time": "2024-09-18T10:09:53.286Z"
   },
   {
    "duration": 22,
    "start_time": "2024-09-18T10:09:53.305Z"
   },
   {
    "duration": 18,
    "start_time": "2024-09-18T10:09:53.328Z"
   },
   {
    "duration": 6,
    "start_time": "2024-09-18T10:09:53.347Z"
   },
   {
    "duration": 112,
    "start_time": "2024-09-18T10:09:53.354Z"
   },
   {
    "duration": 1161,
    "start_time": "2024-09-18T10:11:04.873Z"
   },
   {
    "duration": 73,
    "start_time": "2024-09-18T10:11:06.036Z"
   },
   {
    "duration": 12,
    "start_time": "2024-09-18T10:11:06.111Z"
   },
   {
    "duration": 36,
    "start_time": "2024-09-18T10:11:06.125Z"
   },
   {
    "duration": 36,
    "start_time": "2024-09-18T10:11:06.163Z"
   },
   {
    "duration": 30,
    "start_time": "2024-09-18T10:11:06.201Z"
   },
   {
    "duration": 30,
    "start_time": "2024-09-18T10:11:06.232Z"
   },
   {
    "duration": 39,
    "start_time": "2024-09-18T10:11:06.264Z"
   },
   {
    "duration": 29,
    "start_time": "2024-09-18T10:11:06.304Z"
   },
   {
    "duration": 74,
    "start_time": "2024-09-18T10:11:06.335Z"
   },
   {
    "duration": 40,
    "start_time": "2024-09-18T10:11:06.411Z"
   },
   {
    "duration": 68,
    "start_time": "2024-09-18T10:11:06.452Z"
   },
   {
    "duration": 68,
    "start_time": "2024-09-18T10:11:06.522Z"
   },
   {
    "duration": 46,
    "start_time": "2024-09-18T10:11:06.591Z"
   },
   {
    "duration": 35,
    "start_time": "2024-09-18T10:11:06.639Z"
   },
   {
    "duration": 44,
    "start_time": "2024-09-18T10:11:06.676Z"
   },
   {
    "duration": 69,
    "start_time": "2024-09-18T10:11:06.722Z"
   },
   {
    "duration": 17,
    "start_time": "2024-09-18T10:11:06.793Z"
   },
   {
    "duration": 17,
    "start_time": "2024-09-18T10:11:06.811Z"
   },
   {
    "duration": 23,
    "start_time": "2024-09-18T10:11:06.829Z"
   },
   {
    "duration": 63,
    "start_time": "2024-09-18T10:11:06.854Z"
   },
   {
    "duration": 1146,
    "start_time": "2024-09-18T10:11:52.832Z"
   },
   {
    "duration": 71,
    "start_time": "2024-09-18T10:11:53.980Z"
   },
   {
    "duration": 10,
    "start_time": "2024-09-18T10:11:54.052Z"
   },
   {
    "duration": 22,
    "start_time": "2024-09-18T10:11:54.064Z"
   },
   {
    "duration": 36,
    "start_time": "2024-09-18T10:11:54.087Z"
   },
   {
    "duration": 18,
    "start_time": "2024-09-18T10:11:54.125Z"
   },
   {
    "duration": 9,
    "start_time": "2024-09-18T10:11:54.144Z"
   },
   {
    "duration": 39,
    "start_time": "2024-09-18T10:11:54.155Z"
   },
   {
    "duration": 9,
    "start_time": "2024-09-18T10:11:54.195Z"
   },
   {
    "duration": 22,
    "start_time": "2024-09-18T10:11:54.206Z"
   },
   {
    "duration": 20,
    "start_time": "2024-09-18T10:11:54.230Z"
   },
   {
    "duration": 33,
    "start_time": "2024-09-18T10:11:54.251Z"
   },
   {
    "duration": 11,
    "start_time": "2024-09-18T10:11:54.285Z"
   },
   {
    "duration": 6,
    "start_time": "2024-09-18T10:11:54.297Z"
   },
   {
    "duration": 33,
    "start_time": "2024-09-18T10:11:54.304Z"
   },
   {
    "duration": 41,
    "start_time": "2024-09-18T10:11:54.339Z"
   },
   {
    "duration": 20,
    "start_time": "2024-09-18T10:11:54.382Z"
   },
   {
    "duration": 17,
    "start_time": "2024-09-18T10:11:54.404Z"
   },
   {
    "duration": 17,
    "start_time": "2024-09-18T10:11:54.423Z"
   },
   {
    "duration": 376,
    "start_time": "2024-09-18T10:29:43.430Z"
   },
   {
    "duration": 351,
    "start_time": "2024-09-18T10:29:52.033Z"
   },
   {
    "duration": 370,
    "start_time": "2024-09-18T10:30:38.122Z"
   },
   {
    "duration": 310,
    "start_time": "2024-09-18T10:45:49.121Z"
   },
   {
    "duration": 329,
    "start_time": "2024-09-18T10:46:51.632Z"
   },
   {
    "duration": 325,
    "start_time": "2024-09-18T10:47:49.411Z"
   },
   {
    "duration": 15,
    "start_time": "2024-09-18T10:54:03.185Z"
   },
   {
    "duration": 12,
    "start_time": "2024-09-18T10:59:35.230Z"
   },
   {
    "duration": 56,
    "start_time": "2024-09-18T11:05:55.048Z"
   },
   {
    "duration": 61,
    "start_time": "2024-09-18T11:06:09.801Z"
   },
   {
    "duration": 118,
    "start_time": "2024-09-18T11:06:32.190Z"
   },
   {
    "duration": 61,
    "start_time": "2024-09-18T11:07:10.504Z"
   },
   {
    "duration": 5,
    "start_time": "2024-09-18T11:08:25.889Z"
   },
   {
    "duration": 18,
    "start_time": "2024-09-18T11:08:27.900Z"
   },
   {
    "duration": 12,
    "start_time": "2024-09-18T11:08:47.535Z"
   },
   {
    "duration": 1136,
    "start_time": "2024-09-18T11:11:15.957Z"
   },
   {
    "duration": 73,
    "start_time": "2024-09-18T11:11:17.095Z"
   },
   {
    "duration": 11,
    "start_time": "2024-09-18T11:11:17.169Z"
   },
   {
    "duration": 26,
    "start_time": "2024-09-18T11:11:17.182Z"
   },
   {
    "duration": 27,
    "start_time": "2024-09-18T11:11:17.210Z"
   },
   {
    "duration": 24,
    "start_time": "2024-09-18T11:11:17.239Z"
   },
   {
    "duration": 11,
    "start_time": "2024-09-18T11:11:17.265Z"
   },
   {
    "duration": 36,
    "start_time": "2024-09-18T11:11:17.278Z"
   },
   {
    "duration": 34,
    "start_time": "2024-09-18T11:11:17.315Z"
   },
   {
    "duration": 10,
    "start_time": "2024-09-18T11:11:17.351Z"
   },
   {
    "duration": 8,
    "start_time": "2024-09-18T11:11:17.362Z"
   },
   {
    "duration": 19,
    "start_time": "2024-09-18T11:11:17.371Z"
   },
   {
    "duration": 17,
    "start_time": "2024-09-18T11:11:17.392Z"
   },
   {
    "duration": 16,
    "start_time": "2024-09-18T11:11:17.411Z"
   },
   {
    "duration": 12,
    "start_time": "2024-09-18T11:11:17.428Z"
   },
   {
    "duration": 14,
    "start_time": "2024-09-18T11:11:17.442Z"
   },
   {
    "duration": 20,
    "start_time": "2024-09-18T11:11:17.458Z"
   },
   {
    "duration": 17,
    "start_time": "2024-09-18T11:11:17.480Z"
   },
   {
    "duration": 34,
    "start_time": "2024-09-18T11:11:17.498Z"
   },
   {
    "duration": 385,
    "start_time": "2024-09-18T11:11:17.534Z"
   },
   {
    "duration": 320,
    "start_time": "2024-09-18T11:11:17.921Z"
   },
   {
    "duration": 13,
    "start_time": "2024-09-18T11:11:18.243Z"
   },
   {
    "duration": 117,
    "start_time": "2024-09-18T11:55:16.314Z"
   },
   {
    "duration": 1245,
    "start_time": "2024-09-18T11:55:53.529Z"
   },
   {
    "duration": 73,
    "start_time": "2024-09-18T11:55:54.776Z"
   },
   {
    "duration": 11,
    "start_time": "2024-09-18T11:55:54.850Z"
   },
   {
    "duration": 19,
    "start_time": "2024-09-18T11:55:54.863Z"
   },
   {
    "duration": 16,
    "start_time": "2024-09-18T11:55:54.884Z"
   },
   {
    "duration": 21,
    "start_time": "2024-09-18T11:55:54.920Z"
   },
   {
    "duration": 64,
    "start_time": "2024-09-18T11:55:54.943Z"
   },
   {
    "duration": 26,
    "start_time": "2024-09-18T11:55:55.009Z"
   },
   {
    "duration": 15,
    "start_time": "2024-09-18T11:55:55.036Z"
   },
   {
    "duration": 45,
    "start_time": "2024-09-18T11:55:55.054Z"
   },
   {
    "duration": 19,
    "start_time": "2024-09-18T11:55:55.101Z"
   },
   {
    "duration": 25,
    "start_time": "2024-09-18T11:55:55.122Z"
   },
   {
    "duration": 18,
    "start_time": "2024-09-18T11:55:55.150Z"
   },
   {
    "duration": 33,
    "start_time": "2024-09-18T11:55:55.171Z"
   },
   {
    "duration": 27,
    "start_time": "2024-09-18T11:55:55.206Z"
   },
   {
    "duration": 11,
    "start_time": "2024-09-18T11:55:55.234Z"
   },
   {
    "duration": 40,
    "start_time": "2024-09-18T11:55:55.247Z"
   },
   {
    "duration": 17,
    "start_time": "2024-09-18T11:55:55.288Z"
   },
   {
    "duration": 20,
    "start_time": "2024-09-18T11:55:55.306Z"
   },
   {
    "duration": 386,
    "start_time": "2024-09-18T11:55:55.327Z"
   },
   {
    "duration": 331,
    "start_time": "2024-09-18T11:55:55.715Z"
   },
   {
    "duration": 14,
    "start_time": "2024-09-18T11:55:56.048Z"
   },
   {
    "duration": 326,
    "start_time": "2024-09-18T11:55:56.063Z"
   },
   {
    "duration": 73,
    "start_time": "2024-09-18T11:56:30.197Z"
   },
   {
    "duration": 301,
    "start_time": "2024-09-18T11:56:40.032Z"
   },
   {
    "duration": 306,
    "start_time": "2024-09-18T11:56:52.475Z"
   },
   {
    "duration": 6,
    "start_time": "2024-09-18T12:27:04.298Z"
   },
   {
    "duration": 23,
    "start_time": "2024-09-18T12:27:19.295Z"
   },
   {
    "duration": 1557,
    "start_time": "2024-09-18T12:35:26.241Z"
   },
   {
    "duration": 379,
    "start_time": "2024-09-18T12:37:44.533Z"
   },
   {
    "duration": 291,
    "start_time": "2024-09-18T12:37:59.772Z"
   },
   {
    "duration": 278,
    "start_time": "2024-09-18T12:38:10.172Z"
   },
   {
    "duration": 301,
    "start_time": "2024-09-18T12:38:20.834Z"
   },
   {
    "duration": 284,
    "start_time": "2024-09-18T12:39:43.351Z"
   },
   {
    "duration": 62,
    "start_time": "2024-09-18T12:48:50.691Z"
   },
   {
    "duration": 298,
    "start_time": "2024-09-18T12:49:30.615Z"
   },
   {
    "duration": 295,
    "start_time": "2024-09-18T12:49:58.206Z"
   },
   {
    "duration": 293,
    "start_time": "2024-09-18T12:50:14.109Z"
   },
   {
    "duration": 63,
    "start_time": "2024-09-18T12:53:08.985Z"
   },
   {
    "duration": 78,
    "start_time": "2024-09-18T12:53:18.960Z"
   },
   {
    "duration": 293,
    "start_time": "2024-09-18T12:53:24.667Z"
   },
   {
    "duration": 93,
    "start_time": "2024-09-18T12:53:50.528Z"
   },
   {
    "duration": 93,
    "start_time": "2024-09-18T12:54:46.716Z"
   },
   {
    "duration": 204,
    "start_time": "2024-09-18T12:55:04.720Z"
   },
   {
    "duration": 300,
    "start_time": "2024-09-18T12:56:15.526Z"
   },
   {
    "duration": 1250,
    "start_time": "2024-09-18T13:01:09.207Z"
   },
   {
    "duration": 72,
    "start_time": "2024-09-18T13:01:10.459Z"
   },
   {
    "duration": 14,
    "start_time": "2024-09-18T13:01:10.533Z"
   },
   {
    "duration": 30,
    "start_time": "2024-09-18T13:01:10.549Z"
   },
   {
    "duration": 15,
    "start_time": "2024-09-18T13:01:10.581Z"
   },
   {
    "duration": 52,
    "start_time": "2024-09-18T13:01:10.597Z"
   },
   {
    "duration": 24,
    "start_time": "2024-09-18T13:01:10.651Z"
   },
   {
    "duration": 47,
    "start_time": "2024-09-18T13:01:10.676Z"
   },
   {
    "duration": 26,
    "start_time": "2024-09-18T13:01:10.725Z"
   },
   {
    "duration": 11,
    "start_time": "2024-09-18T13:01:10.754Z"
   },
   {
    "duration": 14,
    "start_time": "2024-09-18T13:01:10.767Z"
   },
   {
    "duration": 21,
    "start_time": "2024-09-18T13:01:10.783Z"
   },
   {
    "duration": 31,
    "start_time": "2024-09-18T13:01:10.806Z"
   },
   {
    "duration": 17,
    "start_time": "2024-09-18T13:01:10.839Z"
   },
   {
    "duration": 51,
    "start_time": "2024-09-18T13:01:10.857Z"
   },
   {
    "duration": 50,
    "start_time": "2024-09-18T13:01:10.910Z"
   },
   {
    "duration": 36,
    "start_time": "2024-09-18T13:01:10.961Z"
   },
   {
    "duration": 39,
    "start_time": "2024-09-18T13:01:10.999Z"
   },
   {
    "duration": 29,
    "start_time": "2024-09-18T13:01:11.039Z"
   },
   {
    "duration": 387,
    "start_time": "2024-09-18T13:01:11.069Z"
   },
   {
    "duration": 331,
    "start_time": "2024-09-18T13:01:11.457Z"
   },
   {
    "duration": 14,
    "start_time": "2024-09-18T13:01:11.790Z"
   },
   {
    "duration": 325,
    "start_time": "2024-09-18T13:01:11.820Z"
   },
   {
    "duration": 311,
    "start_time": "2024-09-18T13:01:12.147Z"
   },
   {
    "duration": 109,
    "start_time": "2024-09-18T13:05:40.897Z"
   },
   {
    "duration": 659,
    "start_time": "2024-09-18T13:07:24.594Z"
   },
   {
    "duration": 30,
    "start_time": "2024-09-18T13:08:21.433Z"
   },
   {
    "duration": 268,
    "start_time": "2024-09-18T13:10:27.647Z"
   },
   {
    "duration": 267,
    "start_time": "2024-09-18T13:10:45.942Z"
   },
   {
    "duration": 289,
    "start_time": "2024-09-18T13:19:44.339Z"
   },
   {
    "duration": 6,
    "start_time": "2024-09-18T13:32:45.793Z"
   },
   {
    "duration": 236,
    "start_time": "2024-09-18T13:32:51.377Z"
   },
   {
    "duration": 80,
    "start_time": "2024-09-18T13:44:44.331Z"
   },
   {
    "duration": 1230,
    "start_time": "2024-09-18T13:44:59.248Z"
   },
   {
    "duration": 73,
    "start_time": "2024-09-18T13:45:00.480Z"
   },
   {
    "duration": 12,
    "start_time": "2024-09-18T13:45:00.555Z"
   },
   {
    "duration": 49,
    "start_time": "2024-09-18T13:45:00.570Z"
   },
   {
    "duration": 41,
    "start_time": "2024-09-18T13:45:00.621Z"
   },
   {
    "duration": 76,
    "start_time": "2024-09-18T13:45:00.664Z"
   },
   {
    "duration": 13,
    "start_time": "2024-09-18T13:45:00.742Z"
   },
   {
    "duration": 39,
    "start_time": "2024-09-18T13:45:00.757Z"
   },
   {
    "duration": 21,
    "start_time": "2024-09-18T13:45:00.797Z"
   },
   {
    "duration": 13,
    "start_time": "2024-09-18T13:45:00.821Z"
   },
   {
    "duration": 16,
    "start_time": "2024-09-18T13:45:00.835Z"
   },
   {
    "duration": 25,
    "start_time": "2024-09-18T13:45:00.853Z"
   },
   {
    "duration": 22,
    "start_time": "2024-09-18T13:45:00.881Z"
   },
   {
    "duration": 16,
    "start_time": "2024-09-18T13:45:00.905Z"
   },
   {
    "duration": 50,
    "start_time": "2024-09-18T13:45:00.923Z"
   },
   {
    "duration": 29,
    "start_time": "2024-09-18T13:45:00.975Z"
   },
   {
    "duration": 19,
    "start_time": "2024-09-18T13:45:01.006Z"
   },
   {
    "duration": 17,
    "start_time": "2024-09-18T13:45:01.027Z"
   },
   {
    "duration": 18,
    "start_time": "2024-09-18T13:45:01.046Z"
   },
   {
    "duration": 393,
    "start_time": "2024-09-18T13:45:01.065Z"
   },
   {
    "duration": 349,
    "start_time": "2024-09-18T13:45:01.460Z"
   },
   {
    "duration": 20,
    "start_time": "2024-09-18T13:45:01.811Z"
   },
   {
    "duration": 378,
    "start_time": "2024-09-18T13:45:01.833Z"
   },
   {
    "duration": 292,
    "start_time": "2024-09-18T13:45:02.213Z"
   },
   {
    "duration": 41,
    "start_time": "2024-09-18T13:45:02.507Z"
   },
   {
    "duration": 293,
    "start_time": "2024-09-18T13:45:02.550Z"
   },
   {
    "duration": 77,
    "start_time": "2024-09-18T13:45:02.845Z"
   },
   {
    "duration": 0,
    "start_time": "2024-09-18T13:45:02.924Z"
   },
   {
    "duration": 12,
    "start_time": "2024-09-18T13:45:46.110Z"
   },
   {
    "duration": 103,
    "start_time": "2024-09-18T13:47:47.352Z"
   },
   {
    "duration": 9,
    "start_time": "2024-09-18T13:48:23.183Z"
   },
   {
    "duration": 1019,
    "start_time": "2024-09-18T13:48:34.454Z"
   },
   {
    "duration": 52,
    "start_time": "2024-09-19T04:08:09.252Z"
   },
   {
    "duration": 1414,
    "start_time": "2024-09-19T04:08:21.052Z"
   },
   {
    "duration": 195,
    "start_time": "2024-09-19T04:08:22.469Z"
   },
   {
    "duration": 11,
    "start_time": "2024-09-19T04:08:22.665Z"
   },
   {
    "duration": 21,
    "start_time": "2024-09-19T04:08:22.678Z"
   },
   {
    "duration": 14,
    "start_time": "2024-09-19T04:08:22.700Z"
   },
   {
    "duration": 24,
    "start_time": "2024-09-19T04:08:22.716Z"
   },
   {
    "duration": 10,
    "start_time": "2024-09-19T04:08:22.742Z"
   },
   {
    "duration": 17,
    "start_time": "2024-09-19T04:08:22.753Z"
   },
   {
    "duration": 22,
    "start_time": "2024-09-19T04:08:22.772Z"
   },
   {
    "duration": 24,
    "start_time": "2024-09-19T04:08:22.797Z"
   },
   {
    "duration": 6,
    "start_time": "2024-09-19T04:08:22.823Z"
   },
   {
    "duration": 25,
    "start_time": "2024-09-19T04:08:22.831Z"
   },
   {
    "duration": 11,
    "start_time": "2024-09-19T04:08:22.858Z"
   },
   {
    "duration": 11,
    "start_time": "2024-09-19T04:08:22.871Z"
   },
   {
    "duration": 10,
    "start_time": "2024-09-19T04:08:22.884Z"
   },
   {
    "duration": 22,
    "start_time": "2024-09-19T04:08:22.895Z"
   },
   {
    "duration": 21,
    "start_time": "2024-09-19T04:08:22.919Z"
   },
   {
    "duration": 27,
    "start_time": "2024-09-19T04:08:22.942Z"
   },
   {
    "duration": 17,
    "start_time": "2024-09-19T04:08:22.970Z"
   },
   {
    "duration": 402,
    "start_time": "2024-09-19T04:08:22.988Z"
   },
   {
    "duration": 333,
    "start_time": "2024-09-19T04:08:23.392Z"
   },
   {
    "duration": 13,
    "start_time": "2024-09-19T04:08:23.727Z"
   },
   {
    "duration": 343,
    "start_time": "2024-09-19T04:08:23.742Z"
   },
   {
    "duration": 306,
    "start_time": "2024-09-19T04:08:24.087Z"
   },
   {
    "duration": 40,
    "start_time": "2024-09-19T04:08:24.395Z"
   },
   {
    "duration": 298,
    "start_time": "2024-09-19T04:08:24.437Z"
   },
   {
    "duration": 12,
    "start_time": "2024-09-19T04:08:24.737Z"
   },
   {
    "duration": 152,
    "start_time": "2024-09-19T04:08:24.752Z"
   },
   {
    "duration": 725,
    "start_time": "2024-09-19T04:08:33.115Z"
   },
   {
    "duration": 5,
    "start_time": "2024-09-19T04:10:41.871Z"
   },
   {
    "duration": 184,
    "start_time": "2024-09-19T04:14:39.842Z"
   },
   {
    "duration": 178,
    "start_time": "2024-09-19T04:14:52.719Z"
   },
   {
    "duration": 202,
    "start_time": "2024-09-19T04:15:21.184Z"
   },
   {
    "duration": 4,
    "start_time": "2024-09-19T04:17:58.064Z"
   },
   {
    "duration": 5,
    "start_time": "2024-09-19T04:18:09.040Z"
   },
   {
    "duration": 193,
    "start_time": "2024-09-19T04:19:19.786Z"
   },
   {
    "duration": 187,
    "start_time": "2024-09-19T04:21:24.608Z"
   },
   {
    "duration": 187,
    "start_time": "2024-09-19T04:21:31.221Z"
   },
   {
    "duration": 5,
    "start_time": "2024-09-19T04:23:18.081Z"
   },
   {
    "duration": 5,
    "start_time": "2024-09-19T04:23:27.639Z"
   },
   {
    "duration": 5,
    "start_time": "2024-09-19T04:24:05.964Z"
   },
   {
    "duration": 202,
    "start_time": "2024-09-19T04:25:34.195Z"
   },
   {
    "duration": 1162,
    "start_time": "2024-09-19T04:27:21.061Z"
   },
   {
    "duration": 68,
    "start_time": "2024-09-19T04:27:22.225Z"
   },
   {
    "duration": 10,
    "start_time": "2024-09-19T04:27:22.295Z"
   },
   {
    "duration": 37,
    "start_time": "2024-09-19T04:27:22.307Z"
   },
   {
    "duration": 33,
    "start_time": "2024-09-19T04:27:22.346Z"
   },
   {
    "duration": 27,
    "start_time": "2024-09-19T04:27:22.381Z"
   },
   {
    "duration": 31,
    "start_time": "2024-09-19T04:27:22.410Z"
   },
   {
    "duration": 23,
    "start_time": "2024-09-19T04:27:22.443Z"
   },
   {
    "duration": 30,
    "start_time": "2024-09-19T04:27:22.467Z"
   },
   {
    "duration": 26,
    "start_time": "2024-09-19T04:27:22.499Z"
   },
   {
    "duration": 30,
    "start_time": "2024-09-19T04:27:22.527Z"
   },
   {
    "duration": 44,
    "start_time": "2024-09-19T04:27:22.558Z"
   },
   {
    "duration": 34,
    "start_time": "2024-09-19T04:27:22.603Z"
   },
   {
    "duration": 24,
    "start_time": "2024-09-19T04:27:22.639Z"
   },
   {
    "duration": 42,
    "start_time": "2024-09-19T04:27:22.665Z"
   },
   {
    "duration": 48,
    "start_time": "2024-09-19T04:27:22.709Z"
   },
   {
    "duration": 43,
    "start_time": "2024-09-19T04:27:22.759Z"
   },
   {
    "duration": 43,
    "start_time": "2024-09-19T04:27:22.804Z"
   },
   {
    "duration": 16,
    "start_time": "2024-09-19T04:27:22.849Z"
   },
   {
    "duration": 366,
    "start_time": "2024-09-19T04:27:22.866Z"
   },
   {
    "duration": 313,
    "start_time": "2024-09-19T04:27:23.234Z"
   },
   {
    "duration": 12,
    "start_time": "2024-09-19T04:27:23.549Z"
   },
   {
    "duration": 330,
    "start_time": "2024-09-19T04:27:23.563Z"
   },
   {
    "duration": 285,
    "start_time": "2024-09-19T04:27:23.895Z"
   },
   {
    "duration": 53,
    "start_time": "2024-09-19T04:27:24.182Z"
   },
   {
    "duration": 289,
    "start_time": "2024-09-19T04:27:24.237Z"
   },
   {
    "duration": 298,
    "start_time": "2024-09-19T04:27:24.527Z"
   },
   {
    "duration": 6,
    "start_time": "2024-09-19T04:27:24.829Z"
   },
   {
    "duration": 209,
    "start_time": "2024-09-19T04:27:24.837Z"
   },
   {
    "duration": 5,
    "start_time": "2024-09-19T04:27:25.048Z"
   },
   {
    "duration": 132,
    "start_time": "2024-09-19T04:48:49.472Z"
   },
   {
    "duration": 8,
    "start_time": "2024-09-19T04:49:49.856Z"
   },
   {
    "duration": 10,
    "start_time": "2024-09-19T04:50:08.680Z"
   },
   {
    "duration": 13,
    "start_time": "2024-09-19T04:53:57.850Z"
   },
   {
    "duration": 14,
    "start_time": "2024-09-19T04:54:18.503Z"
   },
   {
    "duration": 1194,
    "start_time": "2024-09-19T04:54:51.286Z"
   },
   {
    "duration": 70,
    "start_time": "2024-09-19T04:54:52.482Z"
   },
   {
    "duration": 10,
    "start_time": "2024-09-19T04:54:52.554Z"
   },
   {
    "duration": 25,
    "start_time": "2024-09-19T04:54:52.566Z"
   },
   {
    "duration": 23,
    "start_time": "2024-09-19T04:54:52.592Z"
   },
   {
    "duration": 34,
    "start_time": "2024-09-19T04:54:52.617Z"
   },
   {
    "duration": 9,
    "start_time": "2024-09-19T04:54:52.653Z"
   },
   {
    "duration": 19,
    "start_time": "2024-09-19T04:54:52.664Z"
   },
   {
    "duration": 12,
    "start_time": "2024-09-19T04:54:52.684Z"
   },
   {
    "duration": 20,
    "start_time": "2024-09-19T04:54:52.698Z"
   },
   {
    "duration": 17,
    "start_time": "2024-09-19T04:54:52.719Z"
   },
   {
    "duration": 21,
    "start_time": "2024-09-19T04:54:52.738Z"
   },
   {
    "duration": 30,
    "start_time": "2024-09-19T04:54:52.761Z"
   },
   {
    "duration": 8,
    "start_time": "2024-09-19T04:54:52.793Z"
   },
   {
    "duration": 21,
    "start_time": "2024-09-19T04:54:52.802Z"
   },
   {
    "duration": 23,
    "start_time": "2024-09-19T04:54:52.825Z"
   },
   {
    "duration": 32,
    "start_time": "2024-09-19T04:54:52.849Z"
   },
   {
    "duration": 20,
    "start_time": "2024-09-19T04:54:52.883Z"
   },
   {
    "duration": 16,
    "start_time": "2024-09-19T04:54:52.905Z"
   },
   {
    "duration": 379,
    "start_time": "2024-09-19T04:54:52.923Z"
   },
   {
    "duration": 303,
    "start_time": "2024-09-19T04:54:53.303Z"
   },
   {
    "duration": 13,
    "start_time": "2024-09-19T04:54:53.608Z"
   },
   {
    "duration": 327,
    "start_time": "2024-09-19T04:54:53.622Z"
   },
   {
    "duration": 280,
    "start_time": "2024-09-19T04:54:53.951Z"
   },
   {
    "duration": 30,
    "start_time": "2024-09-19T04:54:54.233Z"
   },
   {
    "duration": 321,
    "start_time": "2024-09-19T04:54:54.265Z"
   },
   {
    "duration": 300,
    "start_time": "2024-09-19T04:54:54.588Z"
   },
   {
    "duration": 15,
    "start_time": "2024-09-19T04:54:54.891Z"
   },
   {
    "duration": 206,
    "start_time": "2024-09-19T04:54:54.907Z"
   },
   {
    "duration": 5,
    "start_time": "2024-09-19T04:54:55.114Z"
   },
   {
    "duration": 8,
    "start_time": "2024-09-19T04:54:55.121Z"
   },
   {
    "duration": 126,
    "start_time": "2024-09-19T04:54:55.130Z"
   },
   {
    "duration": 21,
    "start_time": "2024-09-19T04:57:47.122Z"
   },
   {
    "duration": 1191,
    "start_time": "2024-09-19T04:58:23.437Z"
   },
   {
    "duration": 69,
    "start_time": "2024-09-19T04:58:24.630Z"
   },
   {
    "duration": 13,
    "start_time": "2024-09-19T04:58:24.701Z"
   },
   {
    "duration": 32,
    "start_time": "2024-09-19T04:58:24.717Z"
   },
   {
    "duration": 16,
    "start_time": "2024-09-19T04:58:24.751Z"
   },
   {
    "duration": 17,
    "start_time": "2024-09-19T04:58:24.768Z"
   },
   {
    "duration": 12,
    "start_time": "2024-09-19T04:58:24.787Z"
   },
   {
    "duration": 16,
    "start_time": "2024-09-19T04:58:24.800Z"
   },
   {
    "duration": 15,
    "start_time": "2024-09-19T04:58:24.818Z"
   },
   {
    "duration": 10,
    "start_time": "2024-09-19T04:58:24.835Z"
   },
   {
    "duration": 6,
    "start_time": "2024-09-19T04:58:24.846Z"
   },
   {
    "duration": 39,
    "start_time": "2024-09-19T04:58:24.853Z"
   },
   {
    "duration": 26,
    "start_time": "2024-09-19T04:58:24.893Z"
   },
   {
    "duration": 9,
    "start_time": "2024-09-19T04:58:24.920Z"
   },
   {
    "duration": 7,
    "start_time": "2024-09-19T04:58:24.930Z"
   },
   {
    "duration": 23,
    "start_time": "2024-09-19T04:58:24.938Z"
   },
   {
    "duration": 19,
    "start_time": "2024-09-19T04:58:24.963Z"
   },
   {
    "duration": 21,
    "start_time": "2024-09-19T04:58:24.984Z"
   },
   {
    "duration": 16,
    "start_time": "2024-09-19T04:58:25.007Z"
   },
   {
    "duration": 383,
    "start_time": "2024-09-19T04:58:25.024Z"
   },
   {
    "duration": 348,
    "start_time": "2024-09-19T04:58:25.409Z"
   },
   {
    "duration": 13,
    "start_time": "2024-09-19T04:58:25.759Z"
   },
   {
    "duration": 368,
    "start_time": "2024-09-19T04:58:25.773Z"
   },
   {
    "duration": 308,
    "start_time": "2024-09-19T04:58:26.143Z"
   },
   {
    "duration": 32,
    "start_time": "2024-09-19T04:58:26.453Z"
   },
   {
    "duration": 296,
    "start_time": "2024-09-19T04:58:26.487Z"
   },
   {
    "duration": 294,
    "start_time": "2024-09-19T04:58:26.785Z"
   },
   {
    "duration": 5,
    "start_time": "2024-09-19T04:58:27.082Z"
   },
   {
    "duration": 201,
    "start_time": "2024-09-19T04:58:27.089Z"
   },
   {
    "duration": 6,
    "start_time": "2024-09-19T04:58:27.291Z"
   },
   {
    "duration": 10,
    "start_time": "2024-09-19T04:58:27.305Z"
   },
   {
    "duration": 135,
    "start_time": "2024-09-19T04:58:27.317Z"
   },
   {
    "duration": 184,
    "start_time": "2024-09-19T05:00:11.407Z"
   },
   {
    "duration": 11,
    "start_time": "2024-09-19T05:03:14.849Z"
   },
   {
    "duration": 185,
    "start_time": "2024-09-19T05:04:10.716Z"
   },
   {
    "duration": 184,
    "start_time": "2024-09-19T05:04:28.205Z"
   },
   {
    "duration": 47,
    "start_time": "2024-09-19T09:06:41.938Z"
   },
   {
    "duration": 6,
    "start_time": "2024-09-19T09:07:49.605Z"
   },
   {
    "duration": 1313,
    "start_time": "2024-09-19T09:07:58.445Z"
   },
   {
    "duration": 226,
    "start_time": "2024-09-19T09:07:59.760Z"
   },
   {
    "duration": 9,
    "start_time": "2024-09-19T09:07:59.988Z"
   },
   {
    "duration": 21,
    "start_time": "2024-09-19T09:07:59.999Z"
   },
   {
    "duration": 16,
    "start_time": "2024-09-19T09:08:00.022Z"
   },
   {
    "duration": 41,
    "start_time": "2024-09-19T09:08:00.040Z"
   },
   {
    "duration": 27,
    "start_time": "2024-09-19T09:08:00.083Z"
   },
   {
    "duration": 92,
    "start_time": "2024-09-19T09:08:00.112Z"
   },
   {
    "duration": 100,
    "start_time": "2024-09-19T09:08:00.206Z"
   },
   {
    "duration": 39,
    "start_time": "2024-09-19T09:08:00.309Z"
   },
   {
    "duration": 78,
    "start_time": "2024-09-19T09:08:00.350Z"
   },
   {
    "duration": 60,
    "start_time": "2024-09-19T09:08:00.429Z"
   },
   {
    "duration": 34,
    "start_time": "2024-09-19T09:08:00.492Z"
   },
   {
    "duration": 16,
    "start_time": "2024-09-19T09:08:00.528Z"
   },
   {
    "duration": 30,
    "start_time": "2024-09-19T09:08:00.546Z"
   },
   {
    "duration": 22,
    "start_time": "2024-09-19T09:08:00.577Z"
   },
   {
    "duration": 26,
    "start_time": "2024-09-19T09:08:00.601Z"
   },
   {
    "duration": 16,
    "start_time": "2024-09-19T09:08:00.628Z"
   },
   {
    "duration": 29,
    "start_time": "2024-09-19T09:08:00.646Z"
   },
   {
    "duration": 368,
    "start_time": "2024-09-19T09:08:00.677Z"
   },
   {
    "duration": 308,
    "start_time": "2024-09-19T09:08:01.047Z"
   },
   {
    "duration": 12,
    "start_time": "2024-09-19T09:08:01.356Z"
   },
   {
    "duration": 332,
    "start_time": "2024-09-19T09:08:01.369Z"
   },
   {
    "duration": 289,
    "start_time": "2024-09-19T09:08:01.702Z"
   },
   {
    "duration": 31,
    "start_time": "2024-09-19T09:08:01.992Z"
   },
   {
    "duration": 301,
    "start_time": "2024-09-19T09:08:02.024Z"
   },
   {
    "duration": 1572,
    "start_time": "2024-09-19T09:08:02.326Z"
   },
   {
    "duration": 127,
    "start_time": "2024-09-19T09:08:03.903Z"
   },
   {
    "duration": 0,
    "start_time": "2024-09-19T09:08:04.032Z"
   },
   {
    "duration": 0,
    "start_time": "2024-09-19T09:08:04.033Z"
   },
   {
    "duration": 0,
    "start_time": "2024-09-19T09:08:04.034Z"
   },
   {
    "duration": 0,
    "start_time": "2024-09-19T09:08:04.035Z"
   },
   {
    "duration": 0,
    "start_time": "2024-09-19T09:08:04.036Z"
   },
   {
    "duration": 0,
    "start_time": "2024-09-19T09:08:04.037Z"
   },
   {
    "duration": 12,
    "start_time": "2024-09-19T09:10:28.468Z"
   },
   {
    "duration": 17,
    "start_time": "2024-09-19T09:10:34.852Z"
   },
   {
    "duration": 1159,
    "start_time": "2024-09-19T09:10:45.011Z"
   },
   {
    "duration": 72,
    "start_time": "2024-09-19T09:10:46.172Z"
   },
   {
    "duration": 11,
    "start_time": "2024-09-19T09:10:46.245Z"
   },
   {
    "duration": 46,
    "start_time": "2024-09-19T09:10:46.258Z"
   },
   {
    "duration": 14,
    "start_time": "2024-09-19T09:10:46.305Z"
   },
   {
    "duration": 21,
    "start_time": "2024-09-19T09:10:46.321Z"
   },
   {
    "duration": 9,
    "start_time": "2024-09-19T09:10:46.343Z"
   },
   {
    "duration": 9,
    "start_time": "2024-09-19T09:10:46.354Z"
   },
   {
    "duration": 14,
    "start_time": "2024-09-19T09:10:46.364Z"
   },
   {
    "duration": 96,
    "start_time": "2024-09-19T09:10:46.380Z"
   },
   {
    "duration": 31,
    "start_time": "2024-09-19T09:10:46.477Z"
   },
   {
    "duration": 9,
    "start_time": "2024-09-19T09:10:46.509Z"
   },
   {
    "duration": 9,
    "start_time": "2024-09-19T09:10:46.519Z"
   },
   {
    "duration": 19,
    "start_time": "2024-09-19T09:10:46.529Z"
   },
   {
    "duration": 7,
    "start_time": "2024-09-19T09:10:46.550Z"
   },
   {
    "duration": 10,
    "start_time": "2024-09-19T09:10:46.558Z"
   },
   {
    "duration": 19,
    "start_time": "2024-09-19T09:10:46.569Z"
   },
   {
    "duration": 17,
    "start_time": "2024-09-19T09:10:46.589Z"
   },
   {
    "duration": 46,
    "start_time": "2024-09-19T09:10:46.607Z"
   },
   {
    "duration": 369,
    "start_time": "2024-09-19T09:10:46.654Z"
   },
   {
    "duration": 314,
    "start_time": "2024-09-19T09:10:47.025Z"
   },
   {
    "duration": 17,
    "start_time": "2024-09-19T09:10:47.341Z"
   },
   {
    "duration": 401,
    "start_time": "2024-09-19T09:10:47.360Z"
   },
   {
    "duration": 290,
    "start_time": "2024-09-19T09:10:47.762Z"
   },
   {
    "duration": 33,
    "start_time": "2024-09-19T09:10:48.053Z"
   },
   {
    "duration": 296,
    "start_time": "2024-09-19T09:10:48.087Z"
   },
   {
    "duration": 1506,
    "start_time": "2024-09-19T09:10:48.384Z"
   },
   {
    "duration": 130,
    "start_time": "2024-09-19T09:10:49.895Z"
   },
   {
    "duration": 0,
    "start_time": "2024-09-19T09:10:50.027Z"
   },
   {
    "duration": 0,
    "start_time": "2024-09-19T09:10:50.028Z"
   },
   {
    "duration": 0,
    "start_time": "2024-09-19T09:10:50.029Z"
   },
   {
    "duration": 0,
    "start_time": "2024-09-19T09:10:50.030Z"
   },
   {
    "duration": 0,
    "start_time": "2024-09-19T09:10:50.031Z"
   },
   {
    "duration": 0,
    "start_time": "2024-09-19T09:10:50.032Z"
   },
   {
    "duration": 14,
    "start_time": "2024-09-19T09:11:06.497Z"
   },
   {
    "duration": 16,
    "start_time": "2024-09-19T09:11:17.735Z"
   },
   {
    "duration": 1422,
    "start_time": "2024-09-19T09:15:13.619Z"
   },
   {
    "duration": 7,
    "start_time": "2024-09-19T09:20:40.812Z"
   },
   {
    "duration": 743,
    "start_time": "2024-09-19T09:21:22.963Z"
   },
   {
    "duration": 5,
    "start_time": "2024-09-19T09:21:28.134Z"
   },
   {
    "duration": 10,
    "start_time": "2024-09-19T09:21:36.550Z"
   },
   {
    "duration": 297,
    "start_time": "2024-09-19T09:31:00.457Z"
   },
   {
    "duration": 1145,
    "start_time": "2024-09-19T09:31:20.016Z"
   },
   {
    "duration": 71,
    "start_time": "2024-09-19T09:31:21.162Z"
   },
   {
    "duration": 10,
    "start_time": "2024-09-19T09:31:21.234Z"
   },
   {
    "duration": 69,
    "start_time": "2024-09-19T09:31:21.245Z"
   },
   {
    "duration": 14,
    "start_time": "2024-09-19T09:31:21.316Z"
   },
   {
    "duration": 30,
    "start_time": "2024-09-19T09:31:21.332Z"
   },
   {
    "duration": 10,
    "start_time": "2024-09-19T09:31:21.363Z"
   },
   {
    "duration": 9,
    "start_time": "2024-09-19T09:31:21.374Z"
   },
   {
    "duration": 12,
    "start_time": "2024-09-19T09:31:21.385Z"
   },
   {
    "duration": 10,
    "start_time": "2024-09-19T09:31:21.399Z"
   },
   {
    "duration": 5,
    "start_time": "2024-09-19T09:31:21.410Z"
   },
   {
    "duration": 41,
    "start_time": "2024-09-19T09:31:21.416Z"
   },
   {
    "duration": 10,
    "start_time": "2024-09-19T09:31:21.459Z"
   },
   {
    "duration": 4,
    "start_time": "2024-09-19T09:31:21.470Z"
   },
   {
    "duration": 7,
    "start_time": "2024-09-19T09:31:21.476Z"
   },
   {
    "duration": 9,
    "start_time": "2024-09-19T09:31:21.485Z"
   },
   {
    "duration": 23,
    "start_time": "2024-09-19T09:31:21.495Z"
   },
   {
    "duration": 45,
    "start_time": "2024-09-19T09:31:21.520Z"
   },
   {
    "duration": 17,
    "start_time": "2024-09-19T09:31:21.567Z"
   },
   {
    "duration": 374,
    "start_time": "2024-09-19T09:31:21.585Z"
   },
   {
    "duration": 310,
    "start_time": "2024-09-19T09:31:21.960Z"
   },
   {
    "duration": 13,
    "start_time": "2024-09-19T09:31:22.271Z"
   },
   {
    "duration": 328,
    "start_time": "2024-09-19T09:31:22.285Z"
   },
   {
    "duration": 279,
    "start_time": "2024-09-19T09:31:22.614Z"
   },
   {
    "duration": 31,
    "start_time": "2024-09-19T09:31:22.895Z"
   },
   {
    "duration": 354,
    "start_time": "2024-09-19T09:31:22.928Z"
   },
   {
    "duration": 1540,
    "start_time": "2024-09-19T09:31:23.283Z"
   },
   {
    "duration": 12,
    "start_time": "2024-09-19T09:31:24.826Z"
   },
   {
    "duration": 275,
    "start_time": "2024-09-19T09:31:24.839Z"
   },
   {
    "duration": 181,
    "start_time": "2024-09-19T09:31:30.562Z"
   },
   {
    "duration": 178,
    "start_time": "2024-09-19T09:32:15.576Z"
   },
   {
    "duration": 1111,
    "start_time": "2024-09-19T09:32:25.898Z"
   },
   {
    "duration": 71,
    "start_time": "2024-09-19T09:32:27.011Z"
   },
   {
    "duration": 9,
    "start_time": "2024-09-19T09:32:27.083Z"
   },
   {
    "duration": 25,
    "start_time": "2024-09-19T09:32:27.094Z"
   },
   {
    "duration": 15,
    "start_time": "2024-09-19T09:32:27.121Z"
   },
   {
    "duration": 25,
    "start_time": "2024-09-19T09:32:27.138Z"
   },
   {
    "duration": 9,
    "start_time": "2024-09-19T09:32:27.164Z"
   },
   {
    "duration": 11,
    "start_time": "2024-09-19T09:32:27.175Z"
   },
   {
    "duration": 7,
    "start_time": "2024-09-19T09:32:27.187Z"
   },
   {
    "duration": 8,
    "start_time": "2024-09-19T09:32:27.196Z"
   },
   {
    "duration": 5,
    "start_time": "2024-09-19T09:32:27.205Z"
   },
   {
    "duration": 43,
    "start_time": "2024-09-19T09:32:27.212Z"
   },
   {
    "duration": 56,
    "start_time": "2024-09-19T09:32:27.257Z"
   },
   {
    "duration": 11,
    "start_time": "2024-09-19T09:32:27.316Z"
   },
   {
    "duration": 12,
    "start_time": "2024-09-19T09:32:27.329Z"
   },
   {
    "duration": 11,
    "start_time": "2024-09-19T09:32:27.343Z"
   },
   {
    "duration": 17,
    "start_time": "2024-09-19T09:32:27.355Z"
   },
   {
    "duration": 15,
    "start_time": "2024-09-19T09:32:27.374Z"
   },
   {
    "duration": 17,
    "start_time": "2024-09-19T09:32:27.390Z"
   },
   {
    "duration": 384,
    "start_time": "2024-09-19T09:32:27.408Z"
   },
   {
    "duration": 338,
    "start_time": "2024-09-19T09:32:27.793Z"
   },
   {
    "duration": 27,
    "start_time": "2024-09-19T09:32:28.132Z"
   },
   {
    "duration": 349,
    "start_time": "2024-09-19T09:32:28.160Z"
   },
   {
    "duration": 299,
    "start_time": "2024-09-19T09:32:28.510Z"
   },
   {
    "duration": 46,
    "start_time": "2024-09-19T09:32:28.811Z"
   },
   {
    "duration": 371,
    "start_time": "2024-09-19T09:32:28.858Z"
   },
   {
    "duration": 1572,
    "start_time": "2024-09-19T09:32:29.231Z"
   },
   {
    "duration": 12,
    "start_time": "2024-09-19T09:32:30.804Z"
   },
   {
    "duration": 313,
    "start_time": "2024-09-19T09:32:30.817Z"
   },
   {
    "duration": 170,
    "start_time": "2024-09-19T09:32:48.335Z"
   },
   {
    "duration": 177,
    "start_time": "2024-09-19T09:33:01.680Z"
   },
   {
    "duration": 104,
    "start_time": "2024-09-19T09:33:53.527Z"
   },
   {
    "duration": 959,
    "start_time": "2024-09-19T09:34:00.872Z"
   },
   {
    "duration": 4943,
    "start_time": "2024-09-19T09:37:40.378Z"
   },
   {
    "duration": 1515,
    "start_time": "2024-09-19T09:58:50.700Z"
   },
   {
    "duration": 864,
    "start_time": "2024-09-19T10:07:02.298Z"
   },
   {
    "duration": 912,
    "start_time": "2024-09-19T10:07:39.809Z"
   },
   {
    "duration": 868,
    "start_time": "2024-09-19T10:07:45.992Z"
   },
   {
    "duration": 1168,
    "start_time": "2024-09-19T10:07:54.024Z"
   },
   {
    "duration": 81,
    "start_time": "2024-09-19T10:07:55.194Z"
   },
   {
    "duration": 12,
    "start_time": "2024-09-19T10:07:55.276Z"
   },
   {
    "duration": 40,
    "start_time": "2024-09-19T10:07:55.290Z"
   },
   {
    "duration": 18,
    "start_time": "2024-09-19T10:07:55.332Z"
   },
   {
    "duration": 19,
    "start_time": "2024-09-19T10:07:55.352Z"
   },
   {
    "duration": 51,
    "start_time": "2024-09-19T10:07:55.372Z"
   },
   {
    "duration": 12,
    "start_time": "2024-09-19T10:07:55.425Z"
   },
   {
    "duration": 22,
    "start_time": "2024-09-19T10:07:55.439Z"
   },
   {
    "duration": 10,
    "start_time": "2024-09-19T10:07:55.464Z"
   },
   {
    "duration": 5,
    "start_time": "2024-09-19T10:07:55.476Z"
   },
   {
    "duration": 48,
    "start_time": "2024-09-19T10:07:55.483Z"
   },
   {
    "duration": 27,
    "start_time": "2024-09-19T10:07:55.532Z"
   },
   {
    "duration": 8,
    "start_time": "2024-09-19T10:07:55.560Z"
   },
   {
    "duration": 6,
    "start_time": "2024-09-19T10:07:55.569Z"
   },
   {
    "duration": 9,
    "start_time": "2024-09-19T10:07:55.577Z"
   },
   {
    "duration": 18,
    "start_time": "2024-09-19T10:07:55.587Z"
   },
   {
    "duration": 26,
    "start_time": "2024-09-19T10:07:55.606Z"
   },
   {
    "duration": 29,
    "start_time": "2024-09-19T10:07:55.633Z"
   },
   {
    "duration": 380,
    "start_time": "2024-09-19T10:07:55.663Z"
   },
   {
    "duration": 330,
    "start_time": "2024-09-19T10:07:56.045Z"
   },
   {
    "duration": 13,
    "start_time": "2024-09-19T10:07:56.376Z"
   },
   {
    "duration": 419,
    "start_time": "2024-09-19T10:07:56.390Z"
   },
   {
    "duration": 294,
    "start_time": "2024-09-19T10:07:56.810Z"
   },
   {
    "duration": 30,
    "start_time": "2024-09-19T10:07:57.106Z"
   },
   {
    "duration": 296,
    "start_time": "2024-09-19T10:07:57.137Z"
   },
   {
    "duration": 1524,
    "start_time": "2024-09-19T10:07:57.435Z"
   },
   {
    "duration": 11,
    "start_time": "2024-09-19T10:07:58.962Z"
   },
   {
    "duration": 1003,
    "start_time": "2024-09-19T10:07:58.975Z"
   },
   {
    "duration": 453,
    "start_time": "2024-09-19T10:08:07.416Z"
   },
   {
    "duration": 1168,
    "start_time": "2024-09-19T10:09:04.005Z"
   },
   {
    "duration": 816,
    "start_time": "2024-09-19T10:10:26.419Z"
   },
   {
    "duration": 905,
    "start_time": "2024-09-19T10:10:37.847Z"
   },
   {
    "duration": 916,
    "start_time": "2024-09-19T10:10:49.961Z"
   },
   {
    "duration": 1424,
    "start_time": "2024-09-19T10:11:19.666Z"
   },
   {
    "duration": 903,
    "start_time": "2024-09-19T10:11:30.478Z"
   },
   {
    "duration": 14,
    "start_time": "2024-09-19T10:13:39.940Z"
   },
   {
    "duration": 14,
    "start_time": "2024-09-19T10:14:01.963Z"
   },
   {
    "duration": 1151,
    "start_time": "2024-09-19T10:14:12.443Z"
   },
   {
    "duration": 72,
    "start_time": "2024-09-19T10:14:13.596Z"
   },
   {
    "duration": 9,
    "start_time": "2024-09-19T10:14:13.670Z"
   },
   {
    "duration": 13,
    "start_time": "2024-09-19T10:14:13.681Z"
   },
   {
    "duration": 13,
    "start_time": "2024-09-19T10:14:13.695Z"
   },
   {
    "duration": 15,
    "start_time": "2024-09-19T10:14:13.710Z"
   },
   {
    "duration": 31,
    "start_time": "2024-09-19T10:14:13.727Z"
   },
   {
    "duration": 10,
    "start_time": "2024-09-19T10:14:13.760Z"
   },
   {
    "duration": 7,
    "start_time": "2024-09-19T10:14:13.771Z"
   },
   {
    "duration": 10,
    "start_time": "2024-09-19T10:14:13.781Z"
   },
   {
    "duration": 5,
    "start_time": "2024-09-19T10:14:13.792Z"
   },
   {
    "duration": 9,
    "start_time": "2024-09-19T10:14:13.798Z"
   },
   {
    "duration": 45,
    "start_time": "2024-09-19T10:14:13.809Z"
   },
   {
    "duration": 7,
    "start_time": "2024-09-19T10:14:13.856Z"
   },
   {
    "duration": 13,
    "start_time": "2024-09-19T10:14:13.864Z"
   },
   {
    "duration": 22,
    "start_time": "2024-09-19T10:14:13.879Z"
   },
   {
    "duration": 24,
    "start_time": "2024-09-19T10:14:13.904Z"
   },
   {
    "duration": 44,
    "start_time": "2024-09-19T10:14:13.931Z"
   },
   {
    "duration": 19,
    "start_time": "2024-09-19T10:14:13.977Z"
   },
   {
    "duration": 372,
    "start_time": "2024-09-19T10:14:13.997Z"
   },
   {
    "duration": 312,
    "start_time": "2024-09-19T10:14:14.371Z"
   },
   {
    "duration": 12,
    "start_time": "2024-09-19T10:14:14.684Z"
   },
   {
    "duration": 323,
    "start_time": "2024-09-19T10:14:14.698Z"
   },
   {
    "duration": 278,
    "start_time": "2024-09-19T10:14:15.022Z"
   },
   {
    "duration": 30,
    "start_time": "2024-09-19T10:14:15.301Z"
   },
   {
    "duration": 302,
    "start_time": "2024-09-19T10:14:15.332Z"
   },
   {
    "duration": 1484,
    "start_time": "2024-09-19T10:14:15.636Z"
   },
   {
    "duration": 11,
    "start_time": "2024-09-19T10:14:17.123Z"
   },
   {
    "duration": 890,
    "start_time": "2024-09-19T10:14:17.136Z"
   },
   {
    "duration": 13,
    "start_time": "2024-09-19T10:14:18.027Z"
   },
   {
    "duration": 98,
    "start_time": "2024-09-19T10:15:49.274Z"
   },
   {
    "duration": 12,
    "start_time": "2024-09-19T10:15:57.392Z"
   },
   {
    "duration": 10,
    "start_time": "2024-09-19T10:16:11.821Z"
   },
   {
    "duration": 12,
    "start_time": "2024-09-19T10:16:20.029Z"
   },
   {
    "duration": 59,
    "start_time": "2024-09-19T10:17:31.503Z"
   },
   {
    "duration": 141,
    "start_time": "2024-09-19T10:17:37.439Z"
   },
   {
    "duration": 37,
    "start_time": "2024-09-19T10:19:16.564Z"
   },
   {
    "duration": 1020,
    "start_time": "2024-09-19T10:22:29.041Z"
   },
   {
    "duration": 33,
    "start_time": "2024-09-19T10:22:45.927Z"
   },
   {
    "duration": 939,
    "start_time": "2024-09-19T10:25:07.099Z"
   },
   {
    "duration": 1100,
    "start_time": "2024-09-19T10:25:40.775Z"
   },
   {
    "duration": 72,
    "start_time": "2024-09-19T10:25:41.876Z"
   },
   {
    "duration": 10,
    "start_time": "2024-09-19T10:25:41.950Z"
   },
   {
    "duration": 14,
    "start_time": "2024-09-19T10:25:41.961Z"
   },
   {
    "duration": 13,
    "start_time": "2024-09-19T10:25:41.976Z"
   },
   {
    "duration": 15,
    "start_time": "2024-09-19T10:25:41.991Z"
   },
   {
    "duration": 20,
    "start_time": "2024-09-19T10:25:42.007Z"
   },
   {
    "duration": 29,
    "start_time": "2024-09-19T10:25:42.028Z"
   },
   {
    "duration": 8,
    "start_time": "2024-09-19T10:25:42.059Z"
   },
   {
    "duration": 13,
    "start_time": "2024-09-19T10:25:42.069Z"
   },
   {
    "duration": 5,
    "start_time": "2024-09-19T10:25:42.084Z"
   },
   {
    "duration": 12,
    "start_time": "2024-09-19T10:25:42.090Z"
   },
   {
    "duration": 11,
    "start_time": "2024-09-19T10:25:42.104Z"
   },
   {
    "duration": 11,
    "start_time": "2024-09-19T10:25:42.116Z"
   },
   {
    "duration": 26,
    "start_time": "2024-09-19T10:25:42.129Z"
   },
   {
    "duration": 9,
    "start_time": "2024-09-19T10:25:42.157Z"
   },
   {
    "duration": 17,
    "start_time": "2024-09-19T10:25:42.167Z"
   },
   {
    "duration": 18,
    "start_time": "2024-09-19T10:25:42.186Z"
   },
   {
    "duration": 16,
    "start_time": "2024-09-19T10:25:42.206Z"
   },
   {
    "duration": 357,
    "start_time": "2024-09-19T10:25:42.252Z"
   },
   {
    "duration": 313,
    "start_time": "2024-09-19T10:25:42.611Z"
   },
   {
    "duration": 12,
    "start_time": "2024-09-19T10:25:42.926Z"
   },
   {
    "duration": 334,
    "start_time": "2024-09-19T10:25:42.939Z"
   },
   {
    "duration": 277,
    "start_time": "2024-09-19T10:25:43.275Z"
   },
   {
    "duration": 34,
    "start_time": "2024-09-19T10:25:43.553Z"
   },
   {
    "duration": 347,
    "start_time": "2024-09-19T10:25:43.588Z"
   },
   {
    "duration": 1590,
    "start_time": "2024-09-19T10:25:43.937Z"
   },
   {
    "duration": 24,
    "start_time": "2024-09-19T10:25:45.529Z"
   },
   {
    "duration": 901,
    "start_time": "2024-09-19T10:25:45.554Z"
   },
   {
    "duration": 954,
    "start_time": "2024-09-19T10:25:46.456Z"
   },
   {
    "duration": 41,
    "start_time": "2024-09-19T10:25:47.411Z"
   },
   {
    "duration": 833,
    "start_time": "2024-09-19T10:26:05.822Z"
   },
   {
    "duration": 201,
    "start_time": "2024-09-19T10:46:47.672Z"
   },
   {
    "duration": 208,
    "start_time": "2024-09-19T10:47:05.806Z"
   },
   {
    "duration": 289,
    "start_time": "2024-09-19T10:49:51.005Z"
   },
   {
    "duration": 390,
    "start_time": "2024-09-19T10:50:29.432Z"
   },
   {
    "duration": 280,
    "start_time": "2024-09-19T10:50:41.558Z"
   },
   {
    "duration": 287,
    "start_time": "2024-09-19T10:50:54.631Z"
   },
   {
    "duration": 309,
    "start_time": "2024-09-19T10:50:58.097Z"
   },
   {
    "duration": 1190,
    "start_time": "2024-09-19T10:51:14.089Z"
   },
   {
    "duration": 75,
    "start_time": "2024-09-19T10:51:15.281Z"
   },
   {
    "duration": 10,
    "start_time": "2024-09-19T10:51:15.360Z"
   },
   {
    "duration": 35,
    "start_time": "2024-09-19T10:51:15.371Z"
   },
   {
    "duration": 56,
    "start_time": "2024-09-19T10:51:15.408Z"
   },
   {
    "duration": 27,
    "start_time": "2024-09-19T10:51:15.466Z"
   },
   {
    "duration": 10,
    "start_time": "2024-09-19T10:51:15.495Z"
   },
   {
    "duration": 13,
    "start_time": "2024-09-19T10:51:15.506Z"
   },
   {
    "duration": 67,
    "start_time": "2024-09-19T10:51:15.521Z"
   },
   {
    "duration": 10,
    "start_time": "2024-09-19T10:51:15.589Z"
   },
   {
    "duration": 5,
    "start_time": "2024-09-19T10:51:15.601Z"
   },
   {
    "duration": 14,
    "start_time": "2024-09-19T10:51:15.607Z"
   },
   {
    "duration": 27,
    "start_time": "2024-09-19T10:51:15.623Z"
   },
   {
    "duration": 6,
    "start_time": "2024-09-19T10:51:15.651Z"
   },
   {
    "duration": 16,
    "start_time": "2024-09-19T10:51:15.658Z"
   },
   {
    "duration": 10,
    "start_time": "2024-09-19T10:51:15.675Z"
   },
   {
    "duration": 23,
    "start_time": "2024-09-19T10:51:15.686Z"
   },
   {
    "duration": 17,
    "start_time": "2024-09-19T10:51:15.711Z"
   },
   {
    "duration": 38,
    "start_time": "2024-09-19T10:51:15.729Z"
   },
   {
    "duration": 373,
    "start_time": "2024-09-19T10:51:15.769Z"
   },
   {
    "duration": 309,
    "start_time": "2024-09-19T10:51:16.152Z"
   },
   {
    "duration": 12,
    "start_time": "2024-09-19T10:51:16.462Z"
   },
   {
    "duration": 364,
    "start_time": "2024-09-19T10:51:16.476Z"
   },
   {
    "duration": 286,
    "start_time": "2024-09-19T10:51:16.842Z"
   },
   {
    "duration": 39,
    "start_time": "2024-09-19T10:51:17.129Z"
   },
   {
    "duration": 284,
    "start_time": "2024-09-19T10:51:17.170Z"
   },
   {
    "duration": 1501,
    "start_time": "2024-09-19T10:51:17.457Z"
   },
   {
    "duration": 12,
    "start_time": "2024-09-19T10:51:18.959Z"
   },
   {
    "duration": 881,
    "start_time": "2024-09-19T10:51:18.973Z"
   },
   {
    "duration": 963,
    "start_time": "2024-09-19T10:51:19.856Z"
   },
   {
    "duration": 37,
    "start_time": "2024-09-19T10:51:20.821Z"
   },
   {
    "duration": 216,
    "start_time": "2024-09-19T10:51:20.860Z"
   },
   {
    "duration": 298,
    "start_time": "2024-09-19T10:51:21.078Z"
   },
   {
    "duration": 1104,
    "start_time": "2024-09-19T10:51:52.760Z"
   },
   {
    "duration": 89,
    "start_time": "2024-09-19T10:51:53.866Z"
   },
   {
    "duration": 15,
    "start_time": "2024-09-19T10:51:53.959Z"
   },
   {
    "duration": 17,
    "start_time": "2024-09-19T10:51:53.977Z"
   },
   {
    "duration": 14,
    "start_time": "2024-09-19T10:51:53.996Z"
   },
   {
    "duration": 42,
    "start_time": "2024-09-19T10:51:54.011Z"
   },
   {
    "duration": 10,
    "start_time": "2024-09-19T10:51:54.054Z"
   },
   {
    "duration": 10,
    "start_time": "2024-09-19T10:51:54.066Z"
   },
   {
    "duration": 7,
    "start_time": "2024-09-19T10:51:54.078Z"
   },
   {
    "duration": 12,
    "start_time": "2024-09-19T10:51:54.088Z"
   },
   {
    "duration": 6,
    "start_time": "2024-09-19T10:51:54.102Z"
   },
   {
    "duration": 43,
    "start_time": "2024-09-19T10:51:54.109Z"
   },
   {
    "duration": 17,
    "start_time": "2024-09-19T10:51:54.154Z"
   },
   {
    "duration": 8,
    "start_time": "2024-09-19T10:51:54.172Z"
   },
   {
    "duration": 8,
    "start_time": "2024-09-19T10:51:54.182Z"
   },
   {
    "duration": 14,
    "start_time": "2024-09-19T10:51:54.192Z"
   },
   {
    "duration": 18,
    "start_time": "2024-09-19T10:51:54.207Z"
   },
   {
    "duration": 36,
    "start_time": "2024-09-19T10:51:54.227Z"
   },
   {
    "duration": 16,
    "start_time": "2024-09-19T10:51:54.265Z"
   },
   {
    "duration": 377,
    "start_time": "2024-09-19T10:51:54.282Z"
   },
   {
    "duration": 308,
    "start_time": "2024-09-19T10:51:54.660Z"
   },
   {
    "duration": 12,
    "start_time": "2024-09-19T10:51:54.969Z"
   },
   {
    "duration": 335,
    "start_time": "2024-09-19T10:51:54.982Z"
   },
   {
    "duration": 273,
    "start_time": "2024-09-19T10:51:55.318Z"
   },
   {
    "duration": 30,
    "start_time": "2024-09-19T10:51:55.593Z"
   },
   {
    "duration": 288,
    "start_time": "2024-09-19T10:51:55.624Z"
   },
   {
    "duration": 1481,
    "start_time": "2024-09-19T10:51:55.914Z"
   },
   {
    "duration": 12,
    "start_time": "2024-09-19T10:51:57.398Z"
   },
   {
    "duration": 854,
    "start_time": "2024-09-19T10:51:57.412Z"
   },
   {
    "duration": 921,
    "start_time": "2024-09-19T10:51:58.267Z"
   },
   {
    "duration": 29,
    "start_time": "2024-09-19T10:51:59.190Z"
   },
   {
    "duration": 219,
    "start_time": "2024-09-19T10:51:59.221Z"
   },
   {
    "duration": 297,
    "start_time": "2024-09-19T10:51:59.442Z"
   },
   {
    "duration": 60,
    "start_time": "2024-09-19T10:53:14.549Z"
   },
   {
    "duration": 15,
    "start_time": "2024-09-19T10:53:23.242Z"
   },
   {
    "duration": 13,
    "start_time": "2024-09-19T10:53:41.774Z"
   },
   {
    "duration": 283,
    "start_time": "2024-09-19T10:57:14.335Z"
   },
   {
    "duration": 274,
    "start_time": "2024-09-19T10:57:17.254Z"
   },
   {
    "duration": 109,
    "start_time": "2024-09-19T11:23:53.425Z"
   },
   {
    "duration": 1094,
    "start_time": "2024-09-19T11:24:40.291Z"
   },
   {
    "duration": 72,
    "start_time": "2024-09-19T11:24:41.387Z"
   },
   {
    "duration": 10,
    "start_time": "2024-09-19T11:24:41.460Z"
   },
   {
    "duration": 19,
    "start_time": "2024-09-19T11:24:41.471Z"
   },
   {
    "duration": 16,
    "start_time": "2024-09-19T11:24:41.492Z"
   },
   {
    "duration": 17,
    "start_time": "2024-09-19T11:24:41.509Z"
   },
   {
    "duration": 10,
    "start_time": "2024-09-19T11:24:41.551Z"
   },
   {
    "duration": 10,
    "start_time": "2024-09-19T11:24:41.563Z"
   },
   {
    "duration": 7,
    "start_time": "2024-09-19T11:24:41.574Z"
   },
   {
    "duration": 17,
    "start_time": "2024-09-19T11:24:41.583Z"
   },
   {
    "duration": 5,
    "start_time": "2024-09-19T11:24:41.601Z"
   },
   {
    "duration": 11,
    "start_time": "2024-09-19T11:24:41.607Z"
   },
   {
    "duration": 42,
    "start_time": "2024-09-19T11:24:41.619Z"
   },
   {
    "duration": 5,
    "start_time": "2024-09-19T11:24:41.664Z"
   },
   {
    "duration": 6,
    "start_time": "2024-09-19T11:24:41.670Z"
   },
   {
    "duration": 10,
    "start_time": "2024-09-19T11:24:41.678Z"
   },
   {
    "duration": 26,
    "start_time": "2024-09-19T11:24:41.690Z"
   },
   {
    "duration": 42,
    "start_time": "2024-09-19T11:24:41.717Z"
   },
   {
    "duration": 16,
    "start_time": "2024-09-19T11:24:41.761Z"
   },
   {
    "duration": 377,
    "start_time": "2024-09-19T11:24:41.779Z"
   },
   {
    "duration": 311,
    "start_time": "2024-09-19T11:24:42.157Z"
   },
   {
    "duration": 11,
    "start_time": "2024-09-19T11:24:42.469Z"
   },
   {
    "duration": 326,
    "start_time": "2024-09-19T11:24:42.482Z"
   },
   {
    "duration": 289,
    "start_time": "2024-09-19T11:24:42.810Z"
   },
   {
    "duration": 32,
    "start_time": "2024-09-19T11:24:43.101Z"
   },
   {
    "duration": 310,
    "start_time": "2024-09-19T11:24:43.134Z"
   },
   {
    "duration": 1527,
    "start_time": "2024-09-19T11:24:43.446Z"
   },
   {
    "duration": 12,
    "start_time": "2024-09-19T11:24:44.975Z"
   },
   {
    "duration": 875,
    "start_time": "2024-09-19T11:24:44.988Z"
   },
   {
    "duration": 949,
    "start_time": "2024-09-19T11:24:45.864Z"
   },
   {
    "duration": 44,
    "start_time": "2024-09-19T11:24:46.814Z"
   },
   {
    "duration": 217,
    "start_time": "2024-09-19T11:24:46.860Z"
   },
   {
    "duration": 280,
    "start_time": "2024-09-19T11:24:47.078Z"
   },
   {
    "duration": 107,
    "start_time": "2024-09-19T11:24:47.360Z"
   },
   {
    "duration": 22,
    "start_time": "2024-09-19T11:25:32.480Z"
   },
   {
    "duration": 7,
    "start_time": "2024-09-19T11:28:04.858Z"
   },
   {
    "duration": 14,
    "start_time": "2024-09-19T11:28:36.944Z"
   },
   {
    "duration": 213,
    "start_time": "2024-09-19T11:28:52.969Z"
   },
   {
    "duration": 36,
    "start_time": "2024-09-19T11:30:21.060Z"
   },
   {
    "duration": 29,
    "start_time": "2024-09-19T11:31:44.775Z"
   },
   {
    "duration": 219,
    "start_time": "2024-09-19T11:34:23.350Z"
   },
   {
    "duration": 21,
    "start_time": "2024-09-19T11:34:57.788Z"
   },
   {
    "duration": 210,
    "start_time": "2024-09-19T11:36:05.212Z"
   },
   {
    "duration": 1160,
    "start_time": "2024-09-19T11:36:13.503Z"
   },
   {
    "duration": 76,
    "start_time": "2024-09-19T11:36:14.665Z"
   },
   {
    "duration": 12,
    "start_time": "2024-09-19T11:36:14.743Z"
   },
   {
    "duration": 17,
    "start_time": "2024-09-19T11:36:14.757Z"
   },
   {
    "duration": 23,
    "start_time": "2024-09-19T11:36:14.776Z"
   },
   {
    "duration": 16,
    "start_time": "2024-09-19T11:36:14.801Z"
   },
   {
    "duration": 9,
    "start_time": "2024-09-19T11:36:14.819Z"
   },
   {
    "duration": 10,
    "start_time": "2024-09-19T11:36:14.852Z"
   },
   {
    "duration": 8,
    "start_time": "2024-09-19T11:36:14.863Z"
   },
   {
    "duration": 13,
    "start_time": "2024-09-19T11:36:14.874Z"
   },
   {
    "duration": 6,
    "start_time": "2024-09-19T11:36:14.888Z"
   },
   {
    "duration": 18,
    "start_time": "2024-09-19T11:36:14.896Z"
   },
   {
    "duration": 73,
    "start_time": "2024-09-19T11:36:14.916Z"
   },
   {
    "duration": 37,
    "start_time": "2024-09-19T11:36:14.991Z"
   },
   {
    "duration": 37,
    "start_time": "2024-09-19T11:36:15.029Z"
   },
   {
    "duration": 37,
    "start_time": "2024-09-19T11:36:15.067Z"
   },
   {
    "duration": 35,
    "start_time": "2024-09-19T11:36:15.106Z"
   },
   {
    "duration": 18,
    "start_time": "2024-09-19T11:36:15.143Z"
   },
   {
    "duration": 97,
    "start_time": "2024-09-19T11:36:15.163Z"
   },
   {
    "duration": 368,
    "start_time": "2024-09-19T11:36:15.262Z"
   },
   {
    "duration": 301,
    "start_time": "2024-09-19T11:36:15.632Z"
   },
   {
    "duration": 21,
    "start_time": "2024-09-19T11:36:15.935Z"
   },
   {
    "duration": 327,
    "start_time": "2024-09-19T11:36:15.958Z"
   },
   {
    "duration": 291,
    "start_time": "2024-09-19T11:36:16.286Z"
   },
   {
    "duration": 32,
    "start_time": "2024-09-19T11:36:16.578Z"
   },
   {
    "duration": 307,
    "start_time": "2024-09-19T11:36:16.611Z"
   },
   {
    "duration": 1514,
    "start_time": "2024-09-19T11:36:16.920Z"
   },
   {
    "duration": 16,
    "start_time": "2024-09-19T11:36:18.438Z"
   },
   {
    "duration": 900,
    "start_time": "2024-09-19T11:36:18.455Z"
   },
   {
    "duration": 927,
    "start_time": "2024-09-19T11:36:19.356Z"
   },
   {
    "duration": 30,
    "start_time": "2024-09-19T11:36:20.284Z"
   },
   {
    "duration": 223,
    "start_time": "2024-09-19T11:36:20.316Z"
   },
   {
    "duration": 300,
    "start_time": "2024-09-19T11:36:20.541Z"
   },
   {
    "duration": 110,
    "start_time": "2024-09-19T11:36:20.843Z"
   },
   {
    "duration": 0,
    "start_time": "2024-09-19T11:36:20.954Z"
   },
   {
    "duration": 19,
    "start_time": "2024-09-19T11:36:45.763Z"
   },
   {
    "duration": 1130,
    "start_time": "2024-09-19T11:36:56.453Z"
   },
   {
    "duration": 73,
    "start_time": "2024-09-19T11:36:57.585Z"
   },
   {
    "duration": 9,
    "start_time": "2024-09-19T11:36:57.660Z"
   },
   {
    "duration": 80,
    "start_time": "2024-09-19T11:36:57.670Z"
   },
   {
    "duration": 14,
    "start_time": "2024-09-19T11:36:57.752Z"
   },
   {
    "duration": 18,
    "start_time": "2024-09-19T11:36:57.768Z"
   },
   {
    "duration": 10,
    "start_time": "2024-09-19T11:36:57.788Z"
   },
   {
    "duration": 20,
    "start_time": "2024-09-19T11:36:57.799Z"
   },
   {
    "duration": 21,
    "start_time": "2024-09-19T11:36:57.821Z"
   },
   {
    "duration": 14,
    "start_time": "2024-09-19T11:36:57.844Z"
   },
   {
    "duration": 12,
    "start_time": "2024-09-19T11:36:57.860Z"
   },
   {
    "duration": 9,
    "start_time": "2024-09-19T11:36:57.874Z"
   },
   {
    "duration": 30,
    "start_time": "2024-09-19T11:36:57.885Z"
   },
   {
    "duration": 9,
    "start_time": "2024-09-19T11:36:57.918Z"
   },
   {
    "duration": 9,
    "start_time": "2024-09-19T11:36:57.929Z"
   },
   {
    "duration": 13,
    "start_time": "2024-09-19T11:36:57.939Z"
   },
   {
    "duration": 19,
    "start_time": "2024-09-19T11:36:57.954Z"
   },
   {
    "duration": 17,
    "start_time": "2024-09-19T11:36:57.975Z"
   },
   {
    "duration": 16,
    "start_time": "2024-09-19T11:36:57.993Z"
   },
   {
    "duration": 387,
    "start_time": "2024-09-19T11:36:58.010Z"
   },
   {
    "duration": 310,
    "start_time": "2024-09-19T11:36:58.398Z"
   },
   {
    "duration": 12,
    "start_time": "2024-09-19T11:36:58.710Z"
   },
   {
    "duration": 346,
    "start_time": "2024-09-19T11:36:58.723Z"
   },
   {
    "duration": 285,
    "start_time": "2024-09-19T11:36:59.070Z"
   },
   {
    "duration": 30,
    "start_time": "2024-09-19T11:36:59.357Z"
   },
   {
    "duration": 295,
    "start_time": "2024-09-19T11:36:59.388Z"
   },
   {
    "duration": 1505,
    "start_time": "2024-09-19T11:36:59.684Z"
   },
   {
    "duration": 13,
    "start_time": "2024-09-19T11:37:01.190Z"
   },
   {
    "duration": 903,
    "start_time": "2024-09-19T11:37:01.205Z"
   },
   {
    "duration": 980,
    "start_time": "2024-09-19T11:37:02.110Z"
   },
   {
    "duration": 32,
    "start_time": "2024-09-19T11:37:03.092Z"
   },
   {
    "duration": 237,
    "start_time": "2024-09-19T11:37:03.126Z"
   },
   {
    "duration": 304,
    "start_time": "2024-09-19T11:37:03.364Z"
   },
   {
    "duration": 114,
    "start_time": "2024-09-19T11:37:03.670Z"
   },
   {
    "duration": 11,
    "start_time": "2024-09-19T11:38:22.909Z"
   },
   {
    "duration": 254,
    "start_time": "2024-09-19T11:38:23.186Z"
   },
   {
    "duration": 12,
    "start_time": "2024-09-19T11:38:32.437Z"
   },
   {
    "duration": 15,
    "start_time": "2024-09-19T11:39:53.448Z"
   },
   {
    "duration": 13,
    "start_time": "2024-09-19T11:40:09.130Z"
   },
   {
    "duration": 14,
    "start_time": "2024-09-19T11:40:19.260Z"
   },
   {
    "duration": 1221,
    "start_time": "2024-09-19T11:40:24.742Z"
   },
   {
    "duration": 73,
    "start_time": "2024-09-19T11:40:25.965Z"
   },
   {
    "duration": 9,
    "start_time": "2024-09-19T11:40:26.040Z"
   },
   {
    "duration": 16,
    "start_time": "2024-09-19T11:40:26.051Z"
   },
   {
    "duration": 15,
    "start_time": "2024-09-19T11:40:26.069Z"
   },
   {
    "duration": 17,
    "start_time": "2024-09-19T11:40:26.086Z"
   },
   {
    "duration": 11,
    "start_time": "2024-09-19T11:40:26.105Z"
   },
   {
    "duration": 47,
    "start_time": "2024-09-19T11:40:26.118Z"
   },
   {
    "duration": 10,
    "start_time": "2024-09-19T11:40:26.167Z"
   },
   {
    "duration": 22,
    "start_time": "2024-09-19T11:40:26.180Z"
   },
   {
    "duration": 6,
    "start_time": "2024-09-19T11:40:26.204Z"
   },
   {
    "duration": 14,
    "start_time": "2024-09-19T11:40:26.213Z"
   },
   {
    "duration": 11,
    "start_time": "2024-09-19T11:40:26.252Z"
   },
   {
    "duration": 6,
    "start_time": "2024-09-19T11:40:26.264Z"
   },
   {
    "duration": 14,
    "start_time": "2024-09-19T11:40:26.271Z"
   },
   {
    "duration": 14,
    "start_time": "2024-09-19T11:40:26.286Z"
   },
   {
    "duration": 18,
    "start_time": "2024-09-19T11:40:26.301Z"
   },
   {
    "duration": 47,
    "start_time": "2024-09-19T11:40:26.321Z"
   },
   {
    "duration": 18,
    "start_time": "2024-09-19T11:40:26.369Z"
   },
   {
    "duration": 387,
    "start_time": "2024-09-19T11:40:26.388Z"
   },
   {
    "duration": 321,
    "start_time": "2024-09-19T11:40:26.776Z"
   },
   {
    "duration": 12,
    "start_time": "2024-09-19T11:40:27.099Z"
   },
   {
    "duration": 328,
    "start_time": "2024-09-19T11:40:27.113Z"
   },
   {
    "duration": 288,
    "start_time": "2024-09-19T11:40:27.443Z"
   },
   {
    "duration": 36,
    "start_time": "2024-09-19T11:40:27.732Z"
   },
   {
    "duration": 293,
    "start_time": "2024-09-19T11:40:27.770Z"
   },
   {
    "duration": 1540,
    "start_time": "2024-09-19T11:40:28.065Z"
   },
   {
    "duration": 12,
    "start_time": "2024-09-19T11:40:29.609Z"
   },
   {
    "duration": 914,
    "start_time": "2024-09-19T11:40:29.623Z"
   },
   {
    "duration": 999,
    "start_time": "2024-09-19T11:40:30.540Z"
   },
   {
    "duration": 36,
    "start_time": "2024-09-19T11:40:31.540Z"
   },
   {
    "duration": 231,
    "start_time": "2024-09-19T11:40:31.577Z"
   },
   {
    "duration": 300,
    "start_time": "2024-09-19T11:40:31.809Z"
   },
   {
    "duration": 121,
    "start_time": "2024-09-19T11:40:32.111Z"
   },
   {
    "duration": 15,
    "start_time": "2024-09-19T11:41:58.804Z"
   },
   {
    "duration": 1153,
    "start_time": "2024-09-19T11:42:08.921Z"
   },
   {
    "duration": 72,
    "start_time": "2024-09-19T11:42:10.077Z"
   },
   {
    "duration": 10,
    "start_time": "2024-09-19T11:42:10.150Z"
   },
   {
    "duration": 33,
    "start_time": "2024-09-19T11:42:10.161Z"
   },
   {
    "duration": 52,
    "start_time": "2024-09-19T11:42:10.196Z"
   },
   {
    "duration": 16,
    "start_time": "2024-09-19T11:42:10.249Z"
   },
   {
    "duration": 9,
    "start_time": "2024-09-19T11:42:10.267Z"
   },
   {
    "duration": 20,
    "start_time": "2024-09-19T11:42:10.278Z"
   },
   {
    "duration": 16,
    "start_time": "2024-09-19T11:42:10.301Z"
   },
   {
    "duration": 14,
    "start_time": "2024-09-19T11:42:10.319Z"
   },
   {
    "duration": 10,
    "start_time": "2024-09-19T11:42:10.351Z"
   },
   {
    "duration": 9,
    "start_time": "2024-09-19T11:42:10.363Z"
   },
   {
    "duration": 11,
    "start_time": "2024-09-19T11:42:10.373Z"
   },
   {
    "duration": 5,
    "start_time": "2024-09-19T11:42:10.385Z"
   },
   {
    "duration": 8,
    "start_time": "2024-09-19T11:42:10.391Z"
   },
   {
    "duration": 9,
    "start_time": "2024-09-19T11:42:10.400Z"
   },
   {
    "duration": 49,
    "start_time": "2024-09-19T11:42:10.411Z"
   },
   {
    "duration": 17,
    "start_time": "2024-09-19T11:42:10.461Z"
   },
   {
    "duration": 17,
    "start_time": "2024-09-19T11:42:10.479Z"
   },
   {
    "duration": 393,
    "start_time": "2024-09-19T11:42:10.498Z"
   },
   {
    "duration": 321,
    "start_time": "2024-09-19T11:42:10.893Z"
   },
   {
    "duration": 12,
    "start_time": "2024-09-19T11:42:11.217Z"
   },
   {
    "duration": 359,
    "start_time": "2024-09-19T11:42:11.230Z"
   },
   {
    "duration": 288,
    "start_time": "2024-09-19T11:42:11.590Z"
   },
   {
    "duration": 32,
    "start_time": "2024-09-19T11:42:11.879Z"
   },
   {
    "duration": 303,
    "start_time": "2024-09-19T11:42:11.913Z"
   },
   {
    "duration": 1528,
    "start_time": "2024-09-19T11:42:12.218Z"
   },
   {
    "duration": 13,
    "start_time": "2024-09-19T11:42:13.753Z"
   },
   {
    "duration": 920,
    "start_time": "2024-09-19T11:42:13.767Z"
   },
   {
    "duration": 980,
    "start_time": "2024-09-19T11:42:14.689Z"
   },
   {
    "duration": 30,
    "start_time": "2024-09-19T11:42:15.670Z"
   },
   {
    "duration": 224,
    "start_time": "2024-09-19T11:42:15.701Z"
   },
   {
    "duration": 297,
    "start_time": "2024-09-19T11:42:15.926Z"
   },
   {
    "duration": 111,
    "start_time": "2024-09-19T11:42:16.224Z"
   },
   {
    "duration": 19,
    "start_time": "2024-09-19T11:43:55.191Z"
   },
   {
    "duration": 351,
    "start_time": "2024-09-19T11:45:11.180Z"
   },
   {
    "duration": 359,
    "start_time": "2024-09-19T11:45:48.245Z"
   },
   {
    "duration": 456,
    "start_time": "2024-09-19T11:45:55.296Z"
   },
   {
    "duration": 336,
    "start_time": "2024-09-19T11:46:18.994Z"
   },
   {
    "duration": 1179,
    "start_time": "2024-09-19T11:47:10.699Z"
   },
   {
    "duration": 73,
    "start_time": "2024-09-19T11:47:11.880Z"
   },
   {
    "duration": 9,
    "start_time": "2024-09-19T11:47:11.954Z"
   },
   {
    "duration": 16,
    "start_time": "2024-09-19T11:47:11.965Z"
   },
   {
    "duration": 13,
    "start_time": "2024-09-19T11:47:11.982Z"
   },
   {
    "duration": 18,
    "start_time": "2024-09-19T11:47:11.996Z"
   },
   {
    "duration": 9,
    "start_time": "2024-09-19T11:47:12.015Z"
   },
   {
    "duration": 38,
    "start_time": "2024-09-19T11:47:12.025Z"
   },
   {
    "duration": 14,
    "start_time": "2024-09-19T11:47:12.065Z"
   },
   {
    "duration": 9,
    "start_time": "2024-09-19T11:47:12.081Z"
   },
   {
    "duration": 4,
    "start_time": "2024-09-19T11:47:12.091Z"
   },
   {
    "duration": 10,
    "start_time": "2024-09-19T11:47:12.096Z"
   },
   {
    "duration": 9,
    "start_time": "2024-09-19T11:47:12.107Z"
   },
   {
    "duration": 10,
    "start_time": "2024-09-19T11:47:12.117Z"
   },
   {
    "duration": 29,
    "start_time": "2024-09-19T11:47:12.128Z"
   },
   {
    "duration": 17,
    "start_time": "2024-09-19T11:47:12.158Z"
   },
   {
    "duration": 33,
    "start_time": "2024-09-19T11:47:12.176Z"
   },
   {
    "duration": 16,
    "start_time": "2024-09-19T11:47:12.211Z"
   },
   {
    "duration": 25,
    "start_time": "2024-09-19T11:47:12.228Z"
   },
   {
    "duration": 362,
    "start_time": "2024-09-19T11:47:12.254Z"
   },
   {
    "duration": 319,
    "start_time": "2024-09-19T11:47:12.618Z"
   },
   {
    "duration": 19,
    "start_time": "2024-09-19T11:47:12.940Z"
   },
   {
    "duration": 364,
    "start_time": "2024-09-19T11:47:12.961Z"
   },
   {
    "duration": 275,
    "start_time": "2024-09-19T11:47:13.326Z"
   },
   {
    "duration": 32,
    "start_time": "2024-09-19T11:47:13.602Z"
   },
   {
    "duration": 312,
    "start_time": "2024-09-19T11:47:13.636Z"
   },
   {
    "duration": 1522,
    "start_time": "2024-09-19T11:47:13.950Z"
   },
   {
    "duration": 13,
    "start_time": "2024-09-19T11:47:15.475Z"
   },
   {
    "duration": 890,
    "start_time": "2024-09-19T11:47:15.489Z"
   },
   {
    "duration": 971,
    "start_time": "2024-09-19T11:47:16.381Z"
   },
   {
    "duration": 29,
    "start_time": "2024-09-19T11:47:17.353Z"
   },
   {
    "duration": 259,
    "start_time": "2024-09-19T11:47:17.384Z"
   },
   {
    "duration": 291,
    "start_time": "2024-09-19T11:47:17.645Z"
   },
   {
    "duration": 352,
    "start_time": "2024-09-19T11:47:17.938Z"
   },
   {
    "duration": 349,
    "start_time": "2024-09-19T11:52:48.559Z"
   },
   {
    "duration": 485,
    "start_time": "2024-09-19T11:57:44.879Z"
   },
   {
    "duration": 5,
    "start_time": "2024-09-19T12:53:50.867Z"
   },
   {
    "duration": 107,
    "start_time": "2024-09-19T12:53:52.485Z"
   },
   {
    "duration": 14,
    "start_time": "2024-09-19T12:54:32.003Z"
   },
   {
    "duration": 1099,
    "start_time": "2024-09-19T12:54:51.280Z"
   },
   {
    "duration": 72,
    "start_time": "2024-09-19T12:54:52.380Z"
   },
   {
    "duration": 11,
    "start_time": "2024-09-19T12:54:52.454Z"
   },
   {
    "duration": 42,
    "start_time": "2024-09-19T12:54:52.467Z"
   },
   {
    "duration": 15,
    "start_time": "2024-09-19T12:54:52.511Z"
   },
   {
    "duration": 35,
    "start_time": "2024-09-19T12:54:52.528Z"
   },
   {
    "duration": 72,
    "start_time": "2024-09-19T12:54:52.564Z"
   },
   {
    "duration": 16,
    "start_time": "2024-09-19T12:54:52.637Z"
   },
   {
    "duration": 21,
    "start_time": "2024-09-19T12:54:52.654Z"
   },
   {
    "duration": 10,
    "start_time": "2024-09-19T12:54:52.678Z"
   },
   {
    "duration": 6,
    "start_time": "2024-09-19T12:54:52.689Z"
   },
   {
    "duration": 17,
    "start_time": "2024-09-19T12:54:52.696Z"
   },
   {
    "duration": 29,
    "start_time": "2024-09-19T12:54:52.714Z"
   },
   {
    "duration": 12,
    "start_time": "2024-09-19T12:54:52.744Z"
   },
   {
    "duration": 17,
    "start_time": "2024-09-19T12:54:52.757Z"
   },
   {
    "duration": 14,
    "start_time": "2024-09-19T12:54:52.775Z"
   },
   {
    "duration": 35,
    "start_time": "2024-09-19T12:54:52.791Z"
   },
   {
    "duration": 16,
    "start_time": "2024-09-19T12:54:52.828Z"
   },
   {
    "duration": 17,
    "start_time": "2024-09-19T12:54:52.846Z"
   },
   {
    "duration": 362,
    "start_time": "2024-09-19T12:54:52.865Z"
   },
   {
    "duration": 306,
    "start_time": "2024-09-19T12:54:53.228Z"
   },
   {
    "duration": 20,
    "start_time": "2024-09-19T12:54:53.536Z"
   },
   {
    "duration": 415,
    "start_time": "2024-09-19T12:54:53.558Z"
   },
   {
    "duration": 280,
    "start_time": "2024-09-19T12:54:53.975Z"
   },
   {
    "duration": 30,
    "start_time": "2024-09-19T12:54:54.257Z"
   },
   {
    "duration": 294,
    "start_time": "2024-09-19T12:54:54.288Z"
   },
   {
    "duration": 1475,
    "start_time": "2024-09-19T12:54:54.584Z"
   },
   {
    "duration": 12,
    "start_time": "2024-09-19T12:54:56.062Z"
   },
   {
    "duration": 884,
    "start_time": "2024-09-19T12:54:56.076Z"
   },
   {
    "duration": 925,
    "start_time": "2024-09-19T12:54:56.961Z"
   },
   {
    "duration": 28,
    "start_time": "2024-09-19T12:54:57.888Z"
   },
   {
    "duration": 213,
    "start_time": "2024-09-19T12:54:57.918Z"
   },
   {
    "duration": 293,
    "start_time": "2024-09-19T12:54:58.132Z"
   },
   {
    "duration": 351,
    "start_time": "2024-09-19T12:54:58.427Z"
   },
   {
    "duration": 349,
    "start_time": "2024-09-19T12:54:58.780Z"
   },
   {
    "duration": 440,
    "start_time": "2024-09-19T12:54:59.130Z"
   },
   {
    "duration": 110,
    "start_time": "2024-09-19T12:54:59.571Z"
   },
   {
    "duration": 14,
    "start_time": "2024-09-19T12:56:06.874Z"
   },
   {
    "duration": 797,
    "start_time": "2024-09-19T13:02:20.389Z"
   },
   {
    "duration": 21,
    "start_time": "2024-09-19T13:02:27.929Z"
   },
   {
    "duration": 20,
    "start_time": "2024-09-19T13:02:34.136Z"
   },
   {
    "duration": 11,
    "start_time": "2024-09-19T13:03:30.688Z"
   },
   {
    "duration": 7,
    "start_time": "2024-09-19T13:04:34.829Z"
   },
   {
    "duration": 8,
    "start_time": "2024-09-19T13:04:35.159Z"
   },
   {
    "duration": 12,
    "start_time": "2024-09-19T13:16:08.369Z"
   },
   {
    "duration": 8,
    "start_time": "2024-09-19T13:16:21.093Z"
   },
   {
    "duration": 8,
    "start_time": "2024-09-19T13:16:37.314Z"
   },
   {
    "duration": 71,
    "start_time": "2024-09-19T13:19:23.851Z"
   },
   {
    "duration": 1202,
    "start_time": "2024-09-19T13:43:44.987Z"
   },
   {
    "duration": 73,
    "start_time": "2024-09-19T13:43:46.191Z"
   },
   {
    "duration": 10,
    "start_time": "2024-09-19T13:43:46.265Z"
   },
   {
    "duration": 19,
    "start_time": "2024-09-19T13:43:46.277Z"
   },
   {
    "duration": 23,
    "start_time": "2024-09-19T13:43:46.297Z"
   },
   {
    "duration": 16,
    "start_time": "2024-09-19T13:43:46.321Z"
   },
   {
    "duration": 10,
    "start_time": "2024-09-19T13:43:46.352Z"
   },
   {
    "duration": 10,
    "start_time": "2024-09-19T13:43:46.363Z"
   },
   {
    "duration": 7,
    "start_time": "2024-09-19T13:43:46.375Z"
   },
   {
    "duration": 10,
    "start_time": "2024-09-19T13:43:46.385Z"
   },
   {
    "duration": 5,
    "start_time": "2024-09-19T13:43:46.396Z"
   },
   {
    "duration": 10,
    "start_time": "2024-09-19T13:43:46.403Z"
   },
   {
    "duration": 10,
    "start_time": "2024-09-19T13:43:46.452Z"
   },
   {
    "duration": 7,
    "start_time": "2024-09-19T13:43:46.463Z"
   },
   {
    "duration": 13,
    "start_time": "2024-09-19T13:43:46.472Z"
   },
   {
    "duration": 13,
    "start_time": "2024-09-19T13:43:46.487Z"
   },
   {
    "duration": 39,
    "start_time": "2024-09-19T13:43:46.502Z"
   },
   {
    "duration": 17,
    "start_time": "2024-09-19T13:43:46.542Z"
   },
   {
    "duration": 17,
    "start_time": "2024-09-19T13:43:46.560Z"
   },
   {
    "duration": 380,
    "start_time": "2024-09-19T13:43:46.579Z"
   },
   {
    "duration": 315,
    "start_time": "2024-09-19T13:43:46.961Z"
   },
   {
    "duration": 13,
    "start_time": "2024-09-19T13:43:47.277Z"
   },
   {
    "duration": 321,
    "start_time": "2024-09-19T13:43:47.291Z"
   },
   {
    "duration": 289,
    "start_time": "2024-09-19T13:43:47.614Z"
   },
   {
    "duration": 31,
    "start_time": "2024-09-19T13:43:47.905Z"
   },
   {
    "duration": 297,
    "start_time": "2024-09-19T13:43:47.937Z"
   },
   {
    "duration": 1541,
    "start_time": "2024-09-19T13:43:48.236Z"
   },
   {
    "duration": 12,
    "start_time": "2024-09-19T13:43:49.782Z"
   },
   {
    "duration": 876,
    "start_time": "2024-09-19T13:43:49.796Z"
   },
   {
    "duration": 993,
    "start_time": "2024-09-19T13:43:50.674Z"
   },
   {
    "duration": 26,
    "start_time": "2024-09-19T13:43:51.669Z"
   },
   {
    "duration": 208,
    "start_time": "2024-09-19T13:43:51.696Z"
   },
   {
    "duration": 303,
    "start_time": "2024-09-19T13:43:51.906Z"
   },
   {
    "duration": 354,
    "start_time": "2024-09-19T13:43:52.211Z"
   },
   {
    "duration": 337,
    "start_time": "2024-09-19T13:43:52.566Z"
   },
   {
    "duration": 452,
    "start_time": "2024-09-19T13:43:52.905Z"
   },
   {
    "duration": 11,
    "start_time": "2024-09-19T13:43:53.358Z"
   },
   {
    "duration": 18,
    "start_time": "2024-09-19T13:43:53.371Z"
   },
   {
    "duration": 78,
    "start_time": "2024-09-19T13:43:53.390Z"
   },
   {
    "duration": 13,
    "start_time": "2024-09-19T13:43:53.470Z"
   },
   {
    "duration": 7,
    "start_time": "2024-09-19T13:43:53.485Z"
   },
   {
    "duration": 16,
    "start_time": "2024-09-19T13:43:53.493Z"
   },
   {
    "duration": 1124,
    "start_time": "2024-09-19T16:43:54.099Z"
   },
   {
    "duration": 72,
    "start_time": "2024-09-19T16:43:55.224Z"
   },
   {
    "duration": 10,
    "start_time": "2024-09-19T16:43:55.298Z"
   },
   {
    "duration": 42,
    "start_time": "2024-09-19T16:43:55.310Z"
   },
   {
    "duration": 14,
    "start_time": "2024-09-19T16:43:55.353Z"
   },
   {
    "duration": 18,
    "start_time": "2024-09-19T16:43:55.368Z"
   },
   {
    "duration": 9,
    "start_time": "2024-09-19T16:43:55.390Z"
   },
   {
    "duration": 11,
    "start_time": "2024-09-19T16:43:55.401Z"
   },
   {
    "duration": 8,
    "start_time": "2024-09-19T16:43:55.414Z"
   },
   {
    "duration": 13,
    "start_time": "2024-09-19T16:43:55.425Z"
   },
   {
    "duration": 6,
    "start_time": "2024-09-19T16:43:55.439Z"
   },
   {
    "duration": 10,
    "start_time": "2024-09-19T16:43:55.476Z"
   },
   {
    "duration": 10,
    "start_time": "2024-09-19T16:43:55.487Z"
   },
   {
    "duration": 5,
    "start_time": "2024-09-19T16:43:55.498Z"
   },
   {
    "duration": 7,
    "start_time": "2024-09-19T16:43:55.505Z"
   },
   {
    "duration": 10,
    "start_time": "2024-09-19T16:43:55.513Z"
   },
   {
    "duration": 56,
    "start_time": "2024-09-19T16:43:55.524Z"
   },
   {
    "duration": 17,
    "start_time": "2024-09-19T16:43:55.582Z"
   },
   {
    "duration": 16,
    "start_time": "2024-09-19T16:43:55.600Z"
   },
   {
    "duration": 388,
    "start_time": "2024-09-19T16:43:55.618Z"
   },
   {
    "duration": 326,
    "start_time": "2024-09-19T16:43:56.008Z"
   },
   {
    "duration": 13,
    "start_time": "2024-09-19T16:43:56.336Z"
   },
   {
    "duration": 346,
    "start_time": "2024-09-19T16:43:56.350Z"
   },
   {
    "duration": 318,
    "start_time": "2024-09-19T16:43:56.698Z"
   },
   {
    "duration": 34,
    "start_time": "2024-09-19T16:43:57.017Z"
   },
   {
    "duration": 325,
    "start_time": "2024-09-19T16:43:57.053Z"
   },
   {
    "duration": 1627,
    "start_time": "2024-09-19T16:43:57.381Z"
   },
   {
    "duration": 12,
    "start_time": "2024-09-19T16:43:59.013Z"
   },
   {
    "duration": 899,
    "start_time": "2024-09-19T16:43:59.026Z"
   },
   {
    "duration": 1003,
    "start_time": "2024-09-19T16:43:59.926Z"
   },
   {
    "duration": 29,
    "start_time": "2024-09-19T16:44:00.931Z"
   },
   {
    "duration": 238,
    "start_time": "2024-09-19T16:44:00.961Z"
   },
   {
    "duration": 315,
    "start_time": "2024-09-19T16:44:01.201Z"
   },
   {
    "duration": 361,
    "start_time": "2024-09-19T16:44:01.517Z"
   },
   {
    "duration": 367,
    "start_time": "2024-09-19T16:44:01.880Z"
   },
   {
    "duration": 484,
    "start_time": "2024-09-19T16:44:02.249Z"
   },
   {
    "duration": 12,
    "start_time": "2024-09-19T16:44:02.735Z"
   },
   {
    "duration": 59,
    "start_time": "2024-09-19T16:44:02.748Z"
   },
   {
    "duration": 20,
    "start_time": "2024-09-19T16:44:02.809Z"
   },
   {
    "duration": 72,
    "start_time": "2024-09-19T16:44:02.830Z"
   },
   {
    "duration": 79,
    "start_time": "2024-09-19T16:44:02.903Z"
   },
   {
    "duration": 14,
    "start_time": "2024-09-19T16:44:02.984Z"
   },
   {
    "duration": 104,
    "start_time": "2024-09-19T17:18:15.228Z"
   },
   {
    "duration": 24,
    "start_time": "2024-09-19T17:20:54.303Z"
   },
   {
    "duration": 45,
    "start_time": "2024-09-20T05:24:31.456Z"
   },
   {
    "duration": 1276,
    "start_time": "2024-09-20T05:24:41.505Z"
   },
   {
    "duration": 203,
    "start_time": "2024-09-20T05:24:42.783Z"
   },
   {
    "duration": 9,
    "start_time": "2024-09-20T05:24:42.987Z"
   },
   {
    "duration": 13,
    "start_time": "2024-09-20T05:24:42.997Z"
   },
   {
    "duration": 13,
    "start_time": "2024-09-20T05:24:43.012Z"
   },
   {
    "duration": 15,
    "start_time": "2024-09-20T05:24:43.026Z"
   },
   {
    "duration": 859,
    "start_time": "2024-09-20T05:24:43.042Z"
   },
   {
    "duration": 0,
    "start_time": "2024-09-20T05:24:43.903Z"
   },
   {
    "duration": 0,
    "start_time": "2024-09-20T05:24:43.904Z"
   },
   {
    "duration": 0,
    "start_time": "2024-09-20T05:24:43.905Z"
   },
   {
    "duration": 0,
    "start_time": "2024-09-20T05:24:43.906Z"
   },
   {
    "duration": 0,
    "start_time": "2024-09-20T05:24:43.907Z"
   },
   {
    "duration": 0,
    "start_time": "2024-09-20T05:24:43.908Z"
   },
   {
    "duration": 0,
    "start_time": "2024-09-20T05:24:43.909Z"
   },
   {
    "duration": 0,
    "start_time": "2024-09-20T05:24:43.910Z"
   },
   {
    "duration": 0,
    "start_time": "2024-09-20T05:24:43.910Z"
   },
   {
    "duration": 0,
    "start_time": "2024-09-20T05:24:43.912Z"
   },
   {
    "duration": 0,
    "start_time": "2024-09-20T05:24:43.913Z"
   },
   {
    "duration": 0,
    "start_time": "2024-09-20T05:24:43.914Z"
   },
   {
    "duration": 0,
    "start_time": "2024-09-20T05:24:43.915Z"
   },
   {
    "duration": 0,
    "start_time": "2024-09-20T05:24:43.916Z"
   },
   {
    "duration": 0,
    "start_time": "2024-09-20T05:24:43.917Z"
   },
   {
    "duration": 0,
    "start_time": "2024-09-20T05:24:43.918Z"
   },
   {
    "duration": 0,
    "start_time": "2024-09-20T05:24:43.919Z"
   },
   {
    "duration": 0,
    "start_time": "2024-09-20T05:24:43.920Z"
   },
   {
    "duration": 0,
    "start_time": "2024-09-20T05:24:43.921Z"
   },
   {
    "duration": 0,
    "start_time": "2024-09-20T05:24:43.922Z"
   },
   {
    "duration": 0,
    "start_time": "2024-09-20T05:24:43.923Z"
   },
   {
    "duration": 0,
    "start_time": "2024-09-20T05:24:43.924Z"
   },
   {
    "duration": 0,
    "start_time": "2024-09-20T05:24:43.925Z"
   },
   {
    "duration": 0,
    "start_time": "2024-09-20T05:24:43.926Z"
   },
   {
    "duration": 0,
    "start_time": "2024-09-20T05:24:43.926Z"
   },
   {
    "duration": 0,
    "start_time": "2024-09-20T05:24:43.927Z"
   },
   {
    "duration": 0,
    "start_time": "2024-09-20T05:24:43.928Z"
   },
   {
    "duration": 0,
    "start_time": "2024-09-20T05:24:43.929Z"
   },
   {
    "duration": 0,
    "start_time": "2024-09-20T05:24:43.930Z"
   },
   {
    "duration": 0,
    "start_time": "2024-09-20T05:24:43.931Z"
   },
   {
    "duration": 0,
    "start_time": "2024-09-20T05:24:43.932Z"
   },
   {
    "duration": 0,
    "start_time": "2024-09-20T05:24:43.933Z"
   },
   {
    "duration": 0,
    "start_time": "2024-09-20T05:24:43.933Z"
   },
   {
    "duration": 0,
    "start_time": "2024-09-20T05:24:43.934Z"
   },
   {
    "duration": 0,
    "start_time": "2024-09-20T05:24:43.935Z"
   },
   {
    "duration": 0,
    "start_time": "2024-09-20T05:24:43.936Z"
   },
   {
    "duration": 0,
    "start_time": "2024-09-20T05:24:43.937Z"
   },
   {
    "duration": 0,
    "start_time": "2024-09-20T05:24:43.938Z"
   },
   {
    "duration": 6,
    "start_time": "2024-09-20T05:26:22.333Z"
   },
   {
    "duration": 8,
    "start_time": "2024-09-20T05:28:04.333Z"
   },
   {
    "duration": 11,
    "start_time": "2024-09-20T05:28:35.285Z"
   },
   {
    "duration": 8,
    "start_time": "2024-09-20T05:29:44.866Z"
   },
   {
    "duration": 15,
    "start_time": "2024-09-20T05:29:54.686Z"
   },
   {
    "duration": 11,
    "start_time": "2024-09-20T05:34:03.057Z"
   },
   {
    "duration": 1136,
    "start_time": "2024-09-20T05:35:55.937Z"
   },
   {
    "duration": 66,
    "start_time": "2024-09-20T05:35:57.076Z"
   },
   {
    "duration": 9,
    "start_time": "2024-09-20T05:35:57.143Z"
   },
   {
    "duration": 20,
    "start_time": "2024-09-20T05:35:57.154Z"
   },
   {
    "duration": 12,
    "start_time": "2024-09-20T05:35:57.175Z"
   },
   {
    "duration": 14,
    "start_time": "2024-09-20T05:35:57.189Z"
   },
   {
    "duration": 10,
    "start_time": "2024-09-20T05:35:57.204Z"
   },
   {
    "duration": 16,
    "start_time": "2024-09-20T05:35:57.216Z"
   },
   {
    "duration": 10,
    "start_time": "2024-09-20T05:35:57.234Z"
   },
   {
    "duration": 10,
    "start_time": "2024-09-20T05:35:57.276Z"
   },
   {
    "duration": 8,
    "start_time": "2024-09-20T05:35:57.288Z"
   },
   {
    "duration": 9,
    "start_time": "2024-09-20T05:35:57.298Z"
   },
   {
    "duration": 6,
    "start_time": "2024-09-20T05:35:57.308Z"
   },
   {
    "duration": 9,
    "start_time": "2024-09-20T05:35:57.315Z"
   },
   {
    "duration": 52,
    "start_time": "2024-09-20T05:35:57.325Z"
   },
   {
    "duration": 10,
    "start_time": "2024-09-20T05:35:57.378Z"
   },
   {
    "duration": 7,
    "start_time": "2024-09-20T05:35:57.390Z"
   },
   {
    "duration": 12,
    "start_time": "2024-09-20T05:35:57.399Z"
   },
   {
    "duration": 17,
    "start_time": "2024-09-20T05:35:57.413Z"
   },
   {
    "duration": 16,
    "start_time": "2024-09-20T05:35:57.432Z"
   },
   {
    "duration": 195,
    "start_time": "2024-09-20T05:35:57.449Z"
   },
   {
    "duration": 32,
    "start_time": "2024-09-20T05:35:57.646Z"
   },
   {
    "duration": 339,
    "start_time": "2024-09-20T05:35:57.680Z"
   },
   {
    "duration": 312,
    "start_time": "2024-09-20T05:35:58.021Z"
   },
   {
    "duration": 12,
    "start_time": "2024-09-20T05:35:58.335Z"
   },
   {
    "duration": 303,
    "start_time": "2024-09-20T05:35:58.349Z"
   },
   {
    "duration": 23,
    "start_time": "2024-09-20T05:35:58.654Z"
   },
   {
    "duration": 278,
    "start_time": "2024-09-20T05:35:58.681Z"
   },
   {
    "duration": 37,
    "start_time": "2024-09-20T05:35:58.961Z"
   },
   {
    "duration": 269,
    "start_time": "2024-09-20T05:35:59.000Z"
   },
   {
    "duration": 1407,
    "start_time": "2024-09-20T05:35:59.271Z"
   },
   {
    "duration": 10,
    "start_time": "2024-09-20T05:36:00.680Z"
   },
   {
    "duration": 822,
    "start_time": "2024-09-20T05:36:00.692Z"
   },
   {
    "duration": 916,
    "start_time": "2024-09-20T05:36:01.516Z"
   },
   {
    "duration": 26,
    "start_time": "2024-09-20T05:36:02.434Z"
   },
   {
    "duration": 205,
    "start_time": "2024-09-20T05:36:02.461Z"
   },
   {
    "duration": 274,
    "start_time": "2024-09-20T05:36:02.667Z"
   },
   {
    "duration": 331,
    "start_time": "2024-09-20T05:36:02.942Z"
   },
   {
    "duration": 322,
    "start_time": "2024-09-20T05:36:03.276Z"
   },
   {
    "duration": 429,
    "start_time": "2024-09-20T05:36:03.600Z"
   },
   {
    "duration": 13,
    "start_time": "2024-09-20T05:36:04.031Z"
   },
   {
    "duration": 9,
    "start_time": "2024-09-20T05:36:04.045Z"
   },
   {
    "duration": 25,
    "start_time": "2024-09-20T05:36:04.056Z"
   },
   {
    "duration": 25,
    "start_time": "2024-09-20T05:36:04.083Z"
   },
   {
    "duration": 8,
    "start_time": "2024-09-20T05:36:04.110Z"
   },
   {
    "duration": 25,
    "start_time": "2024-09-20T05:36:04.120Z"
   },
   {
    "duration": 256,
    "start_time": "2024-09-20T05:41:38.265Z"
   },
   {
    "duration": 1289,
    "start_time": "2024-09-20T05:45:26.863Z"
   },
   {
    "duration": 99,
    "start_time": "2024-09-20T05:47:48.330Z"
   },
   {
    "duration": 68,
    "start_time": "2024-09-20T05:48:49.727Z"
   },
   {
    "duration": 1118,
    "start_time": "2024-09-20T05:49:04.851Z"
   },
   {
    "duration": 68,
    "start_time": "2024-09-20T05:49:05.970Z"
   },
   {
    "duration": 9,
    "start_time": "2024-09-20T05:49:06.039Z"
   },
   {
    "duration": 34,
    "start_time": "2024-09-20T05:49:06.050Z"
   },
   {
    "duration": 22,
    "start_time": "2024-09-20T05:49:06.085Z"
   },
   {
    "duration": 15,
    "start_time": "2024-09-20T05:49:06.108Z"
   },
   {
    "duration": 31,
    "start_time": "2024-09-20T05:49:06.124Z"
   },
   {
    "duration": 29,
    "start_time": "2024-09-20T05:49:06.156Z"
   },
   {
    "duration": 25,
    "start_time": "2024-09-20T05:49:06.186Z"
   },
   {
    "duration": 26,
    "start_time": "2024-09-20T05:49:06.213Z"
   },
   {
    "duration": 14,
    "start_time": "2024-09-20T05:49:06.241Z"
   },
   {
    "duration": 24,
    "start_time": "2024-09-20T05:49:06.256Z"
   },
   {
    "duration": 27,
    "start_time": "2024-09-20T05:49:06.281Z"
   },
   {
    "duration": 30,
    "start_time": "2024-09-20T05:49:06.309Z"
   },
   {
    "duration": 18,
    "start_time": "2024-09-20T05:49:06.340Z"
   },
   {
    "duration": 4,
    "start_time": "2024-09-20T05:49:06.360Z"
   },
   {
    "duration": 30,
    "start_time": "2024-09-20T05:49:06.366Z"
   },
   {
    "duration": 9,
    "start_time": "2024-09-20T05:49:06.398Z"
   },
   {
    "duration": 18,
    "start_time": "2024-09-20T05:49:06.409Z"
   },
   {
    "duration": 39,
    "start_time": "2024-09-20T05:49:06.428Z"
   },
   {
    "duration": 111,
    "start_time": "2024-09-20T05:49:06.469Z"
   },
   {
    "duration": 15,
    "start_time": "2024-09-20T05:49:06.581Z"
   },
   {
    "duration": 356,
    "start_time": "2024-09-20T05:49:06.597Z"
   },
   {
    "duration": 288,
    "start_time": "2024-09-20T05:49:06.954Z"
   },
   {
    "duration": 11,
    "start_time": "2024-09-20T05:49:07.244Z"
   },
   {
    "duration": 300,
    "start_time": "2024-09-20T05:49:07.256Z"
   },
   {
    "duration": 22,
    "start_time": "2024-09-20T05:49:07.558Z"
   },
   {
    "duration": 258,
    "start_time": "2024-09-20T05:49:07.582Z"
   },
   {
    "duration": 38,
    "start_time": "2024-09-20T05:49:07.842Z"
   },
   {
    "duration": 253,
    "start_time": "2024-09-20T05:49:07.881Z"
   },
   {
    "duration": 68,
    "start_time": "2024-09-20T05:49:08.136Z"
   },
   {
    "duration": 0,
    "start_time": "2024-09-20T05:49:08.206Z"
   },
   {
    "duration": 0,
    "start_time": "2024-09-20T05:49:08.208Z"
   },
   {
    "duration": 0,
    "start_time": "2024-09-20T05:49:08.210Z"
   },
   {
    "duration": 0,
    "start_time": "2024-09-20T05:49:08.211Z"
   },
   {
    "duration": 0,
    "start_time": "2024-09-20T05:49:08.213Z"
   },
   {
    "duration": 0,
    "start_time": "2024-09-20T05:49:08.214Z"
   },
   {
    "duration": 0,
    "start_time": "2024-09-20T05:49:08.215Z"
   },
   {
    "duration": 0,
    "start_time": "2024-09-20T05:49:08.217Z"
   },
   {
    "duration": 0,
    "start_time": "2024-09-20T05:49:08.218Z"
   },
   {
    "duration": 0,
    "start_time": "2024-09-20T05:49:08.220Z"
   },
   {
    "duration": 0,
    "start_time": "2024-09-20T05:49:08.221Z"
   },
   {
    "duration": 0,
    "start_time": "2024-09-20T05:49:08.222Z"
   },
   {
    "duration": 0,
    "start_time": "2024-09-20T05:49:08.224Z"
   },
   {
    "duration": 0,
    "start_time": "2024-09-20T05:49:08.226Z"
   },
   {
    "duration": 0,
    "start_time": "2024-09-20T05:49:08.227Z"
   },
   {
    "duration": 72,
    "start_time": "2024-09-20T05:49:25.035Z"
   },
   {
    "duration": 1371,
    "start_time": "2024-09-20T05:49:39.357Z"
   },
   {
    "duration": 72,
    "start_time": "2024-09-20T05:53:07.701Z"
   },
   {
    "duration": 54,
    "start_time": "2024-09-20T05:53:34.893Z"
   },
   {
    "duration": 285,
    "start_time": "2024-09-20T05:54:45.567Z"
   },
   {
    "duration": 272,
    "start_time": "2024-09-20T05:55:14.621Z"
   },
   {
    "duration": 377,
    "start_time": "2024-09-20T05:55:29.207Z"
   },
   {
    "duration": 12,
    "start_time": "2024-09-20T05:55:58.860Z"
   },
   {
    "duration": 312,
    "start_time": "2024-09-20T05:57:08.998Z"
   },
   {
    "duration": 13,
    "start_time": "2024-09-20T06:00:21.110Z"
   },
   {
    "duration": 851,
    "start_time": "2024-09-20T06:00:42.135Z"
   },
   {
    "duration": 15,
    "start_time": "2024-09-20T06:01:03.512Z"
   },
   {
    "duration": 746,
    "start_time": "2024-09-20T06:01:30.072Z"
   },
   {
    "duration": 1146,
    "start_time": "2024-09-20T06:01:37.254Z"
   },
   {
    "duration": 66,
    "start_time": "2024-09-20T06:01:38.402Z"
   },
   {
    "duration": 10,
    "start_time": "2024-09-20T06:01:38.470Z"
   },
   {
    "duration": 18,
    "start_time": "2024-09-20T06:01:38.482Z"
   },
   {
    "duration": 19,
    "start_time": "2024-09-20T06:01:38.502Z"
   },
   {
    "duration": 16,
    "start_time": "2024-09-20T06:01:38.523Z"
   },
   {
    "duration": 11,
    "start_time": "2024-09-20T06:01:38.541Z"
   },
   {
    "duration": 37,
    "start_time": "2024-09-20T06:01:38.554Z"
   },
   {
    "duration": 10,
    "start_time": "2024-09-20T06:01:38.592Z"
   },
   {
    "duration": 10,
    "start_time": "2024-09-20T06:01:38.605Z"
   },
   {
    "duration": 8,
    "start_time": "2024-09-20T06:01:38.616Z"
   },
   {
    "duration": 9,
    "start_time": "2024-09-20T06:01:38.626Z"
   },
   {
    "duration": 43,
    "start_time": "2024-09-20T06:01:38.636Z"
   },
   {
    "duration": 21,
    "start_time": "2024-09-20T06:01:38.681Z"
   },
   {
    "duration": 13,
    "start_time": "2024-09-20T06:01:38.704Z"
   },
   {
    "duration": 48,
    "start_time": "2024-09-20T06:01:38.718Z"
   },
   {
    "duration": 17,
    "start_time": "2024-09-20T06:01:38.768Z"
   },
   {
    "duration": 10,
    "start_time": "2024-09-20T06:01:38.787Z"
   },
   {
    "duration": 17,
    "start_time": "2024-09-20T06:01:38.798Z"
   },
   {
    "duration": 16,
    "start_time": "2024-09-20T06:01:38.816Z"
   },
   {
    "duration": 119,
    "start_time": "2024-09-20T06:01:38.833Z"
   },
   {
    "duration": 28,
    "start_time": "2024-09-20T06:01:38.953Z"
   },
   {
    "duration": 338,
    "start_time": "2024-09-20T06:01:38.982Z"
   },
   {
    "duration": 286,
    "start_time": "2024-09-20T06:01:39.322Z"
   },
   {
    "duration": 12,
    "start_time": "2024-09-20T06:01:39.610Z"
   },
   {
    "duration": 309,
    "start_time": "2024-09-20T06:01:39.623Z"
   },
   {
    "duration": 23,
    "start_time": "2024-09-20T06:01:39.934Z"
   },
   {
    "duration": 261,
    "start_time": "2024-09-20T06:01:39.960Z"
   },
   {
    "duration": 28,
    "start_time": "2024-09-20T06:01:40.223Z"
   },
   {
    "duration": 266,
    "start_time": "2024-09-20T06:01:40.253Z"
   },
   {
    "duration": 391,
    "start_time": "2024-09-20T06:01:40.521Z"
   },
   {
    "duration": 775,
    "start_time": "2024-09-20T06:01:40.913Z"
   },
   {
    "duration": 0,
    "start_time": "2024-09-20T06:01:41.690Z"
   },
   {
    "duration": 0,
    "start_time": "2024-09-20T06:01:41.691Z"
   },
   {
    "duration": 0,
    "start_time": "2024-09-20T06:01:41.692Z"
   },
   {
    "duration": 0,
    "start_time": "2024-09-20T06:01:41.693Z"
   },
   {
    "duration": 0,
    "start_time": "2024-09-20T06:01:41.694Z"
   },
   {
    "duration": 0,
    "start_time": "2024-09-20T06:01:41.695Z"
   },
   {
    "duration": 0,
    "start_time": "2024-09-20T06:01:41.696Z"
   },
   {
    "duration": 0,
    "start_time": "2024-09-20T06:01:41.697Z"
   },
   {
    "duration": 0,
    "start_time": "2024-09-20T06:01:41.698Z"
   },
   {
    "duration": 0,
    "start_time": "2024-09-20T06:01:41.699Z"
   },
   {
    "duration": 0,
    "start_time": "2024-09-20T06:01:41.699Z"
   },
   {
    "duration": 0,
    "start_time": "2024-09-20T06:01:41.701Z"
   },
   {
    "duration": 0,
    "start_time": "2024-09-20T06:01:41.702Z"
   },
   {
    "duration": 0,
    "start_time": "2024-09-20T06:01:41.703Z"
   },
   {
    "duration": 0,
    "start_time": "2024-09-20T06:01:41.704Z"
   },
   {
    "duration": 770,
    "start_time": "2024-09-20T06:05:39.623Z"
   },
   {
    "duration": 4,
    "start_time": "2024-09-20T06:06:19.486Z"
   },
   {
    "duration": 750,
    "start_time": "2024-09-20T06:06:39.276Z"
   },
   {
    "duration": 3,
    "start_time": "2024-09-20T06:07:07.286Z"
   },
   {
    "duration": 9,
    "start_time": "2024-09-20T06:07:57.724Z"
   },
   {
    "duration": 10,
    "start_time": "2024-09-20T06:09:06.443Z"
   },
   {
    "duration": 8,
    "start_time": "2024-09-20T06:09:48.250Z"
   },
   {
    "duration": 1139,
    "start_time": "2024-09-20T06:10:09.203Z"
   },
   {
    "duration": 65,
    "start_time": "2024-09-20T06:10:10.343Z"
   },
   {
    "duration": 9,
    "start_time": "2024-09-20T06:10:10.409Z"
   },
   {
    "duration": 14,
    "start_time": "2024-09-20T06:10:10.419Z"
   },
   {
    "duration": 13,
    "start_time": "2024-09-20T06:10:10.435Z"
   },
   {
    "duration": 31,
    "start_time": "2024-09-20T06:10:10.450Z"
   },
   {
    "duration": 10,
    "start_time": "2024-09-20T06:10:10.483Z"
   },
   {
    "duration": 15,
    "start_time": "2024-09-20T06:10:10.494Z"
   },
   {
    "duration": 9,
    "start_time": "2024-09-20T06:10:10.510Z"
   },
   {
    "duration": 9,
    "start_time": "2024-09-20T06:10:10.522Z"
   },
   {
    "duration": 45,
    "start_time": "2024-09-20T06:10:10.532Z"
   },
   {
    "duration": 11,
    "start_time": "2024-09-20T06:10:10.578Z"
   },
   {
    "duration": 6,
    "start_time": "2024-09-20T06:10:10.591Z"
   },
   {
    "duration": 9,
    "start_time": "2024-09-20T06:10:10.598Z"
   },
   {
    "duration": 9,
    "start_time": "2024-09-20T06:10:10.609Z"
   },
   {
    "duration": 6,
    "start_time": "2024-09-20T06:10:10.620Z"
   },
   {
    "duration": 8,
    "start_time": "2024-09-20T06:10:10.627Z"
   },
   {
    "duration": 46,
    "start_time": "2024-09-20T06:10:10.636Z"
   },
   {
    "duration": 16,
    "start_time": "2024-09-20T06:10:10.683Z"
   },
   {
    "duration": 15,
    "start_time": "2024-09-20T06:10:10.700Z"
   },
   {
    "duration": 121,
    "start_time": "2024-09-20T06:10:10.717Z"
   },
   {
    "duration": 15,
    "start_time": "2024-09-20T06:10:10.839Z"
   },
   {
    "duration": 355,
    "start_time": "2024-09-20T06:10:10.855Z"
   },
   {
    "duration": 291,
    "start_time": "2024-09-20T06:10:11.211Z"
   },
   {
    "duration": 12,
    "start_time": "2024-09-20T06:10:11.504Z"
   },
   {
    "duration": 299,
    "start_time": "2024-09-20T06:10:11.517Z"
   },
   {
    "duration": 23,
    "start_time": "2024-09-20T06:10:11.818Z"
   },
   {
    "duration": 256,
    "start_time": "2024-09-20T06:10:11.844Z"
   },
   {
    "duration": 30,
    "start_time": "2024-09-20T06:10:12.101Z"
   },
   {
    "duration": 263,
    "start_time": "2024-09-20T06:10:12.132Z"
   },
   {
    "duration": 378,
    "start_time": "2024-09-20T06:10:12.397Z"
   },
   {
    "duration": 9,
    "start_time": "2024-09-20T06:10:12.776Z"
   },
   {
    "duration": 8,
    "start_time": "2024-09-20T06:10:12.786Z"
   },
   {
    "duration": 831,
    "start_time": "2024-09-20T06:10:12.795Z"
   },
   {
    "duration": 820,
    "start_time": "2024-09-20T06:10:13.628Z"
   },
   {
    "duration": 36,
    "start_time": "2024-09-20T06:10:14.449Z"
   },
   {
    "duration": 194,
    "start_time": "2024-09-20T06:10:14.486Z"
   },
   {
    "duration": 353,
    "start_time": "2024-09-20T06:10:14.681Z"
   },
   {
    "duration": 330,
    "start_time": "2024-09-20T06:10:15.036Z"
   },
   {
    "duration": 318,
    "start_time": "2024-09-20T06:10:15.367Z"
   },
   {
    "duration": 336,
    "start_time": "2024-09-20T06:10:15.687Z"
   },
   {
    "duration": 12,
    "start_time": "2024-09-20T06:10:16.024Z"
   },
   {
    "duration": 23,
    "start_time": "2024-09-20T06:10:16.038Z"
   },
   {
    "duration": 9,
    "start_time": "2024-09-20T06:10:16.062Z"
   },
   {
    "duration": 10,
    "start_time": "2024-09-20T06:10:16.076Z"
   },
   {
    "duration": 12,
    "start_time": "2024-09-20T06:10:16.087Z"
   },
   {
    "duration": 17,
    "start_time": "2024-09-20T06:10:16.100Z"
   },
   {
    "duration": 902,
    "start_time": "2024-09-20T06:13:30.157Z"
   },
   {
    "duration": 826,
    "start_time": "2024-09-20T06:14:39.521Z"
   },
   {
    "duration": 24,
    "start_time": "2024-09-20T06:15:11.854Z"
   },
   {
    "duration": 310,
    "start_time": "2024-09-20T06:17:27.621Z"
   },
   {
    "duration": 302,
    "start_time": "2024-09-20T06:18:05.725Z"
   },
   {
    "duration": 315,
    "start_time": "2024-09-20T06:23:55.485Z"
   },
   {
    "duration": 5,
    "start_time": "2024-09-20T06:41:28.074Z"
   },
   {
    "duration": 7,
    "start_time": "2024-09-20T06:41:37.752Z"
   },
   {
    "duration": 10,
    "start_time": "2024-09-20T06:41:46.551Z"
   },
   {
    "duration": 96,
    "start_time": "2024-09-20T06:42:29.333Z"
   },
   {
    "duration": 1142,
    "start_time": "2024-09-20T06:42:49.288Z"
   },
   {
    "duration": 68,
    "start_time": "2024-09-20T06:42:50.432Z"
   },
   {
    "duration": 9,
    "start_time": "2024-09-20T06:42:50.502Z"
   },
   {
    "duration": 14,
    "start_time": "2024-09-20T06:42:50.513Z"
   },
   {
    "duration": 19,
    "start_time": "2024-09-20T06:42:50.529Z"
   },
   {
    "duration": 36,
    "start_time": "2024-09-20T06:42:50.549Z"
   },
   {
    "duration": 14,
    "start_time": "2024-09-20T06:42:50.587Z"
   },
   {
    "duration": 16,
    "start_time": "2024-09-20T06:42:50.602Z"
   },
   {
    "duration": 11,
    "start_time": "2024-09-20T06:42:50.620Z"
   },
   {
    "duration": 42,
    "start_time": "2024-09-20T06:42:50.634Z"
   },
   {
    "duration": 8,
    "start_time": "2024-09-20T06:42:50.678Z"
   },
   {
    "duration": 21,
    "start_time": "2024-09-20T06:42:50.688Z"
   },
   {
    "duration": 11,
    "start_time": "2024-09-20T06:42:50.711Z"
   },
   {
    "duration": 11,
    "start_time": "2024-09-20T06:42:50.723Z"
   },
   {
    "duration": 11,
    "start_time": "2024-09-20T06:42:50.736Z"
   },
   {
    "duration": 10,
    "start_time": "2024-09-20T06:42:50.748Z"
   },
   {
    "duration": 22,
    "start_time": "2024-09-20T06:42:50.759Z"
   },
   {
    "duration": 9,
    "start_time": "2024-09-20T06:42:50.783Z"
   },
   {
    "duration": 67,
    "start_time": "2024-09-20T06:42:50.793Z"
   },
   {
    "duration": 17,
    "start_time": "2024-09-20T06:42:50.862Z"
   },
   {
    "duration": 109,
    "start_time": "2024-09-20T06:42:50.881Z"
   },
   {
    "duration": 15,
    "start_time": "2024-09-20T06:42:50.992Z"
   },
   {
    "duration": 351,
    "start_time": "2024-09-20T06:42:51.008Z"
   },
   {
    "duration": 295,
    "start_time": "2024-09-20T06:42:51.360Z"
   },
   {
    "duration": 20,
    "start_time": "2024-09-20T06:42:51.657Z"
   },
   {
    "duration": 350,
    "start_time": "2024-09-20T06:42:51.678Z"
   },
   {
    "duration": 24,
    "start_time": "2024-09-20T06:42:52.030Z"
   },
   {
    "duration": 289,
    "start_time": "2024-09-20T06:42:52.058Z"
   },
   {
    "duration": 38,
    "start_time": "2024-09-20T06:42:52.348Z"
   },
   {
    "duration": 270,
    "start_time": "2024-09-20T06:42:52.387Z"
   },
   {
    "duration": 396,
    "start_time": "2024-09-20T06:42:52.658Z"
   },
   {
    "duration": 8,
    "start_time": "2024-09-20T06:42:53.056Z"
   },
   {
    "duration": 17,
    "start_time": "2024-09-20T06:42:53.066Z"
   },
   {
    "duration": 855,
    "start_time": "2024-09-20T06:42:53.085Z"
   },
   {
    "duration": 837,
    "start_time": "2024-09-20T06:42:53.941Z"
   },
   {
    "duration": 22,
    "start_time": "2024-09-20T06:42:54.780Z"
   },
   {
    "duration": 209,
    "start_time": "2024-09-20T06:42:54.804Z"
   },
   {
    "duration": 375,
    "start_time": "2024-09-20T06:42:55.014Z"
   },
   {
    "duration": 339,
    "start_time": "2024-09-20T06:42:55.391Z"
   },
   {
    "duration": 320,
    "start_time": "2024-09-20T06:42:55.732Z"
   },
   {
    "duration": 338,
    "start_time": "2024-09-20T06:42:56.054Z"
   },
   {
    "duration": 11,
    "start_time": "2024-09-20T06:42:56.394Z"
   },
   {
    "duration": 8,
    "start_time": "2024-09-20T06:42:56.406Z"
   },
   {
    "duration": 8,
    "start_time": "2024-09-20T06:42:56.415Z"
   },
   {
    "duration": 12,
    "start_time": "2024-09-20T06:42:56.425Z"
   },
   {
    "duration": 39,
    "start_time": "2024-09-20T06:42:56.438Z"
   },
   {
    "duration": 7,
    "start_time": "2024-09-20T06:42:56.478Z"
   },
   {
    "duration": 110,
    "start_time": "2024-09-20T06:42:56.487Z"
   },
   {
    "duration": 12,
    "start_time": "2024-09-20T06:43:23.402Z"
   },
   {
    "duration": 11,
    "start_time": "2024-09-20T06:44:12.004Z"
   },
   {
    "duration": 9,
    "start_time": "2024-09-20T06:44:17.656Z"
   },
   {
    "duration": 11,
    "start_time": "2024-09-20T06:44:25.499Z"
   },
   {
    "duration": 11,
    "start_time": "2024-09-20T06:44:53.300Z"
   },
   {
    "duration": 11,
    "start_time": "2024-09-20T06:45:58.344Z"
   },
   {
    "duration": 1182,
    "start_time": "2024-09-20T06:48:18.312Z"
   },
   {
    "duration": 68,
    "start_time": "2024-09-20T06:48:19.496Z"
   },
   {
    "duration": 9,
    "start_time": "2024-09-20T06:48:19.565Z"
   },
   {
    "duration": 20,
    "start_time": "2024-09-20T06:48:19.576Z"
   },
   {
    "duration": 15,
    "start_time": "2024-09-20T06:48:19.598Z"
   },
   {
    "duration": 16,
    "start_time": "2024-09-20T06:48:19.615Z"
   },
   {
    "duration": 11,
    "start_time": "2024-09-20T06:48:19.632Z"
   },
   {
    "duration": 44,
    "start_time": "2024-09-20T06:48:19.644Z"
   },
   {
    "duration": 21,
    "start_time": "2024-09-20T06:48:19.690Z"
   },
   {
    "duration": 41,
    "start_time": "2024-09-20T06:48:19.715Z"
   },
   {
    "duration": 9,
    "start_time": "2024-09-20T06:48:19.757Z"
   },
   {
    "duration": 9,
    "start_time": "2024-09-20T06:48:19.767Z"
   },
   {
    "duration": 5,
    "start_time": "2024-09-20T06:48:19.778Z"
   },
   {
    "duration": 9,
    "start_time": "2024-09-20T06:48:19.785Z"
   },
   {
    "duration": 12,
    "start_time": "2024-09-20T06:48:19.795Z"
   },
   {
    "duration": 5,
    "start_time": "2024-09-20T06:48:19.808Z"
   },
   {
    "duration": 7,
    "start_time": "2024-09-20T06:48:19.814Z"
   },
   {
    "duration": 11,
    "start_time": "2024-09-20T06:48:19.822Z"
   },
   {
    "duration": 49,
    "start_time": "2024-09-20T06:48:19.834Z"
   },
   {
    "duration": 17,
    "start_time": "2024-09-20T06:48:19.884Z"
   },
   {
    "duration": 124,
    "start_time": "2024-09-20T06:48:19.903Z"
   },
   {
    "duration": 16,
    "start_time": "2024-09-20T06:48:20.028Z"
   },
   {
    "duration": 412,
    "start_time": "2024-09-20T06:48:20.046Z"
   },
   {
    "duration": 334,
    "start_time": "2024-09-20T06:48:20.460Z"
   },
   {
    "duration": 11,
    "start_time": "2024-09-20T06:48:20.796Z"
   },
   {
    "duration": 339,
    "start_time": "2024-09-20T06:48:20.809Z"
   },
   {
    "duration": 23,
    "start_time": "2024-09-20T06:48:21.150Z"
   },
   {
    "duration": 315,
    "start_time": "2024-09-20T06:48:21.177Z"
   },
   {
    "duration": 30,
    "start_time": "2024-09-20T06:48:21.493Z"
   },
   {
    "duration": 288,
    "start_time": "2024-09-20T06:48:21.524Z"
   },
   {
    "duration": 401,
    "start_time": "2024-09-20T06:48:21.814Z"
   },
   {
    "duration": 11,
    "start_time": "2024-09-20T06:48:22.217Z"
   },
   {
    "duration": 12,
    "start_time": "2024-09-20T06:48:22.229Z"
   },
   {
    "duration": 823,
    "start_time": "2024-09-20T06:48:22.242Z"
   },
   {
    "duration": 826,
    "start_time": "2024-09-20T06:48:23.066Z"
   },
   {
    "duration": 23,
    "start_time": "2024-09-20T06:48:23.893Z"
   },
   {
    "duration": 214,
    "start_time": "2024-09-20T06:48:23.917Z"
   },
   {
    "duration": 367,
    "start_time": "2024-09-20T06:48:24.133Z"
   },
   {
    "duration": 332,
    "start_time": "2024-09-20T06:48:24.502Z"
   },
   {
    "duration": 330,
    "start_time": "2024-09-20T06:48:24.836Z"
   },
   {
    "duration": 345,
    "start_time": "2024-09-20T06:48:25.168Z"
   },
   {
    "duration": 11,
    "start_time": "2024-09-20T06:48:25.515Z"
   },
   {
    "duration": 9,
    "start_time": "2024-09-20T06:48:25.528Z"
   },
   {
    "duration": 8,
    "start_time": "2024-09-20T06:48:25.538Z"
   },
   {
    "duration": 36,
    "start_time": "2024-09-20T06:48:25.548Z"
   },
   {
    "duration": 10,
    "start_time": "2024-09-20T06:48:25.585Z"
   },
   {
    "duration": 10,
    "start_time": "2024-09-20T06:48:25.596Z"
   },
   {
    "duration": 14,
    "start_time": "2024-09-20T06:48:25.607Z"
   },
   {
    "duration": 13,
    "start_time": "2024-09-20T06:48:25.622Z"
   },
   {
    "duration": 1149,
    "start_time": "2024-09-20T07:01:33.839Z"
   },
   {
    "duration": 67,
    "start_time": "2024-09-20T07:01:34.990Z"
   },
   {
    "duration": 9,
    "start_time": "2024-09-20T07:01:35.058Z"
   },
   {
    "duration": 28,
    "start_time": "2024-09-20T07:01:35.069Z"
   },
   {
    "duration": 14,
    "start_time": "2024-09-20T07:01:35.098Z"
   },
   {
    "duration": 15,
    "start_time": "2024-09-20T07:01:35.113Z"
   },
   {
    "duration": 12,
    "start_time": "2024-09-20T07:01:35.130Z"
   },
   {
    "duration": 18,
    "start_time": "2024-09-20T07:01:35.144Z"
   },
   {
    "duration": 53,
    "start_time": "2024-09-20T07:01:35.176Z"
   },
   {
    "duration": 39,
    "start_time": "2024-09-20T07:01:35.231Z"
   },
   {
    "duration": 32,
    "start_time": "2024-09-20T07:01:35.272Z"
   },
   {
    "duration": 48,
    "start_time": "2024-09-20T07:01:35.306Z"
   },
   {
    "duration": 26,
    "start_time": "2024-09-20T07:01:35.356Z"
   },
   {
    "duration": 13,
    "start_time": "2024-09-20T07:01:35.384Z"
   },
   {
    "duration": 47,
    "start_time": "2024-09-20T07:01:35.399Z"
   },
   {
    "duration": 44,
    "start_time": "2024-09-20T07:01:35.448Z"
   },
   {
    "duration": 18,
    "start_time": "2024-09-20T07:01:35.493Z"
   },
   {
    "duration": 31,
    "start_time": "2024-09-20T07:01:35.513Z"
   },
   {
    "duration": 19,
    "start_time": "2024-09-20T07:01:35.546Z"
   },
   {
    "duration": 22,
    "start_time": "2024-09-20T07:01:35.567Z"
   },
   {
    "duration": 107,
    "start_time": "2024-09-20T07:01:35.591Z"
   },
   {
    "duration": 22,
    "start_time": "2024-09-20T07:01:35.700Z"
   },
   {
    "duration": 453,
    "start_time": "2024-09-20T07:01:35.724Z"
   },
   {
    "duration": 304,
    "start_time": "2024-09-20T07:01:36.179Z"
   },
   {
    "duration": 13,
    "start_time": "2024-09-20T07:01:36.485Z"
   },
   {
    "duration": 344,
    "start_time": "2024-09-20T07:01:36.500Z"
   },
   {
    "duration": 24,
    "start_time": "2024-09-20T07:01:36.846Z"
   },
   {
    "duration": 316,
    "start_time": "2024-09-20T07:01:36.874Z"
   },
   {
    "duration": 28,
    "start_time": "2024-09-20T07:01:37.192Z"
   },
   {
    "duration": 324,
    "start_time": "2024-09-20T07:01:37.222Z"
   },
   {
    "duration": 395,
    "start_time": "2024-09-20T07:01:37.548Z"
   },
   {
    "duration": 9,
    "start_time": "2024-09-20T07:01:37.944Z"
   },
   {
    "duration": 25,
    "start_time": "2024-09-20T07:01:37.954Z"
   },
   {
    "duration": 901,
    "start_time": "2024-09-20T07:01:37.981Z"
   },
   {
    "duration": 838,
    "start_time": "2024-09-20T07:01:38.884Z"
   },
   {
    "duration": 23,
    "start_time": "2024-09-20T07:01:39.724Z"
   },
   {
    "duration": 205,
    "start_time": "2024-09-20T07:01:39.749Z"
   },
   {
    "duration": 370,
    "start_time": "2024-09-20T07:01:39.955Z"
   },
   {
    "duration": 362,
    "start_time": "2024-09-20T07:01:40.327Z"
   },
   {
    "duration": 325,
    "start_time": "2024-09-20T07:01:40.690Z"
   },
   {
    "duration": 341,
    "start_time": "2024-09-20T07:01:41.016Z"
   },
   {
    "duration": 19,
    "start_time": "2024-09-20T07:01:41.358Z"
   },
   {
    "duration": 8,
    "start_time": "2024-09-20T07:01:41.379Z"
   },
   {
    "duration": 6,
    "start_time": "2024-09-20T07:01:41.389Z"
   },
   {
    "duration": 19,
    "start_time": "2024-09-20T07:01:41.396Z"
   },
   {
    "duration": 11,
    "start_time": "2024-09-20T07:01:41.416Z"
   },
   {
    "duration": 10,
    "start_time": "2024-09-20T07:01:41.429Z"
   },
   {
    "duration": 36,
    "start_time": "2024-09-20T07:01:41.441Z"
   },
   {
    "duration": 13,
    "start_time": "2024-09-20T07:01:41.480Z"
   },
   {
    "duration": 1205,
    "start_time": "2024-09-20T22:57:37.609Z"
   },
   {
    "duration": 72,
    "start_time": "2024-09-20T22:57:38.815Z"
   },
   {
    "duration": 10,
    "start_time": "2024-09-20T22:57:38.888Z"
   },
   {
    "duration": 18,
    "start_time": "2024-09-20T22:57:38.900Z"
   },
   {
    "duration": 28,
    "start_time": "2024-09-20T22:57:38.920Z"
   },
   {
    "duration": 16,
    "start_time": "2024-09-20T22:57:38.949Z"
   },
   {
    "duration": 12,
    "start_time": "2024-09-20T22:57:38.966Z"
   },
   {
    "duration": 15,
    "start_time": "2024-09-20T22:57:38.979Z"
   },
   {
    "duration": 10,
    "start_time": "2024-09-20T22:57:38.996Z"
   },
   {
    "duration": 48,
    "start_time": "2024-09-20T22:57:39.007Z"
   },
   {
    "duration": 34,
    "start_time": "2024-09-20T22:57:39.056Z"
   },
   {
    "duration": 17,
    "start_time": "2024-09-20T22:57:39.092Z"
   },
   {
    "duration": 6,
    "start_time": "2024-09-20T22:57:39.111Z"
   },
   {
    "duration": 13,
    "start_time": "2024-09-20T22:57:39.121Z"
   },
   {
    "duration": 23,
    "start_time": "2024-09-20T22:57:39.136Z"
   },
   {
    "duration": 6,
    "start_time": "2024-09-20T22:57:39.161Z"
   },
   {
    "duration": 12,
    "start_time": "2024-09-20T22:57:39.168Z"
   },
   {
    "duration": 13,
    "start_time": "2024-09-20T22:57:39.182Z"
   },
   {
    "duration": 26,
    "start_time": "2024-09-20T22:57:39.197Z"
   },
   {
    "duration": 39,
    "start_time": "2024-09-20T22:57:39.224Z"
   },
   {
    "duration": 134,
    "start_time": "2024-09-20T22:57:39.266Z"
   },
   {
    "duration": 16,
    "start_time": "2024-09-20T22:57:39.402Z"
   },
   {
    "duration": 390,
    "start_time": "2024-09-20T22:57:39.420Z"
   },
   {
    "duration": 306,
    "start_time": "2024-09-20T22:57:39.812Z"
   },
   {
    "duration": 12,
    "start_time": "2024-09-20T22:57:40.120Z"
   },
   {
    "duration": 302,
    "start_time": "2024-09-20T22:57:40.134Z"
   },
   {
    "duration": 26,
    "start_time": "2024-09-20T22:57:40.437Z"
   },
   {
    "duration": 327,
    "start_time": "2024-09-20T22:57:40.465Z"
   },
   {
    "duration": 33,
    "start_time": "2024-09-20T22:57:40.794Z"
   },
   {
    "duration": 319,
    "start_time": "2024-09-20T22:57:40.829Z"
   },
   {
    "duration": 413,
    "start_time": "2024-09-20T22:57:41.149Z"
   },
   {
    "duration": 9,
    "start_time": "2024-09-20T22:57:41.563Z"
   },
   {
    "duration": 31,
    "start_time": "2024-09-20T22:57:41.573Z"
   },
   {
    "duration": 852,
    "start_time": "2024-09-20T22:57:41.605Z"
   },
   {
    "duration": 915,
    "start_time": "2024-09-20T22:57:42.458Z"
   },
   {
    "duration": 24,
    "start_time": "2024-09-20T22:57:43.374Z"
   },
   {
    "duration": 221,
    "start_time": "2024-09-20T22:57:43.399Z"
   },
   {
    "duration": 392,
    "start_time": "2024-09-20T22:57:43.622Z"
   },
   {
    "duration": 363,
    "start_time": "2024-09-20T22:57:44.016Z"
   },
   {
    "duration": 396,
    "start_time": "2024-09-20T22:57:44.381Z"
   },
   {
    "duration": 365,
    "start_time": "2024-09-20T22:57:44.780Z"
   },
   {
    "duration": 12,
    "start_time": "2024-09-20T22:57:45.147Z"
   },
   {
    "duration": 46,
    "start_time": "2024-09-20T22:57:45.161Z"
   },
   {
    "duration": 25,
    "start_time": "2024-09-20T22:57:45.209Z"
   },
   {
    "duration": 17,
    "start_time": "2024-09-20T22:57:45.236Z"
   },
   {
    "duration": 36,
    "start_time": "2024-09-20T22:57:45.255Z"
   },
   {
    "duration": 34,
    "start_time": "2024-09-20T22:57:45.293Z"
   },
   {
    "duration": 14,
    "start_time": "2024-09-20T22:57:45.329Z"
   },
   {
    "duration": 23,
    "start_time": "2024-09-20T22:57:45.345Z"
   },
   {
    "duration": 665,
    "start_time": "2024-09-20T23:08:50.961Z"
   },
   {
    "duration": 99,
    "start_time": "2024-09-20T23:09:33.636Z"
   },
   {
    "duration": 540,
    "start_time": "2024-09-20T23:09:47.576Z"
   },
   {
    "duration": 1368,
    "start_time": "2024-09-21T05:52:54.251Z"
   },
   {
    "duration": 231,
    "start_time": "2024-09-21T05:52:55.621Z"
   },
   {
    "duration": 10,
    "start_time": "2024-09-21T05:52:55.854Z"
   },
   {
    "duration": 29,
    "start_time": "2024-09-21T05:52:55.866Z"
   },
   {
    "duration": 15,
    "start_time": "2024-09-21T05:52:55.897Z"
   },
   {
    "duration": 17,
    "start_time": "2024-09-21T05:52:55.914Z"
   },
   {
    "duration": 12,
    "start_time": "2024-09-21T05:52:55.933Z"
   },
   {
    "duration": 22,
    "start_time": "2024-09-21T05:52:55.946Z"
   },
   {
    "duration": 11,
    "start_time": "2024-09-21T05:52:55.998Z"
   },
   {
    "duration": 95,
    "start_time": "2024-09-21T05:52:56.011Z"
   },
   {
    "duration": 24,
    "start_time": "2024-09-21T05:52:56.108Z"
   },
   {
    "duration": 25,
    "start_time": "2024-09-21T05:52:56.133Z"
   },
   {
    "duration": 9,
    "start_time": "2024-09-21T05:52:56.160Z"
   },
   {
    "duration": 9,
    "start_time": "2024-09-21T05:52:56.170Z"
   },
   {
    "duration": 13,
    "start_time": "2024-09-21T05:52:56.181Z"
   },
   {
    "duration": 5,
    "start_time": "2024-09-21T05:52:56.197Z"
   },
   {
    "duration": 18,
    "start_time": "2024-09-21T05:52:56.204Z"
   },
   {
    "duration": 10,
    "start_time": "2024-09-21T05:52:56.224Z"
   },
   {
    "duration": 25,
    "start_time": "2024-09-21T05:52:56.235Z"
   },
   {
    "duration": 42,
    "start_time": "2024-09-21T05:52:56.262Z"
   },
   {
    "duration": 126,
    "start_time": "2024-09-21T05:52:56.306Z"
   },
   {
    "duration": 17,
    "start_time": "2024-09-21T05:52:56.434Z"
   },
   {
    "duration": 413,
    "start_time": "2024-09-21T05:52:56.452Z"
   },
   {
    "duration": 336,
    "start_time": "2024-09-21T05:52:56.866Z"
   },
   {
    "duration": 13,
    "start_time": "2024-09-21T05:52:57.204Z"
   },
   {
    "duration": 344,
    "start_time": "2024-09-21T05:52:57.218Z"
   },
   {
    "duration": 30,
    "start_time": "2024-09-21T05:52:57.564Z"
   },
   {
    "duration": 303,
    "start_time": "2024-09-21T05:52:57.598Z"
   },
   {
    "duration": 34,
    "start_time": "2024-09-21T05:52:57.903Z"
   },
   {
    "duration": 307,
    "start_time": "2024-09-21T05:52:57.939Z"
   },
   {
    "duration": 699,
    "start_time": "2024-09-21T05:52:58.248Z"
   },
   {
    "duration": 381,
    "start_time": "2024-09-21T05:52:58.948Z"
   },
   {
    "duration": 11,
    "start_time": "2024-09-21T05:52:59.331Z"
   },
   {
    "duration": 34,
    "start_time": "2024-09-21T05:52:59.344Z"
   },
   {
    "duration": 992,
    "start_time": "2024-09-21T05:52:59.380Z"
   },
   {
    "duration": 973,
    "start_time": "2024-09-21T05:53:00.374Z"
   },
   {
    "duration": 27,
    "start_time": "2024-09-21T05:53:01.349Z"
   },
   {
    "duration": 233,
    "start_time": "2024-09-21T05:53:01.377Z"
   },
   {
    "duration": 309,
    "start_time": "2024-09-21T05:53:01.611Z"
   },
   {
    "duration": 375,
    "start_time": "2024-09-21T05:53:01.922Z"
   },
   {
    "duration": 387,
    "start_time": "2024-09-21T05:53:02.299Z"
   },
   {
    "duration": 487,
    "start_time": "2024-09-21T05:53:02.688Z"
   },
   {
    "duration": 23,
    "start_time": "2024-09-21T05:53:03.176Z"
   },
   {
    "duration": 36,
    "start_time": "2024-09-21T05:53:03.201Z"
   },
   {
    "duration": 26,
    "start_time": "2024-09-21T05:53:03.239Z"
   },
   {
    "duration": 50,
    "start_time": "2024-09-21T05:53:03.267Z"
   },
   {
    "duration": 30,
    "start_time": "2024-09-21T05:53:03.318Z"
   },
   {
    "duration": 58,
    "start_time": "2024-09-21T05:53:03.350Z"
   },
   {
    "duration": 30,
    "start_time": "2024-09-21T05:53:03.409Z"
   },
   {
    "duration": 39,
    "start_time": "2024-09-21T05:53:03.441Z"
   },
   {
    "duration": 12,
    "start_time": "2024-09-21T06:00:08.170Z"
   },
   {
    "duration": 11,
    "start_time": "2024-09-21T06:00:16.871Z"
   },
   {
    "duration": 12,
    "start_time": "2024-09-21T06:00:26.419Z"
   },
   {
    "duration": 12,
    "start_time": "2024-09-21T06:01:43.607Z"
   },
   {
    "duration": 11,
    "start_time": "2024-09-21T06:01:50.497Z"
   },
   {
    "duration": 11,
    "start_time": "2024-09-21T06:02:05.411Z"
   },
   {
    "duration": 1193,
    "start_time": "2024-09-21T06:02:14.321Z"
   },
   {
    "duration": 72,
    "start_time": "2024-09-21T06:02:15.516Z"
   },
   {
    "duration": 10,
    "start_time": "2024-09-21T06:02:15.589Z"
   },
   {
    "duration": 16,
    "start_time": "2024-09-21T06:02:15.601Z"
   },
   {
    "duration": 15,
    "start_time": "2024-09-21T06:02:15.619Z"
   },
   {
    "duration": 18,
    "start_time": "2024-09-21T06:02:15.635Z"
   },
   {
    "duration": 12,
    "start_time": "2024-09-21T06:02:15.654Z"
   },
   {
    "duration": 45,
    "start_time": "2024-09-21T06:02:15.668Z"
   },
   {
    "duration": 9,
    "start_time": "2024-09-21T06:02:15.715Z"
   },
   {
    "duration": 12,
    "start_time": "2024-09-21T06:02:15.726Z"
   },
   {
    "duration": 10,
    "start_time": "2024-09-21T06:02:15.740Z"
   },
   {
    "duration": 75,
    "start_time": "2024-09-21T06:02:15.751Z"
   },
   {
    "duration": 10,
    "start_time": "2024-09-21T06:02:15.828Z"
   },
   {
    "duration": 10,
    "start_time": "2024-09-21T06:02:15.840Z"
   },
   {
    "duration": 102,
    "start_time": "2024-09-21T06:02:15.852Z"
   },
   {
    "duration": 5,
    "start_time": "2024-09-21T06:02:15.955Z"
   },
   {
    "duration": 7,
    "start_time": "2024-09-21T06:02:15.962Z"
   },
   {
    "duration": 12,
    "start_time": "2024-09-21T06:02:15.970Z"
   },
   {
    "duration": 18,
    "start_time": "2024-09-21T06:02:15.983Z"
   },
   {
    "duration": 17,
    "start_time": "2024-09-21T06:02:16.003Z"
   },
   {
    "duration": 130,
    "start_time": "2024-09-21T06:02:16.021Z"
   },
   {
    "duration": 16,
    "start_time": "2024-09-21T06:02:16.152Z"
   },
   {
    "duration": 385,
    "start_time": "2024-09-21T06:02:16.169Z"
   },
   {
    "duration": 322,
    "start_time": "2024-09-21T06:02:16.555Z"
   },
   {
    "duration": 21,
    "start_time": "2024-09-21T06:02:16.878Z"
   },
   {
    "duration": 337,
    "start_time": "2024-09-21T06:02:16.901Z"
   },
   {
    "duration": 25,
    "start_time": "2024-09-21T06:02:17.240Z"
   },
   {
    "duration": 293,
    "start_time": "2024-09-21T06:02:17.268Z"
   },
   {
    "duration": 44,
    "start_time": "2024-09-21T06:02:17.562Z"
   },
   {
    "duration": 293,
    "start_time": "2024-09-21T06:02:17.608Z"
   },
   {
    "duration": 672,
    "start_time": "2024-09-21T06:02:17.903Z"
   },
   {
    "duration": 345,
    "start_time": "2024-09-21T06:02:18.577Z"
   },
   {
    "duration": 10,
    "start_time": "2024-09-21T06:02:18.923Z"
   },
   {
    "duration": 14,
    "start_time": "2024-09-21T06:02:18.935Z"
   },
   {
    "duration": 885,
    "start_time": "2024-09-21T06:02:18.951Z"
   },
   {
    "duration": 977,
    "start_time": "2024-09-21T06:02:19.838Z"
   },
   {
    "duration": 25,
    "start_time": "2024-09-21T06:02:20.817Z"
   },
   {
    "duration": 227,
    "start_time": "2024-09-21T06:02:20.843Z"
   },
   {
    "duration": 312,
    "start_time": "2024-09-21T06:02:21.072Z"
   },
   {
    "duration": 370,
    "start_time": "2024-09-21T06:02:21.385Z"
   },
   {
    "duration": 347,
    "start_time": "2024-09-21T06:02:21.757Z"
   },
   {
    "duration": 475,
    "start_time": "2024-09-21T06:02:22.106Z"
   },
   {
    "duration": 18,
    "start_time": "2024-09-21T06:02:22.583Z"
   },
   {
    "duration": 21,
    "start_time": "2024-09-21T06:02:22.602Z"
   },
   {
    "duration": 15,
    "start_time": "2024-09-21T06:02:22.624Z"
   },
   {
    "duration": 23,
    "start_time": "2024-09-21T06:02:22.641Z"
   },
   {
    "duration": 20,
    "start_time": "2024-09-21T06:02:22.666Z"
   },
   {
    "duration": 48,
    "start_time": "2024-09-21T06:02:22.687Z"
   },
   {
    "duration": 12,
    "start_time": "2024-09-21T06:02:22.736Z"
   },
   {
    "duration": 36,
    "start_time": "2024-09-21T06:02:22.749Z"
   },
   {
    "duration": 12,
    "start_time": "2024-09-21T06:02:41.199Z"
   },
   {
    "duration": 1251,
    "start_time": "2024-09-21T06:02:49.171Z"
   },
   {
    "duration": 73,
    "start_time": "2024-09-21T06:02:50.424Z"
   },
   {
    "duration": 9,
    "start_time": "2024-09-21T06:02:50.499Z"
   },
   {
    "duration": 17,
    "start_time": "2024-09-21T06:02:50.510Z"
   },
   {
    "duration": 15,
    "start_time": "2024-09-21T06:02:50.528Z"
   },
   {
    "duration": 18,
    "start_time": "2024-09-21T06:02:50.544Z"
   },
   {
    "duration": 42,
    "start_time": "2024-09-21T06:02:50.564Z"
   },
   {
    "duration": 19,
    "start_time": "2024-09-21T06:02:50.608Z"
   },
   {
    "duration": 18,
    "start_time": "2024-09-21T06:02:50.629Z"
   },
   {
    "duration": 18,
    "start_time": "2024-09-21T06:02:50.650Z"
   },
   {
    "duration": 28,
    "start_time": "2024-09-21T06:02:50.669Z"
   },
   {
    "duration": 35,
    "start_time": "2024-09-21T06:02:50.698Z"
   },
   {
    "duration": 28,
    "start_time": "2024-09-21T06:02:50.734Z"
   },
   {
    "duration": 9,
    "start_time": "2024-09-21T06:02:50.764Z"
   },
   {
    "duration": 25,
    "start_time": "2024-09-21T06:02:50.774Z"
   },
   {
    "duration": 5,
    "start_time": "2024-09-21T06:02:50.800Z"
   },
   {
    "duration": 16,
    "start_time": "2024-09-21T06:02:50.807Z"
   },
   {
    "duration": 11,
    "start_time": "2024-09-21T06:02:50.825Z"
   },
   {
    "duration": 27,
    "start_time": "2024-09-21T06:02:50.837Z"
   },
   {
    "duration": 17,
    "start_time": "2024-09-21T06:02:50.866Z"
   },
   {
    "duration": 128,
    "start_time": "2024-09-21T06:02:50.884Z"
   },
   {
    "duration": 15,
    "start_time": "2024-09-21T06:02:51.014Z"
   },
   {
    "duration": 385,
    "start_time": "2024-09-21T06:02:51.031Z"
   },
   {
    "duration": 322,
    "start_time": "2024-09-21T06:02:51.418Z"
   },
   {
    "duration": 13,
    "start_time": "2024-09-21T06:02:51.741Z"
   },
   {
    "duration": 406,
    "start_time": "2024-09-21T06:02:51.756Z"
   },
   {
    "duration": 25,
    "start_time": "2024-09-21T06:02:52.164Z"
   },
   {
    "duration": 294,
    "start_time": "2024-09-21T06:02:52.193Z"
   },
   {
    "duration": 37,
    "start_time": "2024-09-21T06:02:52.489Z"
   },
   {
    "duration": 303,
    "start_time": "2024-09-21T06:02:52.528Z"
   },
   {
    "duration": 642,
    "start_time": "2024-09-21T06:02:52.833Z"
   },
   {
    "duration": 349,
    "start_time": "2024-09-21T06:02:53.477Z"
   },
   {
    "duration": 10,
    "start_time": "2024-09-21T06:02:53.829Z"
   },
   {
    "duration": 10,
    "start_time": "2024-09-21T06:02:53.841Z"
   },
   {
    "duration": 894,
    "start_time": "2024-09-21T06:02:53.852Z"
   },
   {
    "duration": 975,
    "start_time": "2024-09-21T06:02:54.748Z"
   },
   {
    "duration": 23,
    "start_time": "2024-09-21T06:02:55.725Z"
   },
   {
    "duration": 223,
    "start_time": "2024-09-21T06:02:55.750Z"
   },
   {
    "duration": 295,
    "start_time": "2024-09-21T06:02:55.974Z"
   },
   {
    "duration": 361,
    "start_time": "2024-09-21T06:02:56.271Z"
   },
   {
    "duration": 350,
    "start_time": "2024-09-21T06:02:56.634Z"
   },
   {
    "duration": 464,
    "start_time": "2024-09-21T06:02:56.986Z"
   },
   {
    "duration": 14,
    "start_time": "2024-09-21T06:02:57.452Z"
   },
   {
    "duration": 30,
    "start_time": "2024-09-21T06:02:57.468Z"
   },
   {
    "duration": 7,
    "start_time": "2024-09-21T06:02:57.500Z"
   },
   {
    "duration": 27,
    "start_time": "2024-09-21T06:02:57.509Z"
   },
   {
    "duration": 10,
    "start_time": "2024-09-21T06:02:57.538Z"
   },
   {
    "duration": 9,
    "start_time": "2024-09-21T06:02:57.550Z"
   },
   {
    "duration": 13,
    "start_time": "2024-09-21T06:02:57.561Z"
   },
   {
    "duration": 30,
    "start_time": "2024-09-21T06:02:57.576Z"
   },
   {
    "duration": 1164,
    "start_time": "2024-09-21T23:09:40.428Z"
   },
   {
    "duration": 68,
    "start_time": "2024-09-21T23:09:41.593Z"
   },
   {
    "duration": 9,
    "start_time": "2024-09-21T23:09:41.663Z"
   },
   {
    "duration": 20,
    "start_time": "2024-09-21T23:09:41.674Z"
   },
   {
    "duration": 14,
    "start_time": "2024-09-21T23:09:41.695Z"
   },
   {
    "duration": 15,
    "start_time": "2024-09-21T23:09:41.710Z"
   },
   {
    "duration": 30,
    "start_time": "2024-09-21T23:09:41.727Z"
   },
   {
    "duration": 16,
    "start_time": "2024-09-21T23:09:41.759Z"
   },
   {
    "duration": 9,
    "start_time": "2024-09-21T23:09:41.776Z"
   },
   {
    "duration": 16,
    "start_time": "2024-09-21T23:09:41.788Z"
   },
   {
    "duration": 18,
    "start_time": "2024-09-21T23:09:41.805Z"
   },
   {
    "duration": 28,
    "start_time": "2024-09-21T23:09:41.825Z"
   },
   {
    "duration": 16,
    "start_time": "2024-09-21T23:09:41.855Z"
   },
   {
    "duration": 9,
    "start_time": "2024-09-21T23:09:41.872Z"
   },
   {
    "duration": 9,
    "start_time": "2024-09-21T23:09:41.882Z"
   },
   {
    "duration": 4,
    "start_time": "2024-09-21T23:09:41.893Z"
   },
   {
    "duration": 8,
    "start_time": "2024-09-21T23:09:41.899Z"
   },
   {
    "duration": 13,
    "start_time": "2024-09-21T23:09:41.908Z"
   },
   {
    "duration": 43,
    "start_time": "2024-09-21T23:09:41.922Z"
   },
   {
    "duration": 16,
    "start_time": "2024-09-21T23:09:41.967Z"
   },
   {
    "duration": 116,
    "start_time": "2024-09-21T23:09:41.984Z"
   },
   {
    "duration": 15,
    "start_time": "2024-09-21T23:09:42.102Z"
   },
   {
    "duration": 386,
    "start_time": "2024-09-21T23:09:42.119Z"
   },
   {
    "duration": 317,
    "start_time": "2024-09-21T23:09:42.507Z"
   },
   {
    "duration": 12,
    "start_time": "2024-09-21T23:09:42.825Z"
   },
   {
    "duration": 309,
    "start_time": "2024-09-21T23:09:42.838Z"
   },
   {
    "duration": 23,
    "start_time": "2024-09-21T23:09:43.149Z"
   },
   {
    "duration": 280,
    "start_time": "2024-09-21T23:09:43.176Z"
   },
   {
    "duration": 29,
    "start_time": "2024-09-21T23:09:43.458Z"
   },
   {
    "duration": 298,
    "start_time": "2024-09-21T23:09:43.488Z"
   },
   {
    "duration": 619,
    "start_time": "2024-09-21T23:09:43.788Z"
   },
   {
    "duration": 322,
    "start_time": "2024-09-21T23:09:44.409Z"
   },
   {
    "duration": 9,
    "start_time": "2024-09-21T23:09:44.733Z"
   },
   {
    "duration": 8,
    "start_time": "2024-09-21T23:09:44.753Z"
   },
   {
    "duration": 895,
    "start_time": "2024-09-21T23:09:44.762Z"
   },
   {
    "duration": 928,
    "start_time": "2024-09-21T23:09:45.659Z"
   },
   {
    "duration": 22,
    "start_time": "2024-09-21T23:09:46.589Z"
   },
   {
    "duration": 204,
    "start_time": "2024-09-21T23:09:46.613Z"
   },
   {
    "duration": 291,
    "start_time": "2024-09-21T23:09:46.819Z"
   },
   {
    "duration": 364,
    "start_time": "2024-09-21T23:09:47.112Z"
   },
   {
    "duration": 343,
    "start_time": "2024-09-21T23:09:47.478Z"
   },
   {
    "duration": 430,
    "start_time": "2024-09-21T23:09:47.823Z"
   },
   {
    "duration": 11,
    "start_time": "2024-09-21T23:09:48.255Z"
   },
   {
    "duration": 9,
    "start_time": "2024-09-21T23:09:48.267Z"
   },
   {
    "duration": 9,
    "start_time": "2024-09-21T23:09:48.278Z"
   },
   {
    "duration": 16,
    "start_time": "2024-09-21T23:09:48.288Z"
   },
   {
    "duration": 11,
    "start_time": "2024-09-21T23:09:48.305Z"
   },
   {
    "duration": 40,
    "start_time": "2024-09-21T23:09:48.318Z"
   },
   {
    "duration": 7,
    "start_time": "2024-09-21T23:09:48.359Z"
   },
   {
    "duration": 12,
    "start_time": "2024-09-21T23:09:48.367Z"
   },
   {
    "duration": 51,
    "start_time": "2024-09-22T04:00:36.169Z"
   },
   {
    "duration": 9,
    "start_time": "2024-09-22T04:00:52.933Z"
   },
   {
    "duration": 1423,
    "start_time": "2024-09-22T04:01:01.326Z"
   },
   {
    "duration": 200,
    "start_time": "2024-09-22T04:01:02.752Z"
   },
   {
    "duration": 10,
    "start_time": "2024-09-22T04:01:02.954Z"
   },
   {
    "duration": 16,
    "start_time": "2024-09-22T04:01:02.965Z"
   },
   {
    "duration": 34,
    "start_time": "2024-09-22T04:01:02.982Z"
   },
   {
    "duration": 16,
    "start_time": "2024-09-22T04:01:03.017Z"
   },
   {
    "duration": 22,
    "start_time": "2024-09-22T04:01:03.034Z"
   },
   {
    "duration": 18,
    "start_time": "2024-09-22T04:01:03.058Z"
   },
   {
    "duration": 12,
    "start_time": "2024-09-22T04:01:03.078Z"
   },
   {
    "duration": 27,
    "start_time": "2024-09-22T04:01:03.094Z"
   },
   {
    "duration": 16,
    "start_time": "2024-09-22T04:01:03.123Z"
   },
   {
    "duration": 38,
    "start_time": "2024-09-22T04:01:03.140Z"
   },
   {
    "duration": 12,
    "start_time": "2024-09-22T04:01:03.180Z"
   },
   {
    "duration": 27,
    "start_time": "2024-09-22T04:01:03.194Z"
   },
   {
    "duration": 36,
    "start_time": "2024-09-22T04:01:03.223Z"
   },
   {
    "duration": 8,
    "start_time": "2024-09-22T04:01:03.260Z"
   },
   {
    "duration": 21,
    "start_time": "2024-09-22T04:01:03.270Z"
   },
   {
    "duration": 23,
    "start_time": "2024-09-22T04:01:03.292Z"
   },
   {
    "duration": 28,
    "start_time": "2024-09-22T04:01:03.316Z"
   },
   {
    "duration": 17,
    "start_time": "2024-09-22T04:01:03.346Z"
   },
   {
    "duration": 123,
    "start_time": "2024-09-22T04:01:03.365Z"
   },
   {
    "duration": 31,
    "start_time": "2024-09-22T04:01:03.490Z"
   },
   {
    "duration": 390,
    "start_time": "2024-09-22T04:01:03.523Z"
   },
   {
    "duration": 311,
    "start_time": "2024-09-22T04:01:03.920Z"
   },
   {
    "duration": 13,
    "start_time": "2024-09-22T04:01:04.233Z"
   },
   {
    "duration": 352,
    "start_time": "2024-09-22T04:01:04.247Z"
   },
   {
    "duration": 24,
    "start_time": "2024-09-22T04:01:04.601Z"
   },
   {
    "duration": 304,
    "start_time": "2024-09-22T04:01:04.629Z"
   },
   {
    "duration": 46,
    "start_time": "2024-09-22T04:01:04.934Z"
   },
   {
    "duration": 325,
    "start_time": "2024-09-22T04:01:04.981Z"
   },
   {
    "duration": 633,
    "start_time": "2024-09-22T04:01:05.308Z"
   },
   {
    "duration": 355,
    "start_time": "2024-09-22T04:01:05.942Z"
   },
   {
    "duration": 22,
    "start_time": "2024-09-22T04:01:06.299Z"
   },
   {
    "duration": 20,
    "start_time": "2024-09-22T04:01:06.323Z"
   },
   {
    "duration": 940,
    "start_time": "2024-09-22T04:01:06.345Z"
   },
   {
    "duration": 953,
    "start_time": "2024-09-22T04:01:07.287Z"
   },
   {
    "duration": 22,
    "start_time": "2024-09-22T04:01:08.241Z"
   },
   {
    "duration": 223,
    "start_time": "2024-09-22T04:01:08.265Z"
   },
   {
    "duration": 295,
    "start_time": "2024-09-22T04:01:08.490Z"
   },
   {
    "duration": 363,
    "start_time": "2024-09-22T04:01:08.787Z"
   },
   {
    "duration": 357,
    "start_time": "2024-09-22T04:01:09.152Z"
   },
   {
    "duration": 454,
    "start_time": "2024-09-22T04:01:09.511Z"
   },
   {
    "duration": 13,
    "start_time": "2024-09-22T04:01:09.967Z"
   },
   {
    "duration": 95,
    "start_time": "2024-09-22T04:01:09.982Z"
   },
   {
    "duration": 50,
    "start_time": "2024-09-22T04:01:10.078Z"
   },
   {
    "duration": 27,
    "start_time": "2024-09-22T04:01:10.129Z"
   },
   {
    "duration": 12,
    "start_time": "2024-09-22T04:01:10.158Z"
   },
   {
    "duration": 12,
    "start_time": "2024-09-22T04:01:10.172Z"
   },
   {
    "duration": 12,
    "start_time": "2024-09-22T04:01:10.186Z"
   },
   {
    "duration": 21,
    "start_time": "2024-09-22T04:01:10.200Z"
   },
   {
    "duration": 1039,
    "start_time": "2024-09-22T04:07:11.426Z"
   },
   {
    "duration": 912,
    "start_time": "2024-09-22T04:07:30.422Z"
   },
   {
    "duration": 968,
    "start_time": "2024-09-22T04:07:55.699Z"
   },
   {
    "duration": 1435,
    "start_time": "2024-09-22T04:08:48.001Z"
   },
   {
    "duration": 915,
    "start_time": "2024-09-22T04:08:56.692Z"
   },
   {
    "duration": 1032,
    "start_time": "2024-09-22T04:09:13.499Z"
   },
   {
    "duration": 872,
    "start_time": "2024-09-22T04:12:30.185Z"
   },
   {
    "duration": 11,
    "start_time": "2024-09-22T04:14:15.705Z"
   },
   {
    "duration": 542,
    "start_time": "2024-09-22T04:14:41.556Z"
   },
   {
    "duration": 2272,
    "start_time": "2024-09-22T04:14:50.487Z"
   },
   {
    "duration": 1001,
    "start_time": "2024-09-22T04:16:05.000Z"
   },
   {
    "duration": 970,
    "start_time": "2024-09-22T04:17:18.051Z"
   },
   {
    "duration": 834,
    "start_time": "2024-09-22T04:17:45.196Z"
   },
   {
    "duration": 836,
    "start_time": "2024-09-22T04:18:42.445Z"
   },
   {
    "duration": 1259,
    "start_time": "2024-09-22T04:19:53.320Z"
   },
   {
    "duration": 68,
    "start_time": "2024-09-22T04:19:54.581Z"
   },
   {
    "duration": 9,
    "start_time": "2024-09-22T04:19:54.651Z"
   },
   {
    "duration": 23,
    "start_time": "2024-09-22T04:19:54.662Z"
   },
   {
    "duration": 17,
    "start_time": "2024-09-22T04:19:54.687Z"
   },
   {
    "duration": 27,
    "start_time": "2024-09-22T04:19:54.705Z"
   },
   {
    "duration": 11,
    "start_time": "2024-09-22T04:19:54.734Z"
   },
   {
    "duration": 40,
    "start_time": "2024-09-22T04:19:54.746Z"
   },
   {
    "duration": 85,
    "start_time": "2024-09-22T04:19:54.788Z"
   },
   {
    "duration": 29,
    "start_time": "2024-09-22T04:19:54.876Z"
   },
   {
    "duration": 19,
    "start_time": "2024-09-22T04:19:54.907Z"
   },
   {
    "duration": 32,
    "start_time": "2024-09-22T04:19:54.928Z"
   },
   {
    "duration": 27,
    "start_time": "2024-09-22T04:19:54.962Z"
   },
   {
    "duration": 16,
    "start_time": "2024-09-22T04:19:54.990Z"
   },
   {
    "duration": 12,
    "start_time": "2024-09-22T04:19:55.007Z"
   },
   {
    "duration": 23,
    "start_time": "2024-09-22T04:19:55.020Z"
   },
   {
    "duration": 22,
    "start_time": "2024-09-22T04:19:55.045Z"
   },
   {
    "duration": 23,
    "start_time": "2024-09-22T04:19:55.068Z"
   },
   {
    "duration": 49,
    "start_time": "2024-09-22T04:19:55.092Z"
   },
   {
    "duration": 19,
    "start_time": "2024-09-22T04:19:55.143Z"
   },
   {
    "duration": 135,
    "start_time": "2024-09-22T04:19:55.164Z"
   },
   {
    "duration": 27,
    "start_time": "2024-09-22T04:19:55.300Z"
   },
   {
    "duration": 381,
    "start_time": "2024-09-22T04:19:55.329Z"
   },
   {
    "duration": 330,
    "start_time": "2024-09-22T04:19:55.711Z"
   },
   {
    "duration": 13,
    "start_time": "2024-09-22T04:19:56.043Z"
   },
   {
    "duration": 398,
    "start_time": "2024-09-22T04:19:56.057Z"
   },
   {
    "duration": 25,
    "start_time": "2024-09-22T04:19:56.457Z"
   },
   {
    "duration": 287,
    "start_time": "2024-09-22T04:19:56.485Z"
   },
   {
    "duration": 34,
    "start_time": "2024-09-22T04:19:56.774Z"
   },
   {
    "duration": 341,
    "start_time": "2024-09-22T04:19:56.820Z"
   },
   {
    "duration": 640,
    "start_time": "2024-09-22T04:19:57.162Z"
   },
   {
    "duration": 347,
    "start_time": "2024-09-22T04:19:57.804Z"
   },
   {
    "duration": 10,
    "start_time": "2024-09-22T04:19:58.153Z"
   },
   {
    "duration": 20,
    "start_time": "2024-09-22T04:19:58.165Z"
   },
   {
    "duration": 863,
    "start_time": "2024-09-22T04:19:58.187Z"
   },
   {
    "duration": 938,
    "start_time": "2024-09-22T04:19:59.052Z"
   },
   {
    "duration": 35,
    "start_time": "2024-09-22T04:19:59.991Z"
   },
   {
    "duration": 217,
    "start_time": "2024-09-22T04:20:00.027Z"
   },
   {
    "duration": 299,
    "start_time": "2024-09-22T04:20:00.246Z"
   },
   {
    "duration": 361,
    "start_time": "2024-09-22T04:20:00.547Z"
   },
   {
    "duration": 453,
    "start_time": "2024-09-22T04:20:00.910Z"
   },
   {
    "duration": 373,
    "start_time": "2024-09-22T04:20:01.365Z"
   },
   {
    "duration": 11,
    "start_time": "2024-09-22T04:20:01.740Z"
   },
   {
    "duration": 39,
    "start_time": "2024-09-22T04:20:01.753Z"
   },
   {
    "duration": 29,
    "start_time": "2024-09-22T04:20:01.794Z"
   },
   {
    "duration": 56,
    "start_time": "2024-09-22T04:20:01.825Z"
   },
   {
    "duration": 37,
    "start_time": "2024-09-22T04:20:01.883Z"
   },
   {
    "duration": 42,
    "start_time": "2024-09-22T04:20:01.922Z"
   },
   {
    "duration": 24,
    "start_time": "2024-09-22T04:20:01.965Z"
   },
   {
    "duration": 40,
    "start_time": "2024-09-22T04:20:01.991Z"
   },
   {
    "duration": 115,
    "start_time": "2024-09-22T04:23:54.055Z"
   },
   {
    "duration": 49,
    "start_time": "2024-09-22T04:24:05.113Z"
   },
   {
    "duration": 1236,
    "start_time": "2024-09-22T04:26:22.259Z"
   },
   {
    "duration": 72,
    "start_time": "2024-09-22T04:26:23.497Z"
   },
   {
    "duration": 9,
    "start_time": "2024-09-22T04:26:23.571Z"
   },
   {
    "duration": 30,
    "start_time": "2024-09-22T04:26:23.582Z"
   },
   {
    "duration": 18,
    "start_time": "2024-09-22T04:26:23.614Z"
   },
   {
    "duration": 17,
    "start_time": "2024-09-22T04:26:23.634Z"
   },
   {
    "duration": 13,
    "start_time": "2024-09-22T04:26:23.652Z"
   },
   {
    "duration": 17,
    "start_time": "2024-09-22T04:26:23.666Z"
   },
   {
    "duration": 37,
    "start_time": "2024-09-22T04:26:23.685Z"
   },
   {
    "duration": 12,
    "start_time": "2024-09-22T04:26:23.725Z"
   },
   {
    "duration": 10,
    "start_time": "2024-09-22T04:26:23.739Z"
   },
   {
    "duration": 12,
    "start_time": "2024-09-22T04:26:23.751Z"
   },
   {
    "duration": 6,
    "start_time": "2024-09-22T04:26:23.764Z"
   },
   {
    "duration": 48,
    "start_time": "2024-09-22T04:26:23.772Z"
   },
   {
    "duration": 14,
    "start_time": "2024-09-22T04:26:23.823Z"
   },
   {
    "duration": 7,
    "start_time": "2024-09-22T04:26:23.839Z"
   },
   {
    "duration": 7,
    "start_time": "2024-09-22T04:26:23.847Z"
   },
   {
    "duration": 11,
    "start_time": "2024-09-22T04:26:23.856Z"
   },
   {
    "duration": 17,
    "start_time": "2024-09-22T04:26:23.868Z"
   },
   {
    "duration": 52,
    "start_time": "2024-09-22T04:26:23.887Z"
   },
   {
    "duration": 145,
    "start_time": "2024-09-22T04:26:23.941Z"
   },
   {
    "duration": 16,
    "start_time": "2024-09-22T04:26:24.088Z"
   },
   {
    "duration": 416,
    "start_time": "2024-09-22T04:26:24.106Z"
   },
   {
    "duration": 364,
    "start_time": "2024-09-22T04:26:24.524Z"
   },
   {
    "duration": 13,
    "start_time": "2024-09-22T04:26:24.889Z"
   },
   {
    "duration": 436,
    "start_time": "2024-09-22T04:26:24.904Z"
   },
   {
    "duration": 26,
    "start_time": "2024-09-22T04:26:25.342Z"
   },
   {
    "duration": 306,
    "start_time": "2024-09-22T04:26:25.371Z"
   },
   {
    "duration": 43,
    "start_time": "2024-09-22T04:26:25.679Z"
   },
   {
    "duration": 307,
    "start_time": "2024-09-22T04:26:25.724Z"
   },
   {
    "duration": 687,
    "start_time": "2024-09-22T04:26:26.032Z"
   },
   {
    "duration": 378,
    "start_time": "2024-09-22T04:26:26.721Z"
   },
   {
    "duration": 9,
    "start_time": "2024-09-22T04:26:27.101Z"
   },
   {
    "duration": 9,
    "start_time": "2024-09-22T04:26:27.121Z"
   },
   {
    "duration": 874,
    "start_time": "2024-09-22T04:26:27.132Z"
   },
   {
    "duration": 920,
    "start_time": "2024-09-22T04:26:28.008Z"
   },
   {
    "duration": 37,
    "start_time": "2024-09-22T04:26:28.930Z"
   },
   {
    "duration": 232,
    "start_time": "2024-09-22T04:26:28.969Z"
   },
   {
    "duration": 330,
    "start_time": "2024-09-22T04:26:29.203Z"
   },
   {
    "duration": 376,
    "start_time": "2024-09-22T04:26:29.535Z"
   },
   {
    "duration": 435,
    "start_time": "2024-09-22T04:26:29.914Z"
   },
   {
    "duration": 395,
    "start_time": "2024-09-22T04:26:30.351Z"
   },
   {
    "duration": 13,
    "start_time": "2024-09-22T04:26:30.748Z"
   },
   {
    "duration": 30,
    "start_time": "2024-09-22T04:26:30.762Z"
   },
   {
    "duration": 59,
    "start_time": "2024-09-22T04:26:30.794Z"
   },
   {
    "duration": 61,
    "start_time": "2024-09-22T04:26:30.855Z"
   },
   {
    "duration": 13,
    "start_time": "2024-09-22T04:26:30.918Z"
   },
   {
    "duration": 28,
    "start_time": "2024-09-22T04:26:30.932Z"
   },
   {
    "duration": 44,
    "start_time": "2024-09-22T04:26:30.962Z"
   },
   {
    "duration": 18,
    "start_time": "2024-09-22T04:26:31.008Z"
   },
   {
    "duration": 1145,
    "start_time": "2024-09-22T13:44:33.395Z"
   },
   {
    "duration": 71,
    "start_time": "2024-09-22T13:44:34.541Z"
   },
   {
    "duration": 9,
    "start_time": "2024-09-22T13:44:34.614Z"
   },
   {
    "duration": 14,
    "start_time": "2024-09-22T13:44:34.625Z"
   },
   {
    "duration": 58,
    "start_time": "2024-09-22T13:44:34.640Z"
   },
   {
    "duration": 22,
    "start_time": "2024-09-22T13:44:34.700Z"
   },
   {
    "duration": 16,
    "start_time": "2024-09-22T13:44:34.724Z"
   },
   {
    "duration": 37,
    "start_time": "2024-09-22T13:44:34.742Z"
   },
   {
    "duration": 10,
    "start_time": "2024-09-22T13:44:34.780Z"
   },
   {
    "duration": 12,
    "start_time": "2024-09-22T13:44:34.794Z"
   },
   {
    "duration": 11,
    "start_time": "2024-09-22T13:44:34.808Z"
   },
   {
    "duration": 27,
    "start_time": "2024-09-22T13:44:34.821Z"
   },
   {
    "duration": 7,
    "start_time": "2024-09-22T13:44:34.850Z"
   },
   {
    "duration": 15,
    "start_time": "2024-09-22T13:44:34.858Z"
   },
   {
    "duration": 21,
    "start_time": "2024-09-22T13:44:34.875Z"
   },
   {
    "duration": 5,
    "start_time": "2024-09-22T13:44:34.897Z"
   },
   {
    "duration": 7,
    "start_time": "2024-09-22T13:44:34.904Z"
   },
   {
    "duration": 11,
    "start_time": "2024-09-22T13:44:34.912Z"
   },
   {
    "duration": 20,
    "start_time": "2024-09-22T13:44:34.943Z"
   },
   {
    "duration": 26,
    "start_time": "2024-09-22T13:44:34.965Z"
   },
   {
    "duration": 112,
    "start_time": "2024-09-22T13:44:34.993Z"
   },
   {
    "duration": 38,
    "start_time": "2024-09-22T13:44:35.107Z"
   },
   {
    "duration": 362,
    "start_time": "2024-09-22T13:44:35.147Z"
   },
   {
    "duration": 309,
    "start_time": "2024-09-22T13:44:35.510Z"
   },
   {
    "duration": 12,
    "start_time": "2024-09-22T13:44:35.821Z"
   },
   {
    "duration": 305,
    "start_time": "2024-09-22T13:44:35.834Z"
   },
   {
    "duration": 29,
    "start_time": "2024-09-22T13:44:36.140Z"
   },
   {
    "duration": 320,
    "start_time": "2024-09-22T13:44:36.174Z"
   },
   {
    "duration": 39,
    "start_time": "2024-09-22T13:44:36.496Z"
   },
   {
    "duration": 355,
    "start_time": "2024-09-22T13:44:36.542Z"
   },
   {
    "duration": 610,
    "start_time": "2024-09-22T13:44:36.898Z"
   },
   {
    "duration": 319,
    "start_time": "2024-09-22T13:44:37.510Z"
   },
   {
    "duration": 14,
    "start_time": "2024-09-22T13:44:37.831Z"
   },
   {
    "duration": 10,
    "start_time": "2024-09-22T13:44:37.847Z"
   },
   {
    "duration": 794,
    "start_time": "2024-09-22T13:44:37.858Z"
   },
   {
    "duration": 885,
    "start_time": "2024-09-22T13:44:38.654Z"
   },
   {
    "duration": 34,
    "start_time": "2024-09-22T13:44:39.540Z"
   },
   {
    "duration": 221,
    "start_time": "2024-09-22T13:44:39.576Z"
   },
   {
    "duration": 308,
    "start_time": "2024-09-22T13:44:39.799Z"
   },
   {
    "duration": 338,
    "start_time": "2024-09-22T13:44:40.109Z"
   },
   {
    "duration": 441,
    "start_time": "2024-09-22T13:44:40.449Z"
   },
   {
    "duration": 326,
    "start_time": "2024-09-22T13:44:40.891Z"
   },
   {
    "duration": 11,
    "start_time": "2024-09-22T13:44:41.219Z"
   },
   {
    "duration": 7,
    "start_time": "2024-09-22T13:44:41.243Z"
   },
   {
    "duration": 18,
    "start_time": "2024-09-22T13:44:41.251Z"
   },
   {
    "duration": 13,
    "start_time": "2024-09-22T13:44:41.271Z"
   },
   {
    "duration": 10,
    "start_time": "2024-09-22T13:44:41.286Z"
   },
   {
    "duration": 7,
    "start_time": "2024-09-22T13:44:41.298Z"
   },
   {
    "duration": 7,
    "start_time": "2024-09-22T13:44:41.306Z"
   },
   {
    "duration": 12,
    "start_time": "2024-09-22T13:44:41.343Z"
   },
   {
    "duration": 6,
    "start_time": "2024-09-22T13:51:09.642Z"
   },
   {
    "duration": 11,
    "start_time": "2024-09-22T13:51:25.665Z"
   },
   {
    "duration": 49,
    "start_time": "2024-09-22T14:32:12.623Z"
   },
   {
    "duration": 9,
    "start_time": "2024-09-22T14:37:40.455Z"
   },
   {
    "duration": 1428,
    "start_time": "2024-09-22T14:37:47.933Z"
   },
   {
    "duration": 210,
    "start_time": "2024-09-22T14:37:49.363Z"
   },
   {
    "duration": 11,
    "start_time": "2024-09-22T14:37:49.575Z"
   },
   {
    "duration": 16,
    "start_time": "2024-09-22T14:37:49.588Z"
   },
   {
    "duration": 20,
    "start_time": "2024-09-22T14:37:49.605Z"
   },
   {
    "duration": 47,
    "start_time": "2024-09-22T14:37:49.627Z"
   },
   {
    "duration": 11,
    "start_time": "2024-09-22T14:37:49.676Z"
   },
   {
    "duration": 20,
    "start_time": "2024-09-22T14:37:49.688Z"
   },
   {
    "duration": 9,
    "start_time": "2024-09-22T14:37:49.710Z"
   },
   {
    "duration": 10,
    "start_time": "2024-09-22T14:37:49.722Z"
   },
   {
    "duration": 37,
    "start_time": "2024-09-22T14:37:49.734Z"
   },
   {
    "duration": 9,
    "start_time": "2024-09-22T14:37:49.773Z"
   },
   {
    "duration": 5,
    "start_time": "2024-09-22T14:37:49.784Z"
   },
   {
    "duration": 11,
    "start_time": "2024-09-22T14:37:49.790Z"
   },
   {
    "duration": 9,
    "start_time": "2024-09-22T14:37:49.803Z"
   },
   {
    "duration": 21,
    "start_time": "2024-09-22T14:37:49.815Z"
   },
   {
    "duration": 30,
    "start_time": "2024-09-22T14:37:49.838Z"
   },
   {
    "duration": 9,
    "start_time": "2024-09-22T14:37:49.870Z"
   },
   {
    "duration": 18,
    "start_time": "2024-09-22T14:37:49.880Z"
   },
   {
    "duration": 17,
    "start_time": "2024-09-22T14:37:49.900Z"
   },
   {
    "duration": 147,
    "start_time": "2024-09-22T14:37:49.919Z"
   },
   {
    "duration": 15,
    "start_time": "2024-09-22T14:37:50.067Z"
   },
   {
    "duration": 373,
    "start_time": "2024-09-22T14:37:50.084Z"
   },
   {
    "duration": 330,
    "start_time": "2024-09-22T14:37:50.464Z"
   },
   {
    "duration": 12,
    "start_time": "2024-09-22T14:37:50.796Z"
   },
   {
    "duration": 330,
    "start_time": "2024-09-22T14:37:50.810Z"
   },
   {
    "duration": 25,
    "start_time": "2024-09-22T14:37:51.142Z"
   },
   {
    "duration": 297,
    "start_time": "2024-09-22T14:37:51.170Z"
   },
   {
    "duration": 34,
    "start_time": "2024-09-22T14:37:51.468Z"
   },
   {
    "duration": 321,
    "start_time": "2024-09-22T14:37:51.503Z"
   },
   {
    "duration": 627,
    "start_time": "2024-09-22T14:37:51.826Z"
   },
   {
    "duration": 330,
    "start_time": "2024-09-22T14:37:52.455Z"
   },
   {
    "duration": 10,
    "start_time": "2024-09-22T14:37:52.787Z"
   },
   {
    "duration": 9,
    "start_time": "2024-09-22T14:37:52.798Z"
   },
   {
    "duration": 859,
    "start_time": "2024-09-22T14:37:52.809Z"
   },
   {
    "duration": 901,
    "start_time": "2024-09-22T14:37:53.670Z"
   },
   {
    "duration": 50,
    "start_time": "2024-09-22T14:37:54.573Z"
   },
   {
    "duration": 11,
    "start_time": "2024-09-22T14:37:54.625Z"
   },
   {
    "duration": 230,
    "start_time": "2024-09-22T14:37:54.637Z"
   },
   {
    "duration": 304,
    "start_time": "2024-09-22T14:37:54.869Z"
   },
   {
    "duration": 356,
    "start_time": "2024-09-22T14:37:55.175Z"
   },
   {
    "duration": 444,
    "start_time": "2024-09-22T14:37:55.532Z"
   },
   {
    "duration": 362,
    "start_time": "2024-09-22T14:37:55.977Z"
   },
   {
    "duration": 11,
    "start_time": "2024-09-22T14:37:56.340Z"
   },
   {
    "duration": 13,
    "start_time": "2024-09-22T14:37:56.352Z"
   },
   {
    "duration": 15,
    "start_time": "2024-09-22T14:37:56.367Z"
   },
   {
    "duration": 26,
    "start_time": "2024-09-22T14:37:56.383Z"
   },
   {
    "duration": 12,
    "start_time": "2024-09-22T14:37:56.410Z"
   },
   {
    "duration": 12,
    "start_time": "2024-09-22T14:37:56.424Z"
   },
   {
    "duration": 8,
    "start_time": "2024-09-22T14:37:56.438Z"
   },
   {
    "duration": 13,
    "start_time": "2024-09-22T14:37:56.464Z"
   },
   {
    "duration": 32,
    "start_time": "2024-09-22T14:39:11.364Z"
   },
   {
    "duration": 41,
    "start_time": "2024-09-22T14:45:14.551Z"
   },
   {
    "duration": 34,
    "start_time": "2024-09-22T14:45:39.752Z"
   },
   {
    "duration": 1200,
    "start_time": "2024-09-22T14:46:23.491Z"
   },
   {
    "duration": 70,
    "start_time": "2024-09-22T14:46:24.693Z"
   },
   {
    "duration": 9,
    "start_time": "2024-09-22T14:46:24.765Z"
   },
   {
    "duration": 16,
    "start_time": "2024-09-22T14:46:24.776Z"
   },
   {
    "duration": 13,
    "start_time": "2024-09-22T14:46:24.793Z"
   },
   {
    "duration": 15,
    "start_time": "2024-09-22T14:46:24.808Z"
   },
   {
    "duration": 40,
    "start_time": "2024-09-22T14:46:24.825Z"
   },
   {
    "duration": 17,
    "start_time": "2024-09-22T14:46:24.867Z"
   },
   {
    "duration": 10,
    "start_time": "2024-09-22T14:46:24.886Z"
   },
   {
    "duration": 10,
    "start_time": "2024-09-22T14:46:24.900Z"
   },
   {
    "duration": 8,
    "start_time": "2024-09-22T14:46:24.912Z"
   },
   {
    "duration": 48,
    "start_time": "2024-09-22T14:46:24.922Z"
   },
   {
    "duration": 44,
    "start_time": "2024-09-22T14:46:24.971Z"
   },
   {
    "duration": 13,
    "start_time": "2024-09-22T14:46:25.017Z"
   },
   {
    "duration": 18,
    "start_time": "2024-09-22T14:46:25.032Z"
   },
   {
    "duration": 9,
    "start_time": "2024-09-22T14:46:25.052Z"
   },
   {
    "duration": 12,
    "start_time": "2024-09-22T14:46:25.062Z"
   },
   {
    "duration": 9,
    "start_time": "2024-09-22T14:46:25.075Z"
   },
   {
    "duration": 17,
    "start_time": "2024-09-22T14:46:25.085Z"
   },
   {
    "duration": 27,
    "start_time": "2024-09-22T14:46:25.103Z"
   },
   {
    "duration": 107,
    "start_time": "2024-09-22T14:46:25.132Z"
   },
   {
    "duration": 30,
    "start_time": "2024-09-22T14:46:25.241Z"
   },
   {
    "duration": 354,
    "start_time": "2024-09-22T14:46:25.273Z"
   },
   {
    "duration": 305,
    "start_time": "2024-09-22T14:46:25.629Z"
   },
   {
    "duration": 13,
    "start_time": "2024-09-22T14:46:25.935Z"
   },
   {
    "duration": 330,
    "start_time": "2024-09-22T14:46:25.950Z"
   },
   {
    "duration": 26,
    "start_time": "2024-09-22T14:46:26.281Z"
   },
   {
    "duration": 295,
    "start_time": "2024-09-22T14:46:26.310Z"
   },
   {
    "duration": 32,
    "start_time": "2024-09-22T14:46:26.607Z"
   },
   {
    "duration": 278,
    "start_time": "2024-09-22T14:46:26.641Z"
   },
   {
    "duration": 611,
    "start_time": "2024-09-22T14:46:26.920Z"
   },
   {
    "duration": 426,
    "start_time": "2024-09-22T14:46:27.533Z"
   },
   {
    "duration": 9,
    "start_time": "2024-09-22T14:46:27.965Z"
   },
   {
    "duration": 10,
    "start_time": "2024-09-22T14:46:27.976Z"
   },
   {
    "duration": 1003,
    "start_time": "2024-09-22T14:46:27.988Z"
   },
   {
    "duration": 909,
    "start_time": "2024-09-22T14:46:28.993Z"
   },
   {
    "duration": 38,
    "start_time": "2024-09-22T14:46:29.903Z"
   },
   {
    "duration": 28,
    "start_time": "2024-09-22T14:46:29.942Z"
   },
   {
    "duration": 235,
    "start_time": "2024-09-22T14:46:29.971Z"
   },
   {
    "duration": 297,
    "start_time": "2024-09-22T14:46:30.208Z"
   },
   {
    "duration": 384,
    "start_time": "2024-09-22T14:46:30.506Z"
   },
   {
    "duration": 424,
    "start_time": "2024-09-22T14:46:30.892Z"
   },
   {
    "duration": 356,
    "start_time": "2024-09-22T14:46:31.318Z"
   },
   {
    "duration": 12,
    "start_time": "2024-09-22T14:46:31.675Z"
   },
   {
    "duration": 9,
    "start_time": "2024-09-22T14:46:31.689Z"
   },
   {
    "duration": 23,
    "start_time": "2024-09-22T14:46:31.700Z"
   },
   {
    "duration": 18,
    "start_time": "2024-09-22T14:46:31.724Z"
   },
   {
    "duration": 36,
    "start_time": "2024-09-22T14:46:31.744Z"
   },
   {
    "duration": 10,
    "start_time": "2024-09-22T14:46:31.782Z"
   },
   {
    "duration": 9,
    "start_time": "2024-09-22T14:46:31.793Z"
   },
   {
    "duration": 19,
    "start_time": "2024-09-22T14:46:31.804Z"
   },
   {
    "duration": 64,
    "start_time": "2024-09-22T14:57:02.502Z"
   },
   {
    "duration": 946,
    "start_time": "2024-09-22T14:58:02.938Z"
   },
   {
    "duration": 20,
    "start_time": "2024-09-22T15:12:17.606Z"
   },
   {
    "duration": 19,
    "start_time": "2024-09-22T15:12:36.265Z"
   },
   {
    "duration": 17,
    "start_time": "2024-09-22T15:12:58.188Z"
   },
   {
    "duration": 86,
    "start_time": "2024-09-22T15:13:53.345Z"
   },
   {
    "duration": 55,
    "start_time": "2024-09-22T15:14:18.600Z"
   },
   {
    "duration": 55,
    "start_time": "2024-09-22T15:14:58.430Z"
   },
   {
    "duration": 29,
    "start_time": "2024-09-22T15:15:18.571Z"
   },
   {
    "duration": 215,
    "start_time": "2024-09-22T15:26:12.125Z"
   },
   {
    "duration": 951,
    "start_time": "2024-09-22T15:26:33.109Z"
   },
   {
    "duration": 1191,
    "start_time": "2024-09-22T15:27:31.888Z"
   },
   {
    "duration": 74,
    "start_time": "2024-09-22T15:27:33.081Z"
   },
   {
    "duration": 10,
    "start_time": "2024-09-22T15:27:33.156Z"
   },
   {
    "duration": 14,
    "start_time": "2024-09-22T15:27:33.168Z"
   },
   {
    "duration": 15,
    "start_time": "2024-09-22T15:27:33.183Z"
   },
   {
    "duration": 15,
    "start_time": "2024-09-22T15:27:33.199Z"
   },
   {
    "duration": 12,
    "start_time": "2024-09-22T15:27:33.216Z"
   },
   {
    "duration": 46,
    "start_time": "2024-09-22T15:27:33.230Z"
   },
   {
    "duration": 9,
    "start_time": "2024-09-22T15:27:33.277Z"
   },
   {
    "duration": 10,
    "start_time": "2024-09-22T15:27:33.289Z"
   },
   {
    "duration": 8,
    "start_time": "2024-09-22T15:27:33.301Z"
   },
   {
    "duration": 12,
    "start_time": "2024-09-22T15:27:33.310Z"
   },
   {
    "duration": 5,
    "start_time": "2024-09-22T15:27:33.323Z"
   },
   {
    "duration": 44,
    "start_time": "2024-09-22T15:27:33.329Z"
   },
   {
    "duration": 19,
    "start_time": "2024-09-22T15:27:33.375Z"
   },
   {
    "duration": 23,
    "start_time": "2024-09-22T15:27:33.396Z"
   },
   {
    "duration": 9,
    "start_time": "2024-09-22T15:27:33.421Z"
   },
   {
    "duration": 11,
    "start_time": "2024-09-22T15:27:33.432Z"
   },
   {
    "duration": 51,
    "start_time": "2024-09-22T15:27:33.444Z"
   },
   {
    "duration": 17,
    "start_time": "2024-09-22T15:27:33.498Z"
   },
   {
    "duration": 113,
    "start_time": "2024-09-22T15:27:33.516Z"
   },
   {
    "duration": 33,
    "start_time": "2024-09-22T15:27:33.633Z"
   },
   {
    "duration": 389,
    "start_time": "2024-09-22T15:27:33.668Z"
   },
   {
    "duration": 339,
    "start_time": "2024-09-22T15:27:34.059Z"
   },
   {
    "duration": 14,
    "start_time": "2024-09-22T15:27:34.400Z"
   },
   {
    "duration": 348,
    "start_time": "2024-09-22T15:27:34.416Z"
   },
   {
    "duration": 23,
    "start_time": "2024-09-22T15:27:34.765Z"
   },
   {
    "duration": 288,
    "start_time": "2024-09-22T15:27:34.792Z"
   },
   {
    "duration": 32,
    "start_time": "2024-09-22T15:27:35.082Z"
   },
   {
    "duration": 289,
    "start_time": "2024-09-22T15:27:35.116Z"
   },
   {
    "duration": 697,
    "start_time": "2024-09-22T15:27:35.407Z"
   },
   {
    "duration": 360,
    "start_time": "2024-09-22T15:27:36.105Z"
   },
   {
    "duration": 10,
    "start_time": "2024-09-22T15:27:36.466Z"
   },
   {
    "duration": 13,
    "start_time": "2024-09-22T15:27:36.477Z"
   },
   {
    "duration": 880,
    "start_time": "2024-09-22T15:27:36.491Z"
   },
   {
    "duration": 956,
    "start_time": "2024-09-22T15:27:37.373Z"
   },
   {
    "duration": 43,
    "start_time": "2024-09-22T15:27:38.331Z"
   },
   {
    "duration": 45,
    "start_time": "2024-09-22T15:27:38.375Z"
   },
   {
    "duration": 203,
    "start_time": "2024-09-22T15:27:38.422Z"
   },
   {
    "duration": 300,
    "start_time": "2024-09-22T15:27:38.626Z"
   },
   {
    "duration": 338,
    "start_time": "2024-09-22T15:27:38.927Z"
   },
   {
    "duration": 423,
    "start_time": "2024-09-22T15:27:39.267Z"
   },
   {
    "duration": 369,
    "start_time": "2024-09-22T15:27:39.692Z"
   },
   {
    "duration": 12,
    "start_time": "2024-09-22T15:27:40.065Z"
   },
   {
    "duration": 44,
    "start_time": "2024-09-22T15:27:40.079Z"
   },
   {
    "duration": 18,
    "start_time": "2024-09-22T15:27:40.125Z"
   },
   {
    "duration": 11,
    "start_time": "2024-09-22T15:27:40.145Z"
   },
   {
    "duration": 15,
    "start_time": "2024-09-22T15:27:40.157Z"
   },
   {
    "duration": 16,
    "start_time": "2024-09-22T15:27:40.174Z"
   },
   {
    "duration": 15,
    "start_time": "2024-09-22T15:27:40.192Z"
   },
   {
    "duration": 23,
    "start_time": "2024-09-22T15:27:40.209Z"
   },
   {
    "duration": 896,
    "start_time": "2024-09-22T15:29:41.927Z"
   },
   {
    "duration": 1236,
    "start_time": "2024-09-22T15:31:28.874Z"
   },
   {
    "duration": 92,
    "start_time": "2024-09-22T15:31:30.112Z"
   },
   {
    "duration": 11,
    "start_time": "2024-09-22T15:31:30.206Z"
   },
   {
    "duration": 39,
    "start_time": "2024-09-22T15:31:30.219Z"
   },
   {
    "duration": 47,
    "start_time": "2024-09-22T15:31:30.259Z"
   },
   {
    "duration": 31,
    "start_time": "2024-09-22T15:31:30.307Z"
   },
   {
    "duration": 25,
    "start_time": "2024-09-22T15:31:30.340Z"
   },
   {
    "duration": 82,
    "start_time": "2024-09-22T15:31:30.367Z"
   },
   {
    "duration": 40,
    "start_time": "2024-09-22T15:31:30.451Z"
   },
   {
    "duration": 11,
    "start_time": "2024-09-22T15:31:30.493Z"
   },
   {
    "duration": 7,
    "start_time": "2024-09-22T15:31:30.505Z"
   },
   {
    "duration": 71,
    "start_time": "2024-09-22T15:31:30.513Z"
   },
   {
    "duration": 7,
    "start_time": "2024-09-22T15:31:30.586Z"
   },
   {
    "duration": 32,
    "start_time": "2024-09-22T15:31:30.595Z"
   },
   {
    "duration": 31,
    "start_time": "2024-09-22T15:31:30.628Z"
   },
   {
    "duration": 20,
    "start_time": "2024-09-22T15:31:30.660Z"
   },
   {
    "duration": 16,
    "start_time": "2024-09-22T15:31:30.682Z"
   },
   {
    "duration": 10,
    "start_time": "2024-09-22T15:31:30.700Z"
   },
   {
    "duration": 29,
    "start_time": "2024-09-22T15:31:30.712Z"
   },
   {
    "duration": 24,
    "start_time": "2024-09-22T15:31:30.743Z"
   },
   {
    "duration": 126,
    "start_time": "2024-09-22T15:31:30.769Z"
   },
   {
    "duration": 15,
    "start_time": "2024-09-22T15:31:30.897Z"
   },
   {
    "duration": 397,
    "start_time": "2024-09-22T15:31:30.914Z"
   },
   {
    "duration": 325,
    "start_time": "2024-09-22T15:31:31.313Z"
   },
   {
    "duration": 12,
    "start_time": "2024-09-22T15:31:31.640Z"
   },
   {
    "duration": 386,
    "start_time": "2024-09-22T15:31:31.654Z"
   },
   {
    "duration": 23,
    "start_time": "2024-09-22T15:31:32.042Z"
   },
   {
    "duration": 312,
    "start_time": "2024-09-22T15:31:32.070Z"
   },
   {
    "duration": 32,
    "start_time": "2024-09-22T15:31:32.388Z"
   },
   {
    "duration": 338,
    "start_time": "2024-09-22T15:31:32.421Z"
   },
   {
    "duration": 640,
    "start_time": "2024-09-22T15:31:32.760Z"
   },
   {
    "duration": 351,
    "start_time": "2024-09-22T15:31:33.402Z"
   },
   {
    "duration": 21,
    "start_time": "2024-09-22T15:31:33.754Z"
   },
   {
    "duration": 19,
    "start_time": "2024-09-22T15:31:33.778Z"
   },
   {
    "duration": 946,
    "start_time": "2024-09-22T15:31:33.799Z"
   },
   {
    "duration": 980,
    "start_time": "2024-09-22T15:31:34.746Z"
   },
   {
    "duration": 12,
    "start_time": "2024-09-22T15:31:35.727Z"
   },
   {
    "duration": 282,
    "start_time": "2024-09-22T15:31:35.741Z"
   },
   {
    "duration": 327,
    "start_time": "2024-09-22T15:31:36.025Z"
   },
   {
    "duration": 388,
    "start_time": "2024-09-22T15:31:36.354Z"
   },
   {
    "duration": 459,
    "start_time": "2024-09-22T15:31:36.744Z"
   },
   {
    "duration": 379,
    "start_time": "2024-09-22T15:31:37.205Z"
   },
   {
    "duration": 11,
    "start_time": "2024-09-22T15:31:37.586Z"
   },
   {
    "duration": 11,
    "start_time": "2024-09-22T15:31:37.599Z"
   },
   {
    "duration": 13,
    "start_time": "2024-09-22T15:31:37.612Z"
   },
   {
    "duration": 19,
    "start_time": "2024-09-22T15:31:37.626Z"
   },
   {
    "duration": 19,
    "start_time": "2024-09-22T15:31:37.665Z"
   },
   {
    "duration": 7,
    "start_time": "2024-09-22T15:31:37.686Z"
   },
   {
    "duration": 14,
    "start_time": "2024-09-22T15:31:37.695Z"
   },
   {
    "duration": 69,
    "start_time": "2024-09-22T15:31:37.711Z"
   },
   {
    "duration": 1085,
    "start_time": "2024-09-22T19:03:27.498Z"
   },
   {
    "duration": 74,
    "start_time": "2024-09-22T19:03:28.585Z"
   },
   {
    "duration": 10,
    "start_time": "2024-09-22T19:03:28.661Z"
   },
   {
    "duration": 15,
    "start_time": "2024-09-22T19:03:28.673Z"
   },
   {
    "duration": 13,
    "start_time": "2024-09-22T19:03:28.689Z"
   },
   {
    "duration": 22,
    "start_time": "2024-09-22T19:03:28.703Z"
   },
   {
    "duration": 10,
    "start_time": "2024-09-22T19:03:28.726Z"
   },
   {
    "duration": 20,
    "start_time": "2024-09-22T19:03:28.738Z"
   },
   {
    "duration": 10,
    "start_time": "2024-09-22T19:03:28.760Z"
   },
   {
    "duration": 12,
    "start_time": "2024-09-22T19:03:28.789Z"
   },
   {
    "duration": 18,
    "start_time": "2024-09-22T19:03:28.802Z"
   },
   {
    "duration": 10,
    "start_time": "2024-09-22T19:03:28.821Z"
   },
   {
    "duration": 6,
    "start_time": "2024-09-22T19:03:28.833Z"
   },
   {
    "duration": 9,
    "start_time": "2024-09-22T19:03:28.841Z"
   },
   {
    "duration": 38,
    "start_time": "2024-09-22T19:03:28.852Z"
   },
   {
    "duration": 4,
    "start_time": "2024-09-22T19:03:28.892Z"
   },
   {
    "duration": 15,
    "start_time": "2024-09-22T19:03:28.898Z"
   },
   {
    "duration": 8,
    "start_time": "2024-09-22T19:03:28.914Z"
   },
   {
    "duration": 15,
    "start_time": "2024-09-22T19:03:28.924Z"
   },
   {
    "duration": 15,
    "start_time": "2024-09-22T19:03:28.940Z"
   },
   {
    "duration": 133,
    "start_time": "2024-09-22T19:03:28.956Z"
   },
   {
    "duration": 16,
    "start_time": "2024-09-22T19:03:29.090Z"
   },
   {
    "duration": 355,
    "start_time": "2024-09-22T19:03:29.107Z"
   },
   {
    "duration": 287,
    "start_time": "2024-09-22T19:03:29.464Z"
   },
   {
    "duration": 12,
    "start_time": "2024-09-22T19:03:29.752Z"
   },
   {
    "duration": 305,
    "start_time": "2024-09-22T19:03:29.765Z"
   },
   {
    "duration": 23,
    "start_time": "2024-09-22T19:03:30.072Z"
   },
   {
    "duration": 304,
    "start_time": "2024-09-22T19:03:30.098Z"
   },
   {
    "duration": 29,
    "start_time": "2024-09-22T19:03:30.403Z"
   },
   {
    "duration": 282,
    "start_time": "2024-09-22T19:03:30.433Z"
   },
   {
    "duration": 586,
    "start_time": "2024-09-22T19:03:30.716Z"
   },
   {
    "duration": 314,
    "start_time": "2024-09-22T19:03:31.303Z"
   },
   {
    "duration": 8,
    "start_time": "2024-09-22T19:03:31.618Z"
   },
   {
    "duration": 9,
    "start_time": "2024-09-22T19:03:31.628Z"
   },
   {
    "duration": 820,
    "start_time": "2024-09-22T19:03:31.638Z"
   },
   {
    "duration": 907,
    "start_time": "2024-09-22T19:03:32.459Z"
   },
   {
    "duration": 10,
    "start_time": "2024-09-22T19:03:33.368Z"
   },
   {
    "duration": 198,
    "start_time": "2024-09-22T19:03:33.380Z"
   },
   {
    "duration": 269,
    "start_time": "2024-09-22T19:03:33.579Z"
   },
   {
    "duration": 308,
    "start_time": "2024-09-22T19:03:33.850Z"
   },
   {
    "duration": 389,
    "start_time": "2024-09-22T19:03:34.160Z"
   },
   {
    "duration": 329,
    "start_time": "2024-09-22T19:03:34.550Z"
   },
   {
    "duration": 15,
    "start_time": "2024-09-22T19:03:34.881Z"
   },
   {
    "duration": 30,
    "start_time": "2024-09-22T19:03:34.898Z"
   },
   {
    "duration": 7,
    "start_time": "2024-09-22T19:03:34.929Z"
   },
   {
    "duration": 11,
    "start_time": "2024-09-22T19:03:34.937Z"
   },
   {
    "duration": 10,
    "start_time": "2024-09-22T19:03:34.949Z"
   },
   {
    "duration": 21,
    "start_time": "2024-09-22T19:03:34.960Z"
   },
   {
    "duration": 15,
    "start_time": "2024-09-22T19:03:34.983Z"
   },
   {
    "duration": 28,
    "start_time": "2024-09-22T19:03:35.000Z"
   },
   {
    "duration": 788,
    "start_time": "2024-09-22T19:09:34.772Z"
   }
  ],
  "kernelspec": {
   "display_name": "Python 3 (ipykernel)",
   "language": "python",
   "name": "python3"
  },
  "language_info": {
   "codemirror_mode": {
    "name": "ipython",
    "version": 3
   },
   "file_extension": ".py",
   "mimetype": "text/x-python",
   "name": "python",
   "nbconvert_exporter": "python",
   "pygments_lexer": "ipython3",
   "version": "3.9.5"
  },
  "toc": {
   "base_numbering": 1,
   "nav_menu": {},
   "number_sections": true,
   "sideBar": true,
   "skip_h1_title": true,
   "title_cell": "Table of Contents",
   "title_sidebar": "Contents",
   "toc_cell": false,
   "toc_position": {},
   "toc_section_display": true,
   "toc_window_display": false
  }
 },
 "nbformat": 4,
 "nbformat_minor": 2
}
